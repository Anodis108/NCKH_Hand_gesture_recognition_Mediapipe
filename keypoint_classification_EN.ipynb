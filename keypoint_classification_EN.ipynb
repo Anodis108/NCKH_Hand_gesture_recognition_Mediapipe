{
  "cells": [
    {
      "cell_type": "code",
      "execution_count": 73,
      "metadata": {
        "id": "igMyGnjE9hEp"
      },
      "outputs": [],
      "source": [
        "import csv\n",
        "\n",
        "import pandas as pd\n",
        "import numpy as np\n",
        "import tensorflow as tf\n",
        "from sklearn.model_selection import train_test_split\n",
        "\n",
        "tf.device('/gpu:0')\n",
        "RANDOM_SEED = 42"
      ]
    },
    {
      "cell_type": "markdown",
      "metadata": {
        "id": "t2HDvhIu9hEr"
      },
      "source": [
        "# Specify each path"
      ]
    },
    {
      "cell_type": "code",
      "execution_count": 74,
      "metadata": {
        "id": "9NvZP2Zn9hEy"
      },
      "outputs": [],
      "source": [
        "dataset = 'model/keypoint_classifier/keypoint.csv'\n",
        "model_save_path = 'model/keypoint_classifier/keypoint_classifier.hdf5'\n",
        "tflite_save_path = 'model/keypoint_classifier/keypoint_classifier.tflite'"
      ]
    },
    {
      "cell_type": "markdown",
      "metadata": {
        "id": "s5oMH7x19hEz"
      },
      "source": [
        "# Set number of classes"
      ]
    },
    {
      "cell_type": "code",
      "execution_count": 75,
      "metadata": {
        "id": "du4kodXL9hEz"
      },
      "outputs": [],
      "source": [
        "NUM_CLASSES = 6"
      ]
    },
    {
      "cell_type": "markdown",
      "metadata": {
        "id": "XjnL0uso9hEz"
      },
      "source": [
        "# Dataset reading"
      ]
    },
    {
      "cell_type": "code",
      "execution_count": 76,
      "metadata": {
        "id": "QT5ZqtEz9hE0"
      },
      "outputs": [],
      "source": [
        "X_dataset = np.loadtxt(dataset, delimiter=',', dtype='float32', usecols=list(range(1, (21 * 2) + 1)))"
      ]
    },
    {
      "cell_type": "code",
      "execution_count": 77,
      "metadata": {
        "id": "QmoKFsp49hE0"
      },
      "outputs": [],
      "source": [
        "y_dataset = np.loadtxt(dataset, delimiter=',', dtype='int32', usecols=(0))"
      ]
    },
    {
      "cell_type": "code",
      "execution_count": 78,
      "metadata": {
        "id": "xQU7JTZ_9hE0"
      },
      "outputs": [],
      "source": [
        "X_train, X_test, y_train, y_test = train_test_split(X_dataset, y_dataset, train_size=0.75, random_state=RANDOM_SEED)"
      ]
    },
    {
      "cell_type": "code",
      "execution_count": 79,
      "metadata": {},
      "outputs": [
        {
          "name": "stdout",
          "output_type": "stream",
          "text": [
            "        0    1    2         3         4         5         6         7   \\\n",
            "0      0.0  0.0  0.0 -0.122378 -0.108392 -0.227273 -0.307692 -0.171329   \n",
            "1      0.0  0.0  0.0 -0.125436 -0.097561 -0.233449 -0.292683 -0.177700   \n",
            "2      0.0  0.0  0.0 -0.122378 -0.101399 -0.227273 -0.293706 -0.174825   \n",
            "3      0.0  0.0  0.0 -0.125874 -0.090909 -0.230769 -0.283217 -0.178322   \n",
            "4      0.0  0.0  0.0 -0.125874 -0.087413 -0.237762 -0.283217 -0.181818   \n",
            "...    ...  ...  ...       ...       ...       ...       ...       ...   \n",
            "20235  5.0  0.0  0.0 -0.198830 -0.029240 -0.397661 -0.087719 -0.573099   \n",
            "20236  5.0  0.0  0.0 -0.198830 -0.029240 -0.403509 -0.087719 -0.573099   \n",
            "20237  5.0  0.0  0.0 -0.201183 -0.029586 -0.402367 -0.082840 -0.573964   \n",
            "20238  5.0  0.0  0.0 -0.177665 -0.081218 -0.350254 -0.203046 -0.492386   \n",
            "20239  5.0  0.0  0.0 -0.161765 -0.093137 -0.313726 -0.240196 -0.431373   \n",
            "\n",
            "             8         9   ...        33        34        35        36  \\\n",
            "0     -0.468531 -0.027972  ... -0.003497 -0.272727  0.209790 -0.395105   \n",
            "1     -0.456446 -0.038328  ... -0.013937 -0.264808  0.205575 -0.397213   \n",
            "2     -0.454545 -0.038462  ... -0.010490 -0.269231  0.206294 -0.395105   \n",
            "3     -0.447552 -0.041958  ... -0.006993 -0.258741  0.209790 -0.391608   \n",
            "4     -0.447552 -0.038462  ... -0.013986 -0.255245  0.199301 -0.395105   \n",
            "...         ...       ...  ...       ...       ...       ...       ...   \n",
            "20235 -0.116959 -0.719298  ...  0.263158 -0.871345  0.152047 -0.380117   \n",
            "20236 -0.116959 -0.725146  ...  0.257310 -0.871345  0.146199 -0.380117   \n",
            "20237 -0.112426 -0.727811  ...  0.266272 -0.875740  0.147929 -0.378698   \n",
            "20238 -0.279188 -0.619289  ...  0.187817 -0.918782  0.142132 -0.411168   \n",
            "20239 -0.352941 -0.549020  ...  0.147059 -0.901961  0.151961 -0.411765   \n",
            "\n",
            "             37        38        39        40        41        42  \n",
            "0      0.139860 -0.440559  0.073427 -0.318182  0.076923 -0.258741  \n",
            "1      0.132404 -0.428571  0.066202 -0.303136  0.073171 -0.250871  \n",
            "2      0.139860 -0.437063  0.076923 -0.311189  0.076923 -0.258741  \n",
            "3      0.129371 -0.426573  0.069930 -0.297203  0.076923 -0.248252  \n",
            "4      0.132867 -0.419580  0.069930 -0.297203  0.069930 -0.244755  \n",
            "...         ...       ...       ...       ...       ...       ...  \n",
            "20235  0.280702 -0.485380  0.385965 -0.532164  0.473684 -0.578947  \n",
            "20236  0.274854 -0.485380  0.374269 -0.532164  0.467836 -0.584795  \n",
            "20237  0.278107 -0.485207  0.384615 -0.532544  0.473373 -0.585799  \n",
            "20238  0.238579 -0.532995  0.309645 -0.614213  0.365482 -0.690355  \n",
            "20239  0.235294 -0.539216  0.289216 -0.627451  0.333333 -0.710784  \n",
            "\n",
            "[20240 rows x 43 columns]\n"
          ]
        }
      ],
      "source": [
        "X_dataset_check = np.loadtxt(dataset, delimiter=',', dtype='float32', usecols=list(range(0, (21 * 2) + 1)))\n",
        "b = pd.DataFrame(X_dataset_check)\n",
        "print(b)"
      ]
    },
    {
      "cell_type": "code",
      "execution_count": 80,
      "metadata": {},
      "outputs": [
        {
          "data": {
            "text/plain": [
              "0\n",
              "0.0    4697\n",
              "1.0    3166\n",
              "2.0    2837\n",
              "3.0    2931\n",
              "4.0    3257\n",
              "5.0    3352\n",
              "dtype: int64"
            ]
          },
          "execution_count": 80,
          "metadata": {},
          "output_type": "execute_result"
        }
      ],
      "source": [
        "b.groupby(0).size()\n"
      ]
    },
    {
      "cell_type": "markdown",
      "metadata": {
        "id": "mxK_lETT9hE0"
      },
      "source": [
        "# Model building"
      ]
    },
    {
      "cell_type": "code",
      "execution_count": 81,
      "metadata": {
        "id": "vHBmUf1t9hE1"
      },
      "outputs": [],
      "source": [
        "model = tf.keras.models.Sequential([\n",
        "    tf.keras.layers.Input((21 * 2, )),\n",
        "    tf.keras.layers.Dropout(0.2),\n",
        "    tf.keras.layers.Dense(20, activation='relu'),\n",
        "    tf.keras.layers.Dropout(0.4),\n",
        "    tf.keras.layers.Dense(10, activation='relu'),\n",
        "    tf.keras.layers.Dense(NUM_CLASSES, activation='softmax')\n",
        "])"
      ]
    },
    {
      "cell_type": "code",
      "execution_count": 82,
      "metadata": {
        "colab": {
          "base_uri": "https://localhost:8080/"
        },
        "id": "ypqky9tc9hE1",
        "outputId": "5db082bb-30e3-4110-bf63-a1ee777ecd46"
      },
      "outputs": [
        {
          "name": "stdout",
          "output_type": "stream",
          "text": [
            "Model: \"sequential_3\"\n",
            "_________________________________________________________________\n",
            " Layer (type)                Output Shape              Param #   \n",
            "=================================================================\n",
            " dropout_6 (Dropout)         (None, 42)                0         \n",
            "                                                                 \n",
            " dense_9 (Dense)             (None, 20)                860       \n",
            "                                                                 \n",
            " dropout_7 (Dropout)         (None, 20)                0         \n",
            "                                                                 \n",
            " dense_10 (Dense)            (None, 10)                210       \n",
            "                                                                 \n",
            " dense_11 (Dense)            (None, 6)                 66        \n",
            "                                                                 \n",
            "=================================================================\n",
            "Total params: 1,136\n",
            "Trainable params: 1,136\n",
            "Non-trainable params: 0\n",
            "_________________________________________________________________\n"
          ]
        }
      ],
      "source": [
        "model.summary()  # tf.keras.utils.plot_model(model, show_shapes=True)"
      ]
    },
    {
      "cell_type": "code",
      "execution_count": 83,
      "metadata": {
        "id": "MbMjOflQ9hE1"
      },
      "outputs": [],
      "source": [
        "# Model checkpoint callback\n",
        "cp_callback = tf.keras.callbacks.ModelCheckpoint(\n",
        "    model_save_path, verbose=1, save_weights_only=False) # automatically save your model\n",
        "# verbose : gọi lại thông báo mỗi khi thông báo\n",
        "# save_weights_only: lưu lại cả mô hình lẫn thông số mô hình nếu False\n",
        "\n",
        "# Callback for early stopping\n",
        "es_callback = tf.keras.callbacks.EarlyStopping(patience=20, verbose=1)\n",
        "# dừng quá trình đào tạo nếu hiệu suất mô hình ko đc cải thiện"
      ]
    },
    {
      "cell_type": "code",
      "execution_count": 84,
      "metadata": {
        "id": "c3Dac0M_9hE2"
      },
      "outputs": [],
      "source": [
        "# Model compilation\n",
        "model.compile(\n",
        "    optimizer='adam', # hàm tối ưu\n",
        "    loss='sparse_categorical_crossentropy', # hàm mất mát\n",
        "    metrics=['accuracy'] # thuước  đo đánh giá\n",
        ")"
      ]
    },
    {
      "cell_type": "markdown",
      "metadata": {
        "id": "7XI0j1Iu9hE2"
      },
      "source": [
        "# Model training"
      ]
    },
    {
      "cell_type": "code",
      "execution_count": 85,
      "metadata": {
        "colab": {
          "base_uri": "https://localhost:8080/"
        },
        "id": "WirBl-JE9hE3",
        "outputId": "71b30ca2-8294-4d9d-8aa2-800d90d399de",
        "scrolled": true
      },
      "outputs": [
        {
          "name": "stdout",
          "output_type": "stream",
          "text": [
            "Epoch 1/1000\n",
            "119/119 [==============================] - ETA: 0s - loss: 1.7685 - accuracy: 0.2160\n",
            "Epoch 1: saving model to model/keypoint_classifier\\keypoint_classifier.hdf5\n",
            "119/119 [==============================] - 2s 9ms/step - loss: 1.7685 - accuracy: 0.2160 - val_loss: 1.6144 - val_accuracy: 0.4504\n",
            "Epoch 2/1000\n",
            "103/119 [========================>.....] - ETA: 0s - loss: 1.5893 - accuracy: 0.3463\n",
            "Epoch 2: saving model to model/keypoint_classifier\\keypoint_classifier.hdf5\n",
            "119/119 [==============================] - 0s 3ms/step - loss: 1.5776 - accuracy: 0.3507 - val_loss: 1.2893 - val_accuracy: 0.6132\n",
            "Epoch 3/1000\n",
            "105/119 [=========================>....] - ETA: 0s - loss: 1.4185 - accuracy: 0.4078\n",
            "Epoch 3: saving model to model/keypoint_classifier\\keypoint_classifier.hdf5\n",
            "119/119 [==============================] - 0s 2ms/step - loss: 1.4147 - accuracy: 0.4088 - val_loss: 1.0766 - val_accuracy: 0.7219\n",
            "Epoch 4/1000\n",
            "109/119 [==========================>...] - ETA: 0s - loss: 1.3355 - accuracy: 0.4469\n",
            "Epoch 4: saving model to model/keypoint_classifier\\keypoint_classifier.hdf5\n",
            "119/119 [==============================] - 0s 2ms/step - loss: 1.3332 - accuracy: 0.4489 - val_loss: 1.0015 - val_accuracy: 0.7385\n",
            "Epoch 5/1000\n",
            "109/119 [==========================>...] - ETA: 0s - loss: 1.2674 - accuracy: 0.4723\n",
            "Epoch 5: saving model to model/keypoint_classifier\\keypoint_classifier.hdf5\n",
            "119/119 [==============================] - 0s 2ms/step - loss: 1.2668 - accuracy: 0.4723 - val_loss: 0.9343 - val_accuracy: 0.7229\n",
            "Epoch 6/1000\n",
            "115/119 [===========================>..] - ETA: 0s - loss: 1.2350 - accuracy: 0.4888\n",
            "Epoch 6: saving model to model/keypoint_classifier\\keypoint_classifier.hdf5\n",
            "119/119 [==============================] - 0s 2ms/step - loss: 1.2352 - accuracy: 0.4899 - val_loss: 0.8990 - val_accuracy: 0.7431\n",
            "Epoch 7/1000\n",
            "105/119 [=========================>....] - ETA: 0s - loss: 1.2034 - accuracy: 0.5072\n",
            "Epoch 7: saving model to model/keypoint_classifier\\keypoint_classifier.hdf5\n",
            "119/119 [==============================] - 0s 2ms/step - loss: 1.2005 - accuracy: 0.5080 - val_loss: 0.8592 - val_accuracy: 0.7518\n",
            "Epoch 8/1000\n",
            "111/119 [==========================>...] - ETA: 0s - loss: 1.1639 - accuracy: 0.5232\n",
            "Epoch 8: saving model to model/keypoint_classifier\\keypoint_classifier.hdf5\n",
            "119/119 [==============================] - 0s 2ms/step - loss: 1.1629 - accuracy: 0.5235 - val_loss: 0.8195 - val_accuracy: 0.7686\n",
            "Epoch 9/1000\n",
            " 84/119 [====================>.........] - ETA: 0s - loss: 1.1434 - accuracy: 0.5291\n",
            "Epoch 9: saving model to model/keypoint_classifier\\keypoint_classifier.hdf5\n",
            "119/119 [==============================] - 0s 2ms/step - loss: 1.1369 - accuracy: 0.5340 - val_loss: 0.7965 - val_accuracy: 0.7528\n",
            "Epoch 10/1000\n",
            "108/119 [==========================>...] - ETA: 0s - loss: 1.1176 - accuracy: 0.5433\n",
            "Epoch 10: saving model to model/keypoint_classifier\\keypoint_classifier.hdf5\n",
            "119/119 [==============================] - 0s 2ms/step - loss: 1.1178 - accuracy: 0.5435 - val_loss: 0.7693 - val_accuracy: 0.7743\n",
            "Epoch 11/1000\n",
            " 81/119 [===================>..........] - ETA: 0s - loss: 1.1092 - accuracy: 0.5485\n",
            "Epoch 11: saving model to model/keypoint_classifier\\keypoint_classifier.hdf5\n",
            "119/119 [==============================] - 0s 2ms/step - loss: 1.1034 - accuracy: 0.5531 - val_loss: 0.7552 - val_accuracy: 0.7905\n",
            "Epoch 12/1000\n",
            " 87/119 [====================>.........] - ETA: 0s - loss: 1.0546 - accuracy: 0.5691\n",
            "Epoch 12: saving model to model/keypoint_classifier\\keypoint_classifier.hdf5\n",
            "119/119 [==============================] - 0s 2ms/step - loss: 1.0535 - accuracy: 0.5695 - val_loss: 0.7248 - val_accuracy: 0.7960\n",
            "Epoch 13/1000\n",
            "111/119 [==========================>...] - ETA: 0s - loss: 1.0561 - accuracy: 0.5693\n",
            "Epoch 13: saving model to model/keypoint_classifier\\keypoint_classifier.hdf5\n",
            "119/119 [==============================] - 0s 2ms/step - loss: 1.0531 - accuracy: 0.5712 - val_loss: 0.7101 - val_accuracy: 0.7998\n",
            "Epoch 14/1000\n",
            "107/119 [=========================>....] - ETA: 0s - loss: 1.0366 - accuracy: 0.5866\n",
            "Epoch 14: saving model to model/keypoint_classifier\\keypoint_classifier.hdf5\n",
            "119/119 [==============================] - 0s 2ms/step - loss: 1.0350 - accuracy: 0.5877 - val_loss: 0.6923 - val_accuracy: 0.8057\n",
            "Epoch 15/1000\n",
            "107/119 [=========================>....] - ETA: 0s - loss: 1.0084 - accuracy: 0.5921\n",
            "Epoch 15: saving model to model/keypoint_classifier\\keypoint_classifier.hdf5\n",
            "119/119 [==============================] - 0s 2ms/step - loss: 1.0106 - accuracy: 0.5908 - val_loss: 0.6922 - val_accuracy: 0.8024\n",
            "Epoch 16/1000\n",
            "112/119 [===========================>..] - ETA: 0s - loss: 0.9991 - accuracy: 0.6011\n",
            "Epoch 16: saving model to model/keypoint_classifier\\keypoint_classifier.hdf5\n",
            "119/119 [==============================] - 0s 2ms/step - loss: 0.9981 - accuracy: 0.6015 - val_loss: 0.6649 - val_accuracy: 0.8105\n",
            "Epoch 17/1000\n",
            "109/119 [==========================>...] - ETA: 0s - loss: 0.9927 - accuracy: 0.5972\n",
            "Epoch 17: saving model to model/keypoint_classifier\\keypoint_classifier.hdf5\n",
            "119/119 [==============================] - 0s 2ms/step - loss: 0.9896 - accuracy: 0.5970 - val_loss: 0.6615 - val_accuracy: 0.8047\n",
            "Epoch 18/1000\n",
            " 94/119 [======================>.......] - ETA: 0s - loss: 0.9782 - accuracy: 0.6055\n",
            "Epoch 18: saving model to model/keypoint_classifier\\keypoint_classifier.hdf5\n",
            "119/119 [==============================] - 0s 3ms/step - loss: 0.9778 - accuracy: 0.6051 - val_loss: 0.6665 - val_accuracy: 0.8085\n",
            "Epoch 19/1000\n",
            " 93/119 [======================>.......] - ETA: 0s - loss: 0.9708 - accuracy: 0.6111\n",
            "Epoch 19: saving model to model/keypoint_classifier\\keypoint_classifier.hdf5\n",
            "119/119 [==============================] - 0s 2ms/step - loss: 0.9648 - accuracy: 0.6137 - val_loss: 0.6637 - val_accuracy: 0.8059\n",
            "Epoch 20/1000\n",
            "100/119 [========================>.....] - ETA: 0s - loss: 0.9555 - accuracy: 0.6141\n",
            "Epoch 20: saving model to model/keypoint_classifier\\keypoint_classifier.hdf5\n",
            "119/119 [==============================] - 0s 2ms/step - loss: 0.9557 - accuracy: 0.6150 - val_loss: 0.6653 - val_accuracy: 0.8170\n",
            "Epoch 21/1000\n",
            " 97/119 [=======================>......] - ETA: 0s - loss: 0.9466 - accuracy: 0.6223\n",
            "Epoch 21: saving model to model/keypoint_classifier\\keypoint_classifier.hdf5\n",
            "119/119 [==============================] - 0s 2ms/step - loss: 0.9466 - accuracy: 0.6215 - val_loss: 0.6449 - val_accuracy: 0.8257\n",
            "Epoch 22/1000\n",
            " 98/119 [=======================>......] - ETA: 0s - loss: 0.9390 - accuracy: 0.6252\n",
            "Epoch 22: saving model to model/keypoint_classifier\\keypoint_classifier.hdf5\n",
            "119/119 [==============================] - 0s 2ms/step - loss: 0.9388 - accuracy: 0.6260 - val_loss: 0.6473 - val_accuracy: 0.8182\n",
            "Epoch 23/1000\n",
            " 99/119 [=======================>......] - ETA: 0s - loss: 0.9270 - accuracy: 0.6262\n",
            "Epoch 23: saving model to model/keypoint_classifier\\keypoint_classifier.hdf5\n",
            "119/119 [==============================] - 0s 2ms/step - loss: 0.9297 - accuracy: 0.6243 - val_loss: 0.6621 - val_accuracy: 0.8243\n",
            "Epoch 24/1000\n",
            " 98/119 [=======================>......] - ETA: 0s - loss: 0.9270 - accuracy: 0.6305\n",
            "Epoch 24: saving model to model/keypoint_classifier\\keypoint_classifier.hdf5\n",
            "119/119 [==============================] - 0s 2ms/step - loss: 0.9251 - accuracy: 0.6316 - val_loss: 0.6234 - val_accuracy: 0.8298\n",
            "Epoch 25/1000\n",
            " 99/119 [=======================>......] - ETA: 0s - loss: 0.9099 - accuracy: 0.6357\n",
            "Epoch 25: saving model to model/keypoint_classifier\\keypoint_classifier.hdf5\n",
            "119/119 [==============================] - 0s 2ms/step - loss: 0.9062 - accuracy: 0.6368 - val_loss: 0.6308 - val_accuracy: 0.8271\n",
            "Epoch 26/1000\n",
            " 89/119 [=====================>........] - ETA: 0s - loss: 0.8992 - accuracy: 0.6355\n",
            "Epoch 26: saving model to model/keypoint_classifier\\keypoint_classifier.hdf5\n",
            "119/119 [==============================] - 0s 2ms/step - loss: 0.8948 - accuracy: 0.6393 - val_loss: 0.6308 - val_accuracy: 0.8233\n",
            "Epoch 27/1000\n",
            "101/119 [========================>.....] - ETA: 0s - loss: 0.8906 - accuracy: 0.6426\n",
            "Epoch 27: saving model to model/keypoint_classifier\\keypoint_classifier.hdf5\n",
            "119/119 [==============================] - 0s 2ms/step - loss: 0.8866 - accuracy: 0.6440 - val_loss: 0.6148 - val_accuracy: 0.8344\n",
            "Epoch 28/1000\n",
            "101/119 [========================>.....] - ETA: 0s - loss: 0.8854 - accuracy: 0.6418\n",
            "Epoch 28: saving model to model/keypoint_classifier\\keypoint_classifier.hdf5\n",
            "119/119 [==============================] - 0s 2ms/step - loss: 0.8848 - accuracy: 0.6423 - val_loss: 0.6044 - val_accuracy: 0.8401\n",
            "Epoch 29/1000\n",
            "101/119 [========================>.....] - ETA: 0s - loss: 0.8758 - accuracy: 0.6506\n",
            "Epoch 29: saving model to model/keypoint_classifier\\keypoint_classifier.hdf5\n",
            "119/119 [==============================] - 0s 2ms/step - loss: 0.8819 - accuracy: 0.6474 - val_loss: 0.6403 - val_accuracy: 0.8170\n",
            "Epoch 30/1000\n",
            "102/119 [========================>.....] - ETA: 0s - loss: 0.8691 - accuracy: 0.6480\n",
            "Epoch 30: saving model to model/keypoint_classifier\\keypoint_classifier.hdf5\n",
            "119/119 [==============================] - 0s 2ms/step - loss: 0.8643 - accuracy: 0.6507 - val_loss: 0.6239 - val_accuracy: 0.8302\n",
            "Epoch 31/1000\n",
            "101/119 [========================>.....] - ETA: 0s - loss: 0.8567 - accuracy: 0.6542\n",
            "Epoch 31: saving model to model/keypoint_classifier\\keypoint_classifier.hdf5\n",
            "119/119 [==============================] - 0s 2ms/step - loss: 0.8584 - accuracy: 0.6550 - val_loss: 0.6403 - val_accuracy: 0.8034\n",
            "Epoch 32/1000\n",
            " 94/119 [======================>.......] - ETA: 0s - loss: 0.8558 - accuracy: 0.6587\n",
            "Epoch 32: saving model to model/keypoint_classifier\\keypoint_classifier.hdf5\n",
            "119/119 [==============================] - 0s 2ms/step - loss: 0.8555 - accuracy: 0.6594 - val_loss: 0.6138 - val_accuracy: 0.8253\n",
            "Epoch 33/1000\n",
            "105/119 [=========================>....] - ETA: 0s - loss: 0.8627 - accuracy: 0.6565\n",
            "Epoch 33: saving model to model/keypoint_classifier\\keypoint_classifier.hdf5\n",
            "119/119 [==============================] - 0s 2ms/step - loss: 0.8637 - accuracy: 0.6567 - val_loss: 0.6378 - val_accuracy: 0.8229\n",
            "Epoch 34/1000\n",
            "105/119 [=========================>....] - ETA: 0s - loss: 0.8391 - accuracy: 0.6628\n",
            "Epoch 34: saving model to model/keypoint_classifier\\keypoint_classifier.hdf5\n",
            "119/119 [==============================] - 0s 2ms/step - loss: 0.8390 - accuracy: 0.6631 - val_loss: 0.6058 - val_accuracy: 0.8257\n",
            "Epoch 35/1000\n",
            "105/119 [=========================>....] - ETA: 0s - loss: 0.8453 - accuracy: 0.6615\n",
            "Epoch 35: saving model to model/keypoint_classifier\\keypoint_classifier.hdf5\n",
            "119/119 [==============================] - 0s 2ms/step - loss: 0.8475 - accuracy: 0.6610 - val_loss: 0.6414 - val_accuracy: 0.7988\n",
            "Epoch 36/1000\n",
            "105/119 [=========================>....] - ETA: 0s - loss: 0.8383 - accuracy: 0.6650\n",
            "Epoch 36: saving model to model/keypoint_classifier\\keypoint_classifier.hdf5\n",
            "119/119 [==============================] - 0s 2ms/step - loss: 0.8340 - accuracy: 0.6669 - val_loss: 0.6193 - val_accuracy: 0.8249\n",
            "Epoch 37/1000\n",
            "106/119 [=========================>....] - ETA: 0s - loss: 0.8366 - accuracy: 0.6670\n",
            "Epoch 37: saving model to model/keypoint_classifier\\keypoint_classifier.hdf5\n",
            "119/119 [==============================] - 0s 2ms/step - loss: 0.8346 - accuracy: 0.6669 - val_loss: 0.6132 - val_accuracy: 0.8308\n",
            "Epoch 38/1000\n",
            "110/119 [==========================>...] - ETA: 0s - loss: 0.8361 - accuracy: 0.6671\n",
            "Epoch 38: saving model to model/keypoint_classifier\\keypoint_classifier.hdf5\n",
            "119/119 [==============================] - 0s 3ms/step - loss: 0.8380 - accuracy: 0.6661 - val_loss: 0.6235 - val_accuracy: 0.8273\n",
            "Epoch 39/1000\n",
            "105/119 [=========================>....] - ETA: 0s - loss: 0.8154 - accuracy: 0.6753\n",
            "Epoch 39: saving model to model/keypoint_classifier\\keypoint_classifier.hdf5\n",
            "119/119 [==============================] - 0s 2ms/step - loss: 0.8185 - accuracy: 0.6735 - val_loss: 0.6382 - val_accuracy: 0.8160\n",
            "Epoch 40/1000\n",
            "107/119 [=========================>....] - ETA: 0s - loss: 0.8186 - accuracy: 0.6741\n",
            "Epoch 40: saving model to model/keypoint_classifier\\keypoint_classifier.hdf5\n",
            "119/119 [==============================] - 0s 2ms/step - loss: 0.8150 - accuracy: 0.6751 - val_loss: 0.6076 - val_accuracy: 0.8405\n",
            "Epoch 41/1000\n",
            "105/119 [=========================>....] - ETA: 0s - loss: 0.8249 - accuracy: 0.6628\n",
            "Epoch 41: saving model to model/keypoint_classifier\\keypoint_classifier.hdf5\n",
            "119/119 [==============================] - 0s 2ms/step - loss: 0.8253 - accuracy: 0.6632 - val_loss: 0.6155 - val_accuracy: 0.8291\n",
            "Epoch 42/1000\n",
            "106/119 [=========================>....] - ETA: 0s - loss: 0.8072 - accuracy: 0.6756\n",
            "Epoch 42: saving model to model/keypoint_classifier\\keypoint_classifier.hdf5\n",
            "119/119 [==============================] - 0s 2ms/step - loss: 0.8059 - accuracy: 0.6775 - val_loss: 0.6304 - val_accuracy: 0.8121\n",
            "Epoch 43/1000\n",
            "106/119 [=========================>....] - ETA: 0s - loss: 0.8079 - accuracy: 0.6776\n",
            "Epoch 43: saving model to model/keypoint_classifier\\keypoint_classifier.hdf5\n",
            "119/119 [==============================] - 0s 2ms/step - loss: 0.8110 - accuracy: 0.6750 - val_loss: 0.6293 - val_accuracy: 0.8235\n",
            "Epoch 44/1000\n",
            "109/119 [==========================>...] - ETA: 0s - loss: 0.8099 - accuracy: 0.6754\n",
            "Epoch 44: saving model to model/keypoint_classifier\\keypoint_classifier.hdf5\n",
            "119/119 [==============================] - 0s 2ms/step - loss: 0.8070 - accuracy: 0.6764 - val_loss: 0.6154 - val_accuracy: 0.8294\n",
            "Epoch 45/1000\n",
            "104/119 [=========================>....] - ETA: 0s - loss: 0.8058 - accuracy: 0.6787\n",
            "Epoch 45: saving model to model/keypoint_classifier\\keypoint_classifier.hdf5\n",
            "119/119 [==============================] - 0s 2ms/step - loss: 0.8048 - accuracy: 0.6792 - val_loss: 0.6267 - val_accuracy: 0.8217\n",
            "Epoch 46/1000\n",
            "107/119 [=========================>....] - ETA: 0s - loss: 0.8083 - accuracy: 0.6760\n",
            "Epoch 46: saving model to model/keypoint_classifier\\keypoint_classifier.hdf5\n",
            "119/119 [==============================] - 0s 2ms/step - loss: 0.8048 - accuracy: 0.6777 - val_loss: 0.6577 - val_accuracy: 0.7879\n",
            "Epoch 47/1000\n",
            "101/119 [========================>.....] - ETA: 0s - loss: 0.7941 - accuracy: 0.6784\n",
            "Epoch 47: saving model to model/keypoint_classifier\\keypoint_classifier.hdf5\n",
            "119/119 [==============================] - 0s 2ms/step - loss: 0.7948 - accuracy: 0.6783 - val_loss: 0.6377 - val_accuracy: 0.8150\n",
            "Epoch 48/1000\n",
            "106/119 [=========================>....] - ETA: 0s - loss: 0.7878 - accuracy: 0.6798\n",
            "Epoch 48: saving model to model/keypoint_classifier\\keypoint_classifier.hdf5\n",
            "119/119 [==============================] - 0s 2ms/step - loss: 0.7856 - accuracy: 0.6798 - val_loss: 0.6332 - val_accuracy: 0.8265\n",
            "Epoch 48: early stopping\n"
          ]
        },
        {
          "data": {
            "text/plain": [
              "<keras.callbacks.History at 0x22ccc54e490>"
            ]
          },
          "execution_count": 85,
          "metadata": {},
          "output_type": "execute_result"
        }
      ],
      "source": [
        "model.fit(\n",
        "    X_train,\n",
        "    y_train,\n",
        "    epochs=1000,\n",
        "    batch_size=128,\n",
        "    validation_data=(X_test, y_test),\n",
        "    callbacks=[cp_callback, es_callback]\n",
        ")"
      ]
    },
    {
      "cell_type": "code",
      "execution_count": 86,
      "metadata": {
        "colab": {
          "base_uri": "https://localhost:8080/"
        },
        "id": "pxvb2Y299hE3",
        "outputId": "59eb3185-2e37-4b9e-bc9d-ab1b8ac29b7f"
      },
      "outputs": [
        {
          "name": "stdout",
          "output_type": "stream",
          "text": [
            "40/40 [==============================] - 0s 1ms/step - loss: 0.6332 - accuracy: 0.8265\n"
          ]
        }
      ],
      "source": [
        "# Model evaluation\n",
        "val_loss, val_acc = model.evaluate(X_test, y_test, batch_size=128)"
      ]
    },
    {
      "cell_type": "code",
      "execution_count": 87,
      "metadata": {
        "id": "RBkmDeUW9hE4"
      },
      "outputs": [],
      "source": [
        "# Loading the saved model\n",
        "model = tf.keras.models.load_model(model_save_path)"
      ]
    },
    {
      "cell_type": "code",
      "execution_count": 88,
      "metadata": {
        "colab": {
          "base_uri": "https://localhost:8080/"
        },
        "id": "tFz9Tb0I9hE4",
        "outputId": "1c3b3528-54ae-4ee2-ab04-77429211cbef"
      },
      "outputs": [
        {
          "name": "stdout",
          "output_type": "stream",
          "text": [
            "1/1 [==============================] - 0s 83ms/step\n",
            "[8.2965270e-03 6.6764331e-01 1.5971331e-02 1.5102557e-04 3.0642378e-01\n",
            " 1.5139814e-03]\n",
            "1\n"
          ]
        }
      ],
      "source": [
        "# Inference test\n",
        "predict_result = model.predict(np.array([X_test[0]]))\n",
        "print(np.squeeze(predict_result))\n",
        "print(np.argmax(np.squeeze(predict_result)))"
      ]
    },
    {
      "cell_type": "markdown",
      "metadata": {
        "id": "S3U4yNWx9hE4"
      },
      "source": [
        "# Confusion matrix"
      ]
    },
    {
      "cell_type": "code",
      "execution_count": 89,
      "metadata": {
        "colab": {
          "base_uri": "https://localhost:8080/",
          "height": 582
        },
        "id": "AP1V6SCk9hE5",
        "outputId": "08e41a80-7a4a-4619-8125-ecc371368d19"
      },
      "outputs": [
        {
          "name": "stdout",
          "output_type": "stream",
          "text": [
            "159/159 [==============================] - 0s 860us/step\n"
          ]
        },
        {
          "data": {
            "image/png": "[encoded data removed]",
            "text/plain": [
              "<Figure size 700x600 with 2 Axes>"
            ]
          },
          "metadata": {},
          "output_type": "display_data"
        },
        {
          "name": "stdout",
          "output_type": "stream",
          "text": [
            "Classification Report\n",
            "              precision    recall  f1-score   support\n",
            "\n",
            "           0       0.92      0.67      0.77      1167\n",
            "           1       0.94      0.85      0.89       787\n",
            "           2       0.99      0.96      0.97       742\n",
            "           3       0.60      0.98      0.75       741\n",
            "           4       0.86      0.94      0.90       818\n",
            "           5       0.78      0.65      0.71       805\n",
            "\n",
            "    accuracy                           0.83      5060\n",
            "   macro avg       0.85      0.84      0.83      5060\n",
            "weighted avg       0.85      0.83      0.83      5060\n",
            "\n"
          ]
        }
      ],
      "source": [
        "import pandas as pd\n",
        "import seaborn as sns\n",
        "import matplotlib.pyplot as plt\n",
        "from sklearn.metrics import confusion_matrix, classification_report\n",
        "\n",
        "def print_confusion_matrix(y_true, y_pred, report=True):\n",
        "    labels = sorted(list(set(y_true)))\n",
        "    cmx_data = confusion_matrix(y_true, y_pred, labels=labels)\n",
        "    \n",
        "    df_cmx = pd.DataFrame(cmx_data, index=labels, columns=labels)\n",
        " \n",
        "    fig, ax = plt.subplots(figsize=(7, 6))\n",
        "    sns.heatmap(df_cmx, annot=True, fmt='g' ,square=False)\n",
        "    ax.set_ylim(len(set(y_true)), 0)\n",
        "    plt.show()\n",
        "    \n",
        "    if report:\n",
        "        print('Classification Report')\n",
        "        print(classification_report(y_test, y_pred))\n",
        "\n",
        "Y_pred = model.predict(X_test)\n",
        "y_pred = np.argmax(Y_pred, axis=1)\n",
        "\n",
        "print_confusion_matrix(y_test, y_pred)"
      ]
    },
    {
      "cell_type": "markdown",
      "metadata": {
        "id": "FNP6aqzc9hE5"
      },
      "source": [
        "# Convert to model for Tensorflow-Lite"
      ]
    },
    {
      "cell_type": "code",
      "execution_count": 90,
      "metadata": {
        "id": "ODjnYyld9hE6"
      },
      "outputs": [],
      "source": [
        "# Save as a model dedicated to inference\n",
        "model.save(model_save_path, include_optimizer=False)"
      ]
    },
    {
      "cell_type": "code",
      "execution_count": 91,
      "metadata": {
        "colab": {
          "base_uri": "https://localhost:8080/"
        },
        "id": "zRfuK8Y59hE6",
        "outputId": "a4ca585c-b5d5-4244-8291-8674063209bb"
      },
      "outputs": [
        {
          "name": "stdout",
          "output_type": "stream",
          "text": [
            "INFO:tensorflow:Assets written to: C:\\Users\\ADMIN\\AppData\\Local\\Temp\\tmpe0lyiicv\\assets\n"
          ]
        },
        {
          "name": "stderr",
          "output_type": "stream",
          "text": [
            "INFO:tensorflow:Assets written to: C:\\Users\\ADMIN\\AppData\\Local\\Temp\\tmpe0lyiicv\\assets\n"
          ]
        },
        {
          "data": {
            "text/plain": [
              "6684"
            ]
          },
          "execution_count": 91,
          "metadata": {},
          "output_type": "execute_result"
        }
      ],
      "source": [
        "# Transform model (quantization)\n",
        "\n",
        "converter = tf.lite.TFLiteConverter.from_keras_model(model)\n",
        "converter.optimizations = [tf.lite.Optimize.DEFAULT]\n",
        "tflite_quantized_model = converter.convert()\n",
        "\n",
        "open(tflite_save_path, 'wb').write(tflite_quantized_model)"
      ]
    },
    {
      "cell_type": "markdown",
      "metadata": {
        "id": "CHBPBXdx9hE6"
      },
      "source": [
        "# Inference test"
      ]
    },
    {
      "cell_type": "code",
      "execution_count": 92,
      "metadata": {
        "id": "mGAzLocO9hE7"
      },
      "outputs": [],
      "source": [
        "interpreter = tf.lite.Interpreter(model_path=tflite_save_path)\n",
        "interpreter.allocate_tensors()"
      ]
    },
    {
      "cell_type": "code",
      "execution_count": 93,
      "metadata": {
        "id": "oQuDK8YS9hE7"
      },
      "outputs": [],
      "source": [
        "# Get I / O tensor\n",
        "input_details = interpreter.get_input_details()\n",
        "output_details = interpreter.get_output_details()"
      ]
    },
    {
      "cell_type": "code",
      "execution_count": 94,
      "metadata": {
        "id": "2_ixAf_l9hE7"
      },
      "outputs": [],
      "source": [
        "interpreter.set_tensor(input_details[0]['index'], np.array([X_test[0]]))"
      ]
    },
    {
      "cell_type": "code",
      "execution_count": 95,
      "metadata": {
        "colab": {
          "base_uri": "https://localhost:8080/"
        },
        "id": "s4FoAnuc9hE7",
        "outputId": "91f18257-8d8b-4ef3-c558-e9b5f94fabbf",
        "scrolled": true
      },
      "outputs": [
        {
          "name": "stdout",
          "output_type": "stream",
          "text": [
            "CPU times: total: 0 ns\n",
            "Wall time: 998 µs\n"
          ]
        }
      ],
      "source": [
        "%%time\n",
        "# Inference implementation\n",
        "interpreter.invoke()\n",
        "tflite_results = interpreter.get_tensor(output_details[0]['index'])"
      ]
    },
    {
      "cell_type": "code",
      "execution_count": 96,
      "metadata": {
        "colab": {
          "base_uri": "https://localhost:8080/"
        },
        "id": "vONjp19J9hE8",
        "outputId": "77205e24-fd00-42c4-f7b6-e06e527c2cba"
      },
      "outputs": [
        {
          "name": "stdout",
          "output_type": "stream",
          "text": [
            "[8.2965158e-03 6.6764337e-01 1.5971325e-02 1.5102544e-04 3.0642372e-01\n",
            " 1.5139814e-03]\n",
            "1\n"
          ]
        }
      ],
      "source": [
        "print(np.squeeze(tflite_results))\n",
        "print(np.argmax(np.squeeze(tflite_results)))"
      ]
    }
  ],
  "metadata": {
    "accelerator": "GPU",
    "colab": {
      "collapsed_sections": [],
      "name": "keypoint_classification_EN.ipynb",
      "provenance": [],
      "toc_visible": true
    },
    "kernelspec": {
      "display_name": "Python 3",
      "language": "python",
      "name": "python3"
    },
    "language_info": {
      "codemirror_mode": {
        "name": "ipython",
        "version": 3
      },
      "file_extension": ".py",
      "mimetype": "text/x-python",
      "name": "python",
      "nbconvert_exporter": "python",
      "pygments_lexer": "ipython3",
      "version": "3.8.17"
    }
  },
  "nbformat": 4,
  "nbformat_minor": 0
}
