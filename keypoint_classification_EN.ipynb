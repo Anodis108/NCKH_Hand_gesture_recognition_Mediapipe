{
  "cells": [
    {
      "cell_type": "code",
      "execution_count": 33,
      "metadata": {
        "id": "igMyGnjE9hEp"
      },
      "outputs": [],
      "source": [
        "import csv\n",
        "\n",
        "import pandas as pd\n",
        "import numpy as np\n",
        "import tensorflow as tf\n",
        "from sklearn.model_selection import train_test_split\n",
        "\n",
        "tf.device('/gpu:0')\n",
        "RANDOM_SEED = 42"
      ]
    },
    {
      "cell_type": "markdown",
      "metadata": {
        "id": "t2HDvhIu9hEr"
      },
      "source": [
        "# Specify each path"
      ]
    },
    {
      "cell_type": "code",
      "execution_count": 34,
      "metadata": {
        "id": "9NvZP2Zn9hEy"
      },
      "outputs": [],
      "source": [
        "dataset = 'model/keypoint_classifier/keypoint.csv'\n",
        "model_save_path = 'model/keypoint_classifier/keypoint_classifier.hdf5'\n",
        "tflite_save_path = 'model/keypoint_classifier/keypoint_classifier.tflite'"
      ]
    },
    {
      "cell_type": "markdown",
      "metadata": {
        "id": "s5oMH7x19hEz"
      },
      "source": [
        "# Set number of classes"
      ]
    },
    {
      "cell_type": "code",
      "execution_count": 35,
      "metadata": {
        "id": "du4kodXL9hEz"
      },
      "outputs": [],
      "source": [
        "NUM_CLASSES = 5"
      ]
    },
    {
      "cell_type": "markdown",
      "metadata": {
        "id": "XjnL0uso9hEz"
      },
      "source": [
        "# Dataset reading"
      ]
    },
    {
      "cell_type": "code",
      "execution_count": 36,
      "metadata": {
        "id": "QT5ZqtEz9hE0"
      },
      "outputs": [],
      "source": [
        "X_dataset = np.loadtxt(dataset, delimiter=',', dtype='float32', usecols=list(range(1, (21 * 2) + 1)))"
      ]
    },
    {
      "cell_type": "code",
      "execution_count": 37,
      "metadata": {
        "id": "QmoKFsp49hE0"
      },
      "outputs": [],
      "source": [
        "y_dataset = np.loadtxt(dataset, delimiter=',', dtype='int32', usecols=(0))"
      ]
    },
    {
      "cell_type": "code",
      "execution_count": 38,
      "metadata": {
        "id": "xQU7JTZ_9hE0"
      },
      "outputs": [],
      "source": [
        "X_train, X_test, y_train, y_test = train_test_split(X_dataset, y_dataset, train_size=0.75, random_state=RANDOM_SEED)"
      ]
    },
    {
      "cell_type": "code",
      "execution_count": 39,
      "metadata": {},
      "outputs": [
        {
          "name": "stdout",
          "output_type": "stream",
          "text": [
            "        0    1    2         3         4         5         6         7   \\\n",
            "0      0.0  0.0  0.0 -0.122378 -0.108392 -0.227273 -0.307692 -0.171329   \n",
            "1      0.0  0.0  0.0 -0.125436 -0.097561 -0.233449 -0.292683 -0.177700   \n",
            "2      0.0  0.0  0.0 -0.122378 -0.101399 -0.227273 -0.293706 -0.174825   \n",
            "3      0.0  0.0  0.0 -0.125874 -0.090909 -0.230769 -0.283217 -0.178322   \n",
            "4      0.0  0.0  0.0 -0.125874 -0.087413 -0.237762 -0.283217 -0.181818   \n",
            "...    ...  ...  ...       ...       ...       ...       ...       ...   \n",
            "15175  4.0  0.0  0.0  0.056000 -0.304000 -0.008000 -0.616000 -0.120000   \n",
            "15176  4.0  0.0  0.0  0.047619 -0.293651 -0.007937 -0.611111 -0.134921   \n",
            "15177  4.0  0.0  0.0  0.023810 -0.301587 -0.055556 -0.642857 -0.222222   \n",
            "15178  4.0  0.0  0.0  0.030534 -0.297710 -0.068702 -0.641221 -0.244275   \n",
            "15179  4.0  0.0  0.0  0.000000 -0.300000 -0.130769 -0.646154 -0.338462   \n",
            "\n",
            "             8         9   ...        33        34        35        36  \\\n",
            "0     -0.468531 -0.027972  ... -0.003497 -0.272727  0.209790 -0.395105   \n",
            "1     -0.456446 -0.038328  ... -0.013937 -0.264808  0.205575 -0.397213   \n",
            "2     -0.454545 -0.038462  ... -0.010490 -0.269231  0.206294 -0.395105   \n",
            "3     -0.447552 -0.041958  ... -0.006993 -0.258741  0.209790 -0.391608   \n",
            "4     -0.447552 -0.038462  ... -0.013986 -0.255245  0.199301 -0.395105   \n",
            "...         ...       ...  ...       ...       ...       ...       ...   \n",
            "15175 -0.848000 -0.272000  ... -0.568000 -0.512000 -0.536000 -0.416000   \n",
            "15176 -0.857143 -0.293651  ... -0.563492 -0.507937 -0.539683 -0.428571   \n",
            "15177 -0.896825 -0.404762  ... -0.571429 -0.492063 -0.547619 -0.404762   \n",
            "15178 -0.900763 -0.435115  ... -0.557252 -0.488550 -0.549618 -0.381679   \n",
            "15179 -0.900000 -0.530769  ... -0.592308 -0.469231 -0.553846 -0.376923   \n",
            "\n",
            "             37        38        39        40        41        42  \n",
            "0      0.139860 -0.440559  0.073427 -0.318182  0.076923 -0.258741  \n",
            "1      0.132404 -0.428571  0.066202 -0.303136  0.073171 -0.250871  \n",
            "2      0.139860 -0.437063  0.076923 -0.311189  0.076923 -0.258741  \n",
            "3      0.129371 -0.426573  0.069930 -0.297203  0.076923 -0.248252  \n",
            "4      0.132867 -0.419580  0.069930 -0.297203  0.069930 -0.244755  \n",
            "...         ...       ...       ...       ...       ...       ...  \n",
            "15175 -0.760000 -0.480000 -0.704000 -0.384000 -0.600000 -0.344000  \n",
            "15176 -0.753968 -0.476190 -0.690476 -0.380952 -0.595238 -0.341270  \n",
            "15177 -0.761905 -0.476190 -0.698413 -0.380952 -0.611111 -0.333333  \n",
            "15178 -0.740458 -0.473282 -0.687023 -0.381679 -0.603053 -0.335878  \n",
            "15179 -0.761538 -0.446154 -0.700000 -0.353846 -0.623077 -0.315385  \n",
            "\n",
            "[15180 rows x 43 columns]\n"
          ]
        }
      ],
      "source": [
        "X_dataset_check = np.loadtxt(dataset, delimiter=',', dtype='float32', usecols=list(range(0, (21 * 2) + 1)))\n",
        "b = pd.DataFrame(X_dataset_check)\n",
        "print(b)"
      ]
    },
    {
      "cell_type": "code",
      "execution_count": 40,
      "metadata": {},
      "outputs": [
        {
          "data": {
            "text/plain": [
              "0\n",
              "0.0    3000\n",
              "1.0    3166\n",
              "2.0    2837\n",
              "3.0    2931\n",
              "4.0    3246\n",
              "dtype: int64"
            ]
          },
          "execution_count": 40,
          "metadata": {},
          "output_type": "execute_result"
        }
      ],
      "source": [
        "b.groupby(0).size()\n"
      ]
    },
    {
      "cell_type": "markdown",
      "metadata": {
        "id": "mxK_lETT9hE0"
      },
      "source": [
        "# Model building"
      ]
    },
    {
      "cell_type": "code",
      "execution_count": 41,
      "metadata": {
        "id": "vHBmUf1t9hE1"
      },
      "outputs": [],
      "source": [
        "model = tf.keras.models.Sequential([\n",
        "    tf.keras.layers.Input((21 * 2, )),\n",
        "    tf.keras.layers.Dropout(0.2),\n",
        "    tf.keras.layers.Dense(20, activation='relu'),\n",
        "    tf.keras.layers.Dropout(0.4),\n",
        "    tf.keras.layers.Dense(10, activation='relu'),\n",
        "    tf.keras.layers.Dense(NUM_CLASSES, activation='softmax')\n",
        "])"
      ]
    },
    {
      "cell_type": "code",
      "execution_count": 42,
      "metadata": {
        "colab": {
          "base_uri": "https://localhost:8080/"
        },
        "id": "ypqky9tc9hE1",
        "outputId": "5db082bb-30e3-4110-bf63-a1ee777ecd46"
      },
      "outputs": [
        {
          "name": "stdout",
          "output_type": "stream",
          "text": [
            "Model: \"sequential_1\"\n",
            "_________________________________________________________________\n",
            " Layer (type)                Output Shape              Param #   \n",
            "=================================================================\n",
            " dropout_2 (Dropout)         (None, 42)                0         \n",
            "                                                                 \n",
            " dense_3 (Dense)             (None, 20)                860       \n",
            "                                                                 \n",
            " dropout_3 (Dropout)         (None, 20)                0         \n",
            "                                                                 \n",
            " dense_4 (Dense)             (None, 10)                210       \n",
            "                                                                 \n",
            " dense_5 (Dense)             (None, 5)                 55        \n",
            "                                                                 \n",
            "=================================================================\n",
            "Total params: 1,125\n",
            "Trainable params: 1,125\n",
            "Non-trainable params: 0\n",
            "_________________________________________________________________\n"
          ]
        }
      ],
      "source": [
        "model.summary()  # tf.keras.utils.plot_model(model, show_shapes=True)"
      ]
    },
    {
      "cell_type": "code",
      "execution_count": 43,
      "metadata": {
        "id": "MbMjOflQ9hE1"
      },
      "outputs": [],
      "source": [
        "# Model checkpoint callback\n",
        "cp_callback = tf.keras.callbacks.ModelCheckpoint(\n",
        "    model_save_path, verbose=1, save_weights_only=False) # automatically save your model\n",
        "# verbose : gọi lại thông báo mỗi khi thông báo\n",
        "# save_weights_only: lưu lại cả mô hình lẫn thông số mô hình nếu False\n",
        "\n",
        "# Callback for early stopping\n",
        "es_callback = tf.keras.callbacks.EarlyStopping(patience=20, verbose=1)\n",
        "# dừng quá trình đào tạo nếu hiệu suất mô hình ko đc cải thiện"
      ]
    },
    {
      "cell_type": "code",
      "execution_count": 44,
      "metadata": {
        "id": "c3Dac0M_9hE2"
      },
      "outputs": [],
      "source": [
        "# Model compilation\n",
        "model.compile(\n",
        "    optimizer='adam', # hàm tối ưu\n",
        "    loss='sparse_categorical_crossentropy', # hàm mất mát\n",
        "    metrics=['accuracy'] # thuước  đo đánh giá\n",
        ")"
      ]
    },
    {
      "cell_type": "markdown",
      "metadata": {
        "id": "7XI0j1Iu9hE2"
      },
      "source": [
        "# Model training"
      ]
    },
    {
      "cell_type": "code",
      "execution_count": 45,
      "metadata": {
        "colab": {
          "base_uri": "https://localhost:8080/"
        },
        "id": "WirBl-JE9hE3",
        "outputId": "71b30ca2-8294-4d9d-8aa2-800d90d399de",
        "scrolled": true
      },
      "outputs": [
        {
          "name": "stdout",
          "output_type": "stream",
          "text": [
            "Epoch 1/1000\n",
            "62/89 [===================>..........] - ETA: 0s - loss: 1.5571 - accuracy: 0.2816\n",
            "Epoch 1: saving model to model/keypoint_classifier\\keypoint_classifier.hdf5\n",
            "89/89 [==============================] - 1s 6ms/step - loss: 1.5266 - accuracy: 0.3038 - val_loss: 1.2954 - val_accuracy: 0.6395\n",
            "Epoch 2/1000\n",
            "80/89 [=========================>....] - ETA: 0s - loss: 1.3426 - accuracy: 0.4350\n",
            "Epoch 2: saving model to model/keypoint_classifier\\keypoint_classifier.hdf5\n",
            "89/89 [==============================] - 0s 5ms/step - loss: 1.3339 - accuracy: 0.4384 - val_loss: 1.0257 - val_accuracy: 0.7233\n",
            "Epoch 3/1000\n",
            "65/89 [====================>.........] - ETA: 0s - loss: 1.2045 - accuracy: 0.5035\n",
            "Epoch 3: saving model to model/keypoint_classifier\\keypoint_classifier.hdf5\n",
            "89/89 [==============================] - 0s 3ms/step - loss: 1.1918 - accuracy: 0.5094 - val_loss: 0.8551 - val_accuracy: 0.8079\n",
            "Epoch 4/1000\n",
            "65/89 [====================>.........] - ETA: 0s - loss: 1.0989 - accuracy: 0.5422\n",
            "Epoch 4: saving model to model/keypoint_classifier\\keypoint_classifier.hdf5\n",
            "89/89 [==============================] - 0s 2ms/step - loss: 1.0890 - accuracy: 0.5490 - val_loss: 0.7361 - val_accuracy: 0.7955\n",
            "Epoch 5/1000\n",
            "80/89 [=========================>....] - ETA: 0s - loss: 1.0192 - accuracy: 0.5771\n",
            "Epoch 5: saving model to model/keypoint_classifier\\keypoint_classifier.hdf5\n",
            "89/89 [==============================] - 0s 3ms/step - loss: 1.0171 - accuracy: 0.5767 - val_loss: 0.6480 - val_accuracy: 0.7982\n",
            "Epoch 6/1000\n",
            "77/89 [========================>.....] - ETA: 0s - loss: 0.9772 - accuracy: 0.6082\n",
            "Epoch 6: saving model to model/keypoint_classifier\\keypoint_classifier.hdf5\n",
            "89/89 [==============================] - 0s 3ms/step - loss: 0.9730 - accuracy: 0.6100 - val_loss: 0.6022 - val_accuracy: 0.8100\n",
            "Epoch 7/1000\n",
            "75/89 [========================>.....] - ETA: 0s - loss: 0.9280 - accuracy: 0.6135\n",
            "Epoch 7: saving model to model/keypoint_classifier\\keypoint_classifier.hdf5\n",
            "89/89 [==============================] - 0s 2ms/step - loss: 0.9256 - accuracy: 0.6132 - val_loss: 0.5464 - val_accuracy: 0.8108\n",
            "Epoch 8/1000\n",
            "82/89 [==========================>...] - ETA: 0s - loss: 0.9012 - accuracy: 0.6249\n",
            "Epoch 8: saving model to model/keypoint_classifier\\keypoint_classifier.hdf5\n",
            "89/89 [==============================] - 0s 3ms/step - loss: 0.8982 - accuracy: 0.6276 - val_loss: 0.5216 - val_accuracy: 0.8169\n",
            "Epoch 9/1000\n",
            "65/89 [====================>.........] - ETA: 0s - loss: 0.8882 - accuracy: 0.6323\n",
            "Epoch 9: saving model to model/keypoint_classifier\\keypoint_classifier.hdf5\n",
            "89/89 [==============================] - 0s 3ms/step - loss: 0.8848 - accuracy: 0.6342 - val_loss: 0.5004 - val_accuracy: 0.8361\n",
            "Epoch 10/1000\n",
            "76/89 [========================>.....] - ETA: 0s - loss: 0.8735 - accuracy: 0.6378\n",
            "Epoch 10: saving model to model/keypoint_classifier\\keypoint_classifier.hdf5\n",
            "89/89 [==============================] - 0s 3ms/step - loss: 0.8697 - accuracy: 0.6387 - val_loss: 0.4921 - val_accuracy: 0.8440\n",
            "Epoch 11/1000\n",
            "60/89 [===================>..........] - ETA: 0s - loss: 0.8221 - accuracy: 0.6542\n",
            "Epoch 11: saving model to model/keypoint_classifier\\keypoint_classifier.hdf5\n",
            "89/89 [==============================] - 0s 3ms/step - loss: 0.8234 - accuracy: 0.6548 - val_loss: 0.4545 - val_accuracy: 0.8627\n",
            "Epoch 12/1000\n",
            "69/89 [======================>.......] - ETA: 0s - loss: 0.8139 - accuracy: 0.6586\n",
            "Epoch 12: saving model to model/keypoint_classifier\\keypoint_classifier.hdf5\n",
            "89/89 [==============================] - 0s 2ms/step - loss: 0.8151 - accuracy: 0.6575 - val_loss: 0.4503 - val_accuracy: 0.8762\n",
            "Epoch 13/1000\n",
            "73/89 [=======================>......] - ETA: 0s - loss: 0.8058 - accuracy: 0.6633\n",
            "Epoch 13: saving model to model/keypoint_classifier\\keypoint_classifier.hdf5\n",
            "89/89 [==============================] - 0s 3ms/step - loss: 0.8075 - accuracy: 0.6669 - val_loss: 0.4480 - val_accuracy: 0.8567\n",
            "Epoch 14/1000\n",
            "65/89 [====================>.........] - ETA: 0s - loss: 0.7862 - accuracy: 0.6649\n",
            "Epoch 14: saving model to model/keypoint_classifier\\keypoint_classifier.hdf5\n",
            "89/89 [==============================] - 0s 2ms/step - loss: 0.7781 - accuracy: 0.6701 - val_loss: 0.4257 - val_accuracy: 0.8756\n",
            "Epoch 15/1000\n",
            "68/89 [=====================>........] - ETA: 0s - loss: 0.7699 - accuracy: 0.6772\n",
            "Epoch 15: saving model to model/keypoint_classifier\\keypoint_classifier.hdf5\n",
            "89/89 [==============================] - 0s 2ms/step - loss: 0.7716 - accuracy: 0.6750 - val_loss: 0.4207 - val_accuracy: 0.8775\n",
            "Epoch 16/1000\n",
            "82/89 [==========================>...] - ETA: 0s - loss: 0.7666 - accuracy: 0.6770\n",
            "Epoch 16: saving model to model/keypoint_classifier\\keypoint_classifier.hdf5\n",
            "89/89 [==============================] - 0s 3ms/step - loss: 0.7639 - accuracy: 0.6786 - val_loss: 0.4209 - val_accuracy: 0.9036\n",
            "Epoch 17/1000\n",
            "84/89 [===========================>..] - ETA: 0s - loss: 0.7493 - accuracy: 0.6880\n",
            "Epoch 17: saving model to model/keypoint_classifier\\keypoint_classifier.hdf5\n",
            "89/89 [==============================] - 0s 3ms/step - loss: 0.7497 - accuracy: 0.6881 - val_loss: 0.4044 - val_accuracy: 0.8959\n",
            "Epoch 18/1000\n",
            "77/89 [========================>.....] - ETA: 0s - loss: 0.7302 - accuracy: 0.6885\n",
            "Epoch 18: saving model to model/keypoint_classifier\\keypoint_classifier.hdf5\n",
            "89/89 [==============================] - 0s 4ms/step - loss: 0.7301 - accuracy: 0.6907 - val_loss: 0.3998 - val_accuracy: 0.8933\n",
            "Epoch 19/1000\n",
            "76/89 [========================>.....] - ETA: 0s - loss: 0.7267 - accuracy: 0.6956\n",
            "Epoch 19: saving model to model/keypoint_classifier\\keypoint_classifier.hdf5\n",
            "89/89 [==============================] - 0s 2ms/step - loss: 0.7301 - accuracy: 0.6948 - val_loss: 0.4019 - val_accuracy: 0.9051\n",
            "Epoch 20/1000\n",
            "74/89 [=======================>......] - ETA: 0s - loss: 0.7235 - accuracy: 0.7001\n",
            "Epoch 20: saving model to model/keypoint_classifier\\keypoint_classifier.hdf5\n",
            "89/89 [==============================] - 0s 2ms/step - loss: 0.7204 - accuracy: 0.6997 - val_loss: 0.3832 - val_accuracy: 0.9070\n",
            "Epoch 21/1000\n",
            "71/89 [======================>.......] - ETA: 0s - loss: 0.7022 - accuracy: 0.7104\n",
            "Epoch 21: saving model to model/keypoint_classifier\\keypoint_classifier.hdf5\n",
            "89/89 [==============================] - 0s 2ms/step - loss: 0.7029 - accuracy: 0.7108 - val_loss: 0.3816 - val_accuracy: 0.9038\n",
            "Epoch 22/1000\n",
            "71/89 [======================>.......] - ETA: 0s - loss: 0.7066 - accuracy: 0.7101\n",
            "Epoch 22: saving model to model/keypoint_classifier\\keypoint_classifier.hdf5\n",
            "89/89 [==============================] - 0s 2ms/step - loss: 0.7013 - accuracy: 0.7085 - val_loss: 0.3730 - val_accuracy: 0.9078\n",
            "Epoch 23/1000\n",
            "74/89 [=======================>......] - ETA: 0s - loss: 0.6896 - accuracy: 0.7209\n",
            "Epoch 23: saving model to model/keypoint_classifier\\keypoint_classifier.hdf5\n",
            "89/89 [==============================] - 0s 2ms/step - loss: 0.6891 - accuracy: 0.7204 - val_loss: 0.3754 - val_accuracy: 0.9220\n",
            "Epoch 24/1000\n",
            "77/89 [========================>.....] - ETA: 0s - loss: 0.6586 - accuracy: 0.7252\n",
            "Epoch 24: saving model to model/keypoint_classifier\\keypoint_classifier.hdf5\n",
            "89/89 [==============================] - 0s 2ms/step - loss: 0.6590 - accuracy: 0.7253 - val_loss: 0.3643 - val_accuracy: 0.9149\n",
            "Epoch 25/1000\n",
            "72/89 [=======================>......] - ETA: 0s - loss: 0.6847 - accuracy: 0.7207\n",
            "Epoch 25: saving model to model/keypoint_classifier\\keypoint_classifier.hdf5\n",
            "89/89 [==============================] - 0s 2ms/step - loss: 0.6828 - accuracy: 0.7203 - val_loss: 0.3646 - val_accuracy: 0.9246\n",
            "Epoch 26/1000\n",
            "72/89 [=======================>......] - ETA: 0s - loss: 0.6647 - accuracy: 0.7227\n",
            "Epoch 26: saving model to model/keypoint_classifier\\keypoint_classifier.hdf5\n",
            "89/89 [==============================] - 0s 3ms/step - loss: 0.6706 - accuracy: 0.7210 - val_loss: 0.3609 - val_accuracy: 0.9152\n",
            "Epoch 27/1000\n",
            "77/89 [========================>.....] - ETA: 0s - loss: 0.6532 - accuracy: 0.7281\n",
            "Epoch 27: saving model to model/keypoint_classifier\\keypoint_classifier.hdf5\n",
            "89/89 [==============================] - 0s 3ms/step - loss: 0.6540 - accuracy: 0.7286 - val_loss: 0.3449 - val_accuracy: 0.9254\n",
            "Epoch 28/1000\n",
            "72/89 [=======================>......] - ETA: 0s - loss: 0.6513 - accuracy: 0.7371\n",
            "Epoch 28: saving model to model/keypoint_classifier\\keypoint_classifier.hdf5\n",
            "89/89 [==============================] - 0s 2ms/step - loss: 0.6491 - accuracy: 0.7374 - val_loss: 0.3412 - val_accuracy: 0.9304\n",
            "Epoch 29/1000\n",
            "88/89 [============================>.] - ETA: 0s - loss: 0.6402 - accuracy: 0.7396\n",
            "Epoch 29: saving model to model/keypoint_classifier\\keypoint_classifier.hdf5\n",
            "89/89 [==============================] - 1s 6ms/step - loss: 0.6400 - accuracy: 0.7396 - val_loss: 0.3472 - val_accuracy: 0.9236\n",
            "Epoch 30/1000\n",
            "84/89 [===========================>..] - ETA: 0s - loss: 0.6284 - accuracy: 0.7442\n",
            "Epoch 30: saving model to model/keypoint_classifier\\keypoint_classifier.hdf5\n",
            "89/89 [==============================] - 1s 6ms/step - loss: 0.6315 - accuracy: 0.7428 - val_loss: 0.3367 - val_accuracy: 0.9362\n",
            "Epoch 31/1000\n",
            "79/89 [=========================>....] - ETA: 0s - loss: 0.6246 - accuracy: 0.7424\n",
            "Epoch 31: saving model to model/keypoint_classifier\\keypoint_classifier.hdf5\n",
            "89/89 [==============================] - 0s 4ms/step - loss: 0.6220 - accuracy: 0.7431 - val_loss: 0.3332 - val_accuracy: 0.9267\n",
            "Epoch 32/1000\n",
            "78/89 [=========================>....] - ETA: 0s - loss: 0.6377 - accuracy: 0.7395\n",
            "Epoch 32: saving model to model/keypoint_classifier\\keypoint_classifier.hdf5\n",
            "89/89 [==============================] - 0s 3ms/step - loss: 0.6406 - accuracy: 0.7380 - val_loss: 0.3372 - val_accuracy: 0.9386\n",
            "Epoch 33/1000\n",
            "67/89 [=====================>........] - ETA: 0s - loss: 0.6172 - accuracy: 0.7565\n",
            "Epoch 33: saving model to model/keypoint_classifier\\keypoint_classifier.hdf5\n",
            "89/89 [==============================] - 0s 2ms/step - loss: 0.6138 - accuracy: 0.7579 - val_loss: 0.3247 - val_accuracy: 0.9420\n",
            "Epoch 34/1000\n",
            "70/89 [======================>.......] - ETA: 0s - loss: 0.6086 - accuracy: 0.7577\n",
            "Epoch 34: saving model to model/keypoint_classifier\\keypoint_classifier.hdf5\n",
            "89/89 [==============================] - 0s 3ms/step - loss: 0.6112 - accuracy: 0.7570 - val_loss: 0.3285 - val_accuracy: 0.9365\n",
            "Epoch 35/1000\n",
            "65/89 [====================>.........] - ETA: 0s - loss: 0.6112 - accuracy: 0.7517\n",
            "Epoch 35: saving model to model/keypoint_classifier\\keypoint_classifier.hdf5\n",
            "89/89 [==============================] - 0s 2ms/step - loss: 0.6062 - accuracy: 0.7543 - val_loss: 0.3211 - val_accuracy: 0.9449\n",
            "Epoch 36/1000\n",
            "72/89 [=======================>......] - ETA: 0s - loss: 0.5969 - accuracy: 0.7635\n",
            "Epoch 36: saving model to model/keypoint_classifier\\keypoint_classifier.hdf5\n",
            "89/89 [==============================] - 0s 2ms/step - loss: 0.5994 - accuracy: 0.7614 - val_loss: 0.3229 - val_accuracy: 0.9402\n",
            "Epoch 37/1000\n",
            "74/89 [=======================>......] - ETA: 0s - loss: 0.5857 - accuracy: 0.7666\n",
            "Epoch 37: saving model to model/keypoint_classifier\\keypoint_classifier.hdf5\n",
            "89/89 [==============================] - 0s 2ms/step - loss: 0.5824 - accuracy: 0.7671 - val_loss: 0.3200 - val_accuracy: 0.9378\n",
            "Epoch 38/1000\n",
            "72/89 [=======================>......] - ETA: 0s - loss: 0.5881 - accuracy: 0.7639\n",
            "Epoch 38: saving model to model/keypoint_classifier\\keypoint_classifier.hdf5\n",
            "89/89 [==============================] - 0s 3ms/step - loss: 0.5871 - accuracy: 0.7649 - val_loss: 0.3109 - val_accuracy: 0.9307\n",
            "Epoch 39/1000\n",
            "72/89 [=======================>......] - ETA: 0s - loss: 0.5723 - accuracy: 0.7658\n",
            "Epoch 39: saving model to model/keypoint_classifier\\keypoint_classifier.hdf5\n",
            "89/89 [==============================] - 0s 2ms/step - loss: 0.5681 - accuracy: 0.7704 - val_loss: 0.3046 - val_accuracy: 0.9457\n",
            "Epoch 40/1000\n",
            "70/89 [======================>.......] - ETA: 0s - loss: 0.5617 - accuracy: 0.7791\n",
            "Epoch 40: saving model to model/keypoint_classifier\\keypoint_classifier.hdf5\n",
            "89/89 [==============================] - 0s 3ms/step - loss: 0.5699 - accuracy: 0.7744 - val_loss: 0.3169 - val_accuracy: 0.9468\n",
            "Epoch 41/1000\n",
            "86/89 [===========================>..] - ETA: 0s - loss: 0.5694 - accuracy: 0.7752\n",
            "Epoch 41: saving model to model/keypoint_classifier\\keypoint_classifier.hdf5\n",
            "89/89 [==============================] - 0s 3ms/step - loss: 0.5709 - accuracy: 0.7742 - val_loss: 0.3100 - val_accuracy: 0.9465\n",
            "Epoch 42/1000\n",
            "76/89 [========================>.....] - ETA: 0s - loss: 0.5714 - accuracy: 0.7726\n",
            "Epoch 42: saving model to model/keypoint_classifier\\keypoint_classifier.hdf5\n",
            "89/89 [==============================] - 0s 2ms/step - loss: 0.5728 - accuracy: 0.7733 - val_loss: 0.3022 - val_accuracy: 0.9526\n",
            "Epoch 43/1000\n",
            "76/89 [========================>.....] - ETA: 0s - loss: 0.5759 - accuracy: 0.7715\n",
            "Epoch 43: saving model to model/keypoint_classifier\\keypoint_classifier.hdf5\n",
            "89/89 [==============================] - 0s 4ms/step - loss: 0.5775 - accuracy: 0.7714 - val_loss: 0.3156 - val_accuracy: 0.9486\n",
            "Epoch 44/1000\n",
            "76/89 [========================>.....] - ETA: 0s - loss: 0.5629 - accuracy: 0.7782\n",
            "Epoch 44: saving model to model/keypoint_classifier\\keypoint_classifier.hdf5\n",
            "89/89 [==============================] - 0s 2ms/step - loss: 0.5609 - accuracy: 0.7798 - val_loss: 0.3152 - val_accuracy: 0.9494\n",
            "Epoch 45/1000\n",
            "85/89 [===========================>..] - ETA: 0s - loss: 0.5598 - accuracy: 0.7790\n",
            "Epoch 45: saving model to model/keypoint_classifier\\keypoint_classifier.hdf5\n",
            "89/89 [==============================] - 0s 5ms/step - loss: 0.5621 - accuracy: 0.7773 - val_loss: 0.3123 - val_accuracy: 0.9465\n",
            "Epoch 46/1000\n",
            "82/89 [==========================>...] - ETA: 0s - loss: 0.5638 - accuracy: 0.7780\n",
            "Epoch 46: saving model to model/keypoint_classifier\\keypoint_classifier.hdf5\n",
            "89/89 [==============================] - 0s 4ms/step - loss: 0.5594 - accuracy: 0.7798 - val_loss: 0.3116 - val_accuracy: 0.9507\n",
            "Epoch 47/1000\n",
            "69/89 [======================>.......] - ETA: 0s - loss: 0.5423 - accuracy: 0.7812\n",
            "Epoch 47: saving model to model/keypoint_classifier\\keypoint_classifier.hdf5\n",
            "89/89 [==============================] - 0s 3ms/step - loss: 0.5475 - accuracy: 0.7816 - val_loss: 0.3184 - val_accuracy: 0.9536\n",
            "Epoch 48/1000\n",
            "77/89 [========================>.....] - ETA: 0s - loss: 0.5351 - accuracy: 0.7878\n",
            "Epoch 48: saving model to model/keypoint_classifier\\keypoint_classifier.hdf5\n",
            "89/89 [==============================] - 0s 2ms/step - loss: 0.5335 - accuracy: 0.7893 - val_loss: 0.2908 - val_accuracy: 0.9499\n",
            "Epoch 49/1000\n",
            "66/89 [=====================>........] - ETA: 0s - loss: 0.5476 - accuracy: 0.7833\n",
            "Epoch 49: saving model to model/keypoint_classifier\\keypoint_classifier.hdf5\n",
            "89/89 [==============================] - 0s 4ms/step - loss: 0.5513 - accuracy: 0.7823 - val_loss: 0.3119 - val_accuracy: 0.9513\n",
            "Epoch 50/1000\n",
            "73/89 [=======================>......] - ETA: 0s - loss: 0.5365 - accuracy: 0.7863\n",
            "Epoch 50: saving model to model/keypoint_classifier\\keypoint_classifier.hdf5\n",
            "89/89 [==============================] - 0s 3ms/step - loss: 0.5409 - accuracy: 0.7840 - val_loss: 0.3033 - val_accuracy: 0.9542\n",
            "Epoch 51/1000\n",
            "61/89 [===================>..........] - ETA: 0s - loss: 0.5515 - accuracy: 0.7832\n",
            "Epoch 51: saving model to model/keypoint_classifier\\keypoint_classifier.hdf5\n",
            "89/89 [==============================] - 0s 2ms/step - loss: 0.5487 - accuracy: 0.7852 - val_loss: 0.3121 - val_accuracy: 0.9507\n",
            "Epoch 52/1000\n",
            "84/89 [===========================>..] - ETA: 0s - loss: 0.5315 - accuracy: 0.7943\n",
            "Epoch 52: saving model to model/keypoint_classifier\\keypoint_classifier.hdf5\n",
            "89/89 [==============================] - 0s 3ms/step - loss: 0.5304 - accuracy: 0.7939 - val_loss: 0.3072 - val_accuracy: 0.9518\n",
            "Epoch 53/1000\n",
            "62/89 [===================>..........] - ETA: 0s - loss: 0.5364 - accuracy: 0.7923\n",
            "Epoch 53: saving model to model/keypoint_classifier\\keypoint_classifier.hdf5\n",
            "89/89 [==============================] - 0s 2ms/step - loss: 0.5354 - accuracy: 0.7909 - val_loss: 0.3071 - val_accuracy: 0.9518\n",
            "Epoch 54/1000\n",
            "87/89 [============================>.] - ETA: 0s - loss: 0.5455 - accuracy: 0.7856\n",
            "Epoch 54: saving model to model/keypoint_classifier\\keypoint_classifier.hdf5\n",
            "89/89 [==============================] - 0s 3ms/step - loss: 0.5432 - accuracy: 0.7866 - val_loss: 0.3237 - val_accuracy: 0.9433\n",
            "Epoch 55/1000\n",
            "59/89 [==================>...........] - ETA: 0s - loss: 0.5292 - accuracy: 0.7892\n",
            "Epoch 55: saving model to model/keypoint_classifier\\keypoint_classifier.hdf5\n",
            "89/89 [==============================] - 0s 3ms/step - loss: 0.5296 - accuracy: 0.7882 - val_loss: 0.3119 - val_accuracy: 0.9531\n",
            "Epoch 56/1000\n",
            "77/89 [========================>.....] - ETA: 0s - loss: 0.5204 - accuracy: 0.7952\n",
            "Epoch 56: saving model to model/keypoint_classifier\\keypoint_classifier.hdf5\n",
            "89/89 [==============================] - 0s 3ms/step - loss: 0.5236 - accuracy: 0.7940 - val_loss: 0.3079 - val_accuracy: 0.9484\n",
            "Epoch 57/1000\n",
            "58/89 [==================>...........] - ETA: 0s - loss: 0.5235 - accuracy: 0.7920\n",
            "Epoch 57: saving model to model/keypoint_classifier\\keypoint_classifier.hdf5\n",
            "89/89 [==============================] - 0s 2ms/step - loss: 0.5304 - accuracy: 0.7886 - val_loss: 0.3169 - val_accuracy: 0.9489\n",
            "Epoch 58/1000\n",
            "64/89 [====================>.........] - ETA: 0s - loss: 0.5369 - accuracy: 0.7888\n",
            "Epoch 58: saving model to model/keypoint_classifier\\keypoint_classifier.hdf5\n",
            "89/89 [==============================] - 0s 2ms/step - loss: 0.5294 - accuracy: 0.7917 - val_loss: 0.3119 - val_accuracy: 0.9428\n",
            "Epoch 59/1000\n",
            "77/89 [========================>.....] - ETA: 0s - loss: 0.5170 - accuracy: 0.7919\n",
            "Epoch 59: saving model to model/keypoint_classifier\\keypoint_classifier.hdf5\n",
            "89/89 [==============================] - 0s 3ms/step - loss: 0.5179 - accuracy: 0.7909 - val_loss: 0.3091 - val_accuracy: 0.9436\n",
            "Epoch 60/1000\n",
            "71/89 [======================>.......] - ETA: 0s - loss: 0.5271 - accuracy: 0.7932\n",
            "Epoch 60: saving model to model/keypoint_classifier\\keypoint_classifier.hdf5\n",
            "89/89 [==============================] - 0s 2ms/step - loss: 0.5262 - accuracy: 0.7933 - val_loss: 0.3277 - val_accuracy: 0.9418\n",
            "Epoch 61/1000\n",
            "67/89 [=====================>........] - ETA: 0s - loss: 0.5214 - accuracy: 0.7917\n",
            "Epoch 61: saving model to model/keypoint_classifier\\keypoint_classifier.hdf5\n",
            "89/89 [==============================] - 0s 2ms/step - loss: 0.5205 - accuracy: 0.7937 - val_loss: 0.3118 - val_accuracy: 0.9404\n",
            "Epoch 62/1000\n",
            "62/89 [===================>..........] - ETA: 0s - loss: 0.5104 - accuracy: 0.7981\n",
            "Epoch 62: saving model to model/keypoint_classifier\\keypoint_classifier.hdf5\n",
            "89/89 [==============================] - 0s 2ms/step - loss: 0.5158 - accuracy: 0.7961 - val_loss: 0.3167 - val_accuracy: 0.9397\n",
            "Epoch 63/1000\n",
            "56/89 [=================>............] - ETA: 0s - loss: 0.5037 - accuracy: 0.8008\n",
            "Epoch 63: saving model to model/keypoint_classifier\\keypoint_classifier.hdf5\n",
            "89/89 [==============================] - 0s 3ms/step - loss: 0.5080 - accuracy: 0.8035 - val_loss: 0.3079 - val_accuracy: 0.9476\n",
            "Epoch 64/1000\n",
            "66/89 [=====================>........] - ETA: 0s - loss: 0.5176 - accuracy: 0.7958\n",
            "Epoch 64: saving model to model/keypoint_classifier\\keypoint_classifier.hdf5\n",
            "89/89 [==============================] - 0s 3ms/step - loss: 0.5181 - accuracy: 0.7948 - val_loss: 0.3203 - val_accuracy: 0.9320\n",
            "Epoch 65/1000\n",
            "70/89 [======================>.......] - ETA: 0s - loss: 0.5252 - accuracy: 0.7942\n",
            "Epoch 65: saving model to model/keypoint_classifier\\keypoint_classifier.hdf5\n",
            "89/89 [==============================] - 0s 3ms/step - loss: 0.5174 - accuracy: 0.7985 - val_loss: 0.3307 - val_accuracy: 0.9373\n",
            "Epoch 66/1000\n",
            "63/89 [====================>.........] - ETA: 0s - loss: 0.5162 - accuracy: 0.7991\n",
            "Epoch 66: saving model to model/keypoint_classifier\\keypoint_classifier.hdf5\n",
            "89/89 [==============================] - 0s 2ms/step - loss: 0.5117 - accuracy: 0.7985 - val_loss: 0.3202 - val_accuracy: 0.9386\n",
            "Epoch 67/1000\n",
            "61/89 [===================>..........] - ETA: 0s - loss: 0.5248 - accuracy: 0.7974\n",
            "Epoch 67: saving model to model/keypoint_classifier\\keypoint_classifier.hdf5\n",
            "89/89 [==============================] - 0s 3ms/step - loss: 0.5153 - accuracy: 0.7993 - val_loss: 0.3115 - val_accuracy: 0.9410\n",
            "Epoch 68/1000\n",
            "61/89 [===================>..........] - ETA: 0s - loss: 0.4912 - accuracy: 0.8149\n",
            "Epoch 68: saving model to model/keypoint_classifier\\keypoint_classifier.hdf5\n",
            "89/89 [==============================] - 0s 3ms/step - loss: 0.4998 - accuracy: 0.8083 - val_loss: 0.3324 - val_accuracy: 0.9381\n",
            "Epoch 68: early stopping\n"
          ]
        },
        {
          "data": {
            "text/plain": [
              "<keras.callbacks.History at 0x2bec5ac1430>"
            ]
          },
          "execution_count": 45,
          "metadata": {},
          "output_type": "execute_result"
        }
      ],
      "source": [
        "model.fit(\n",
        "    X_train,\n",
        "    y_train,\n",
        "    epochs=1000,\n",
        "    batch_size=128,\n",
        "    validation_data=(X_test, y_test),\n",
        "    callbacks=[cp_callback, es_callback]\n",
        ")"
      ]
    },
    {
      "cell_type": "code",
      "execution_count": 46,
      "metadata": {
        "colab": {
          "base_uri": "https://localhost:8080/"
        },
        "id": "pxvb2Y299hE3",
        "outputId": "59eb3185-2e37-4b9e-bc9d-ab1b8ac29b7f"
      },
      "outputs": [
        {
          "name": "stdout",
          "output_type": "stream",
          "text": [
            "30/30 [==============================] - 0s 1ms/step - loss: 0.3324 - accuracy: 0.9381\n"
          ]
        }
      ],
      "source": [
        "# Model evaluation\n",
        "val_loss, val_acc = model.evaluate(X_test, y_test, batch_size=128)"
      ]
    },
    {
      "cell_type": "code",
      "execution_count": 47,
      "metadata": {
        "id": "RBkmDeUW9hE4"
      },
      "outputs": [],
      "source": [
        "# Loading the saved model\n",
        "model = tf.keras.models.load_model(model_save_path)"
      ]
    },
    {
      "cell_type": "code",
      "execution_count": 48,
      "metadata": {
        "colab": {
          "base_uri": "https://localhost:8080/"
        },
        "id": "tFz9Tb0I9hE4",
        "outputId": "1c3b3528-54ae-4ee2-ab04-77429211cbef"
      },
      "outputs": [
        {
          "name": "stdout",
          "output_type": "stream",
          "text": [
            "1/1 [==============================] - 0s 69ms/step\n",
            "[1.4748171e-03 4.1047713e-01 1.5927158e-02 1.6785218e-06 5.7211924e-01]\n",
            "4\n"
          ]
        }
      ],
      "source": [
        "# Inference test\n",
        "predict_result = model.predict(np.array([X_test[0]]))\n",
        "print(np.squeeze(predict_result))\n",
        "print(np.argmax(np.squeeze(predict_result)))"
      ]
    },
    {
      "cell_type": "markdown",
      "metadata": {
        "id": "S3U4yNWx9hE4"
      },
      "source": [
        "# Confusion matrix"
      ]
    },
    {
      "cell_type": "code",
      "execution_count": 49,
      "metadata": {
        "colab": {
          "base_uri": "https://localhost:8080/",
          "height": 582
        },
        "id": "AP1V6SCk9hE5",
        "outputId": "08e41a80-7a4a-4619-8125-ecc371368d19"
      },
      "outputs": [
        {
          "name": "stdout",
          "output_type": "stream",
          "text": [
            "119/119 [==============================] - 0s 822us/step\n"
          ]
        },
        {
          "data": {
            "image/png": "[encoded data removed]",
            "text/plain": [
              "<Figure size 700x600 with 2 Axes>"
            ]
          },
          "metadata": {},
          "output_type": "display_data"
        },
        {
          "name": "stdout",
          "output_type": "stream",
          "text": [
            "Classification Report\n",
            "              precision    recall  f1-score   support\n",
            "\n",
            "           0       0.94      0.99      0.97       757\n",
            "           1       0.89      0.88      0.89       783\n",
            "           2       0.96      0.96      0.96       726\n",
            "           3       0.99      0.98      0.99       737\n",
            "           4       0.91      0.88      0.89       792\n",
            "\n",
            "    accuracy                           0.94      3795\n",
            "   macro avg       0.94      0.94      0.94      3795\n",
            "weighted avg       0.94      0.94      0.94      3795\n",
            "\n"
          ]
        }
      ],
      "source": [
        "import pandas as pd\n",
        "import seaborn as sns\n",
        "import matplotlib.pyplot as plt\n",
        "from sklearn.metrics import confusion_matrix, classification_report\n",
        "\n",
        "def print_confusion_matrix(y_true, y_pred, report=True):\n",
        "    labels = sorted(list(set(y_true)))\n",
        "    cmx_data = confusion_matrix(y_true, y_pred, labels=labels)\n",
        "    \n",
        "    df_cmx = pd.DataFrame(cmx_data, index=labels, columns=labels)\n",
        " \n",
        "    fig, ax = plt.subplots(figsize=(7, 6))\n",
        "    sns.heatmap(df_cmx, annot=True, fmt='g' ,square=False)\n",
        "    ax.set_ylim(len(set(y_true)), 0)\n",
        "    plt.show()\n",
        "    \n",
        "    if report:\n",
        "        print('Classification Report')\n",
        "        print(classification_report(y_test, y_pred))\n",
        "\n",
        "Y_pred = model.predict(X_test)\n",
        "y_pred = np.argmax(Y_pred, axis=1)\n",
        "\n",
        "print_confusion_matrix(y_test, y_pred)"
      ]
    },
    {
      "cell_type": "markdown",
      "metadata": {
        "id": "FNP6aqzc9hE5"
      },
      "source": [
        "# Convert to model for Tensorflow-Lite"
      ]
    },
    {
      "cell_type": "code",
      "execution_count": 50,
      "metadata": {
        "id": "ODjnYyld9hE6"
      },
      "outputs": [],
      "source": [
        "# Save as a model dedicated to inference\n",
        "model.save(model_save_path, include_optimizer=False)"
      ]
    },
    {
      "cell_type": "code",
      "execution_count": 51,
      "metadata": {
        "colab": {
          "base_uri": "https://localhost:8080/"
        },
        "id": "zRfuK8Y59hE6",
        "outputId": "a4ca585c-b5d5-4244-8291-8674063209bb"
      },
      "outputs": [
        {
          "name": "stdout",
          "output_type": "stream",
          "text": [
            "INFO:tensorflow:Assets written to: C:\\Users\\ADMIN\\AppData\\Local\\Temp\\tmpagizgl5a\\assets\n"
          ]
        },
        {
          "name": "stderr",
          "output_type": "stream",
          "text": [
            "INFO:tensorflow:Assets written to: C:\\Users\\ADMIN\\AppData\\Local\\Temp\\tmpagizgl5a\\assets\n"
          ]
        },
        {
          "data": {
            "text/plain": [
              "6616"
            ]
          },
          "execution_count": 51,
          "metadata": {},
          "output_type": "execute_result"
        }
      ],
      "source": [
        "# Transform model (quantization)\n",
        "\n",
        "converter = tf.lite.TFLiteConverter.from_keras_model(model)\n",
        "converter.optimizations = [tf.lite.Optimize.DEFAULT]\n",
        "tflite_quantized_model = converter.convert()\n",
        "\n",
        "open(tflite_save_path, 'wb').write(tflite_quantized_model)"
      ]
    },
    {
      "cell_type": "markdown",
      "metadata": {
        "id": "CHBPBXdx9hE6"
      },
      "source": [
        "# Inference test"
      ]
    },
    {
      "cell_type": "code",
      "execution_count": 52,
      "metadata": {
        "id": "mGAzLocO9hE7"
      },
      "outputs": [],
      "source": [
        "interpreter = tf.lite.Interpreter(model_path=tflite_save_path)\n",
        "interpreter.allocate_tensors()"
      ]
    },
    {
      "cell_type": "code",
      "execution_count": 53,
      "metadata": {
        "id": "oQuDK8YS9hE7"
      },
      "outputs": [],
      "source": [
        "# Get I / O tensor\n",
        "input_details = interpreter.get_input_details()\n",
        "output_details = interpreter.get_output_details()"
      ]
    },
    {
      "cell_type": "code",
      "execution_count": 54,
      "metadata": {
        "id": "2_ixAf_l9hE7"
      },
      "outputs": [],
      "source": [
        "interpreter.set_tensor(input_details[0]['index'], np.array([X_test[0]]))"
      ]
    },
    {
      "cell_type": "code",
      "execution_count": 55,
      "metadata": {
        "colab": {
          "base_uri": "https://localhost:8080/"
        },
        "id": "s4FoAnuc9hE7",
        "outputId": "91f18257-8d8b-4ef3-c558-e9b5f94fabbf",
        "scrolled": true
      },
      "outputs": [
        {
          "name": "stdout",
          "output_type": "stream",
          "text": [
            "CPU times: total: 0 ns\n",
            "Wall time: 1 ms\n"
          ]
        }
      ],
      "source": [
        "%%time\n",
        "# Inference implementation\n",
        "interpreter.invoke()\n",
        "tflite_results = interpreter.get_tensor(output_details[0]['index'])"
      ]
    },
    {
      "cell_type": "code",
      "execution_count": 56,
      "metadata": {
        "colab": {
          "base_uri": "https://localhost:8080/"
        },
        "id": "vONjp19J9hE8",
        "outputId": "77205e24-fd00-42c4-f7b6-e06e527c2cba"
      },
      "outputs": [
        {
          "name": "stdout",
          "output_type": "stream",
          "text": [
            "[1.4748158e-03 4.1047710e-01 1.5927162e-02 1.6785204e-06 5.7211930e-01]\n",
            "4\n"
          ]
        }
      ],
      "source": [
        "print(np.squeeze(tflite_results))\n",
        "print(np.argmax(np.squeeze(tflite_results)))"
      ]
    }
  ],
  "metadata": {
    "accelerator": "GPU",
    "colab": {
      "collapsed_sections": [],
      "name": "keypoint_classification_EN.ipynb",
      "provenance": [],
      "toc_visible": true
    },
    "kernelspec": {
      "display_name": "Python 3",
      "language": "python",
      "name": "python3"
    },
    "language_info": {
      "codemirror_mode": {
        "name": "ipython",
        "version": 3
      },
      "file_extension": ".py",
      "mimetype": "text/x-python",
      "name": "python",
      "nbconvert_exporter": "python",
      "pygments_lexer": "ipython3",
      "version": "3.8.17"
    }
  },
  "nbformat": 4,
  "nbformat_minor": 0
}
