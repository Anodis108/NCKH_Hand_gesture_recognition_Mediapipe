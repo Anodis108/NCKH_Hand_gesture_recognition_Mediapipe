{
  "cells": [
    {
      "cell_type": "code",
      "execution_count": 1,
      "metadata": {
        "id": "igMyGnjE9hEp"
      },
      "outputs": [],
      "source": [
        "import csv\n",
        "\n",
        "import pandas as pd\n",
        "import numpy as np\n",
        "import tensorflow as tf\n",
        "from sklearn.model_selection import train_test_split\n",
        "\n",
        "tf.device('/gpu:0')\n",
        "RANDOM_SEED = 42"
      ]
    },
    {
      "cell_type": "markdown",
      "metadata": {
        "id": "t2HDvhIu9hEr"
      },
      "source": [
        "# Specify each path"
      ]
    },
    {
      "cell_type": "code",
      "execution_count": 2,
      "metadata": {
        "id": "9NvZP2Zn9hEy"
      },
      "outputs": [],
      "source": [
        "dataset = 'model/keypoint_classifier/keypoint.csv'\n",
        "model_save_path = 'model/keypoint_classifier/keypoint_classifier.hdf5'\n",
        "tflite_save_path = 'model/keypoint_classifier/keypoint_classifier.tflite'"
      ]
    },
    {
      "cell_type": "markdown",
      "metadata": {
        "id": "s5oMH7x19hEz"
      },
      "source": [
        "# Set number of classes"
      ]
    },
    {
      "cell_type": "code",
      "execution_count": 3,
      "metadata": {
        "id": "du4kodXL9hEz"
      },
      "outputs": [],
      "source": [
        "NUM_CLASSES = 5"
      ]
    },
    {
      "cell_type": "markdown",
      "metadata": {
        "id": "XjnL0uso9hEz"
      },
      "source": [
        "# Dataset reading"
      ]
    },
    {
      "cell_type": "code",
      "execution_count": 4,
      "metadata": {
        "id": "QT5ZqtEz9hE0"
      },
      "outputs": [],
      "source": [
        "X_dataset = np.loadtxt(dataset, delimiter=',', dtype='float32', usecols=list(range(1, (21 * 2) + 1)))"
      ]
    },
    {
      "cell_type": "code",
      "execution_count": 5,
      "metadata": {
        "id": "QmoKFsp49hE0"
      },
      "outputs": [],
      "source": [
        "y_dataset = np.loadtxt(dataset, delimiter=',', dtype='int32', usecols=(0))"
      ]
    },
    {
      "cell_type": "code",
      "execution_count": 6,
      "metadata": {
        "id": "xQU7JTZ_9hE0"
      },
      "outputs": [],
      "source": [
        "X_train, X_test, y_train, y_test = train_test_split(X_dataset, y_dataset, train_size=0.75, random_state=RANDOM_SEED)"
      ]
    },
    {
      "cell_type": "code",
      "execution_count": 7,
      "metadata": {},
      "outputs": [
        {
          "name": "stdout",
          "output_type": "stream",
          "text": [
            "       0    1         2         3         4         5         6         7   \\\n",
            "0     0.0  0.0 -0.198347 -0.479339 -0.454545 -0.834711 -0.702479 -0.909091   \n",
            "1     0.0  0.0 -0.338028 -0.246479 -0.542253 -0.556338 -0.584507 -0.859155   \n",
            "2     0.0  0.0 -0.289855 -0.166667 -0.471014 -0.507246 -0.434783 -0.876812   \n",
            "3     0.0  0.0  0.086735 -0.219388  0.173469 -0.367347  0.214286 -0.443878   \n",
            "4     0.0  0.0 -0.154639  0.154639 -0.376289  0.242268 -0.572165  0.252577   \n",
            "...   ...  ...       ...       ...       ...       ...       ...       ...   \n",
            "3643  0.0  0.0 -0.248092 -0.026718 -0.442748 -0.087786 -0.587786 -0.133588   \n",
            "3644  0.0  0.0 -0.200000 -0.073171 -0.356098 -0.224390 -0.478049 -0.341463   \n",
            "3645  0.0  0.0 -0.040000  0.350000 -0.060000  0.630000 -0.190000  0.840000   \n",
            "3646  0.0  0.0 -0.040000 -0.305000 -0.130000 -0.525000 -0.170000 -0.720000   \n",
            "3647  0.0  0.0  0.233533  0.071856  0.491018  0.077844  0.706587  0.083832   \n",
            "\n",
            "            8         9   ...        32        33        34        35  \\\n",
            "0    -0.743802 -0.578512  ... -0.206612 -0.272727  0.157025  0.049587   \n",
            "1    -0.507042 -1.000000  ... -0.169014 -0.464789 -0.056338 -0.154930   \n",
            "2    -0.297101 -1.000000  ... -0.094203 -0.492754  0.050725 -0.260870   \n",
            "3     0.234694 -0.377551  ...  0.015306 -0.153061  0.209184  0.270408   \n",
            "4    -0.731959  0.288660  ... -0.876289 -0.376289 -0.381443 -0.288660   \n",
            "...        ...       ...  ...       ...       ...       ...       ...   \n",
            "3643 -0.652672 -0.206107  ... -0.282443 -0.110687 -0.206107 -0.393130   \n",
            "3644 -0.604878 -0.404878  ...  0.043902 -0.917073  0.136585 -0.370732   \n",
            "3645 -0.320000  1.000000  ... -0.570000  0.080000  0.400000 -0.340000   \n",
            "3646 -0.205000 -0.820000  ... -0.020000 -0.415000 -0.330000 -0.105000   \n",
            "3647  0.850299  0.119760  ...  0.556886 -1.000000  0.155689 -0.497006   \n",
            "\n",
            "            36        37        38        39        40        41  \n",
            "0    -0.388430  0.107438 -0.330579  0.049587 -0.107438 -0.049587  \n",
            "1     0.014085 -0.598592  0.063380 -0.521127  0.035211 -0.408451  \n",
            "2     0.094203 -0.652174  0.094203 -0.536232  0.065217 -0.398551  \n",
            "3     0.025510  0.107143 -0.045918  0.000000 -0.051020 -0.040816  \n",
            "4    -0.515464 -0.371134 -0.608247 -0.407216 -0.690722 -0.443299  \n",
            "...        ...       ...       ...       ...       ...       ...  \n",
            "3643 -0.354962 -0.202290 -0.286260 -0.106870 -0.221374 -0.118321  \n",
            "3644  0.195122 -0.512195  0.214634 -0.600000  0.219512 -0.692683  \n",
            "3645  0.160000 -0.370000 -0.170000 -0.290000 -0.430000 -0.180000  \n",
            "3646 -0.165000 -0.390000 -0.050000 -0.450000  0.010000 -0.415000  \n",
            "3647  0.155689 -0.700599  0.149701 -0.838323  0.149701 -0.970060  \n",
            "\n",
            "[3648 rows x 42 columns]\n"
          ]
        }
      ],
      "source": [
        "a = pd.DataFrame(X_train)\n",
        "print(a)"
      ]
    },
    {
      "cell_type": "code",
      "execution_count": 8,
      "metadata": {},
      "outputs": [
        {
          "data": {
            "text/plain": [
              "0\n",
              "0.0    3648\n",
              "dtype: int64"
            ]
          },
          "execution_count": 8,
          "metadata": {},
          "output_type": "execute_result"
        }
      ],
      "source": [
        "a.groupby(0).size()\n"
      ]
    },
    {
      "cell_type": "markdown",
      "metadata": {
        "id": "mxK_lETT9hE0"
      },
      "source": [
        "# Model building"
      ]
    },
    {
      "cell_type": "code",
      "execution_count": 9,
      "metadata": {
        "id": "vHBmUf1t9hE1"
      },
      "outputs": [],
      "source": [
        "model = tf.keras.models.Sequential([\n",
        "    tf.keras.layers.Input((21 * 2, )),\n",
        "    tf.keras.layers.Dropout(0.2),\n",
        "    tf.keras.layers.Dense(20, activation='relu'),\n",
        "    tf.keras.layers.Dropout(0.4),\n",
        "    tf.keras.layers.Dense(10, activation='relu'),\n",
        "    tf.keras.layers.Dense(NUM_CLASSES, activation='softmax')\n",
        "])"
      ]
    },
    {
      "cell_type": "code",
      "execution_count": 10,
      "metadata": {
        "colab": {
          "base_uri": "https://localhost:8080/"
        },
        "id": "ypqky9tc9hE1",
        "outputId": "5db082bb-30e3-4110-bf63-a1ee777ecd46"
      },
      "outputs": [
        {
          "name": "stdout",
          "output_type": "stream",
          "text": [
            "Model: \"sequential\"\n",
            "_________________________________________________________________\n",
            " Layer (type)                Output Shape              Param #   \n",
            "=================================================================\n",
            " dropout (Dropout)           (None, 42)                0         \n",
            "                                                                 \n",
            " dense (Dense)               (None, 20)                860       \n",
            "                                                                 \n",
            " dropout_1 (Dropout)         (None, 20)                0         \n",
            "                                                                 \n",
            " dense_1 (Dense)             (None, 10)                210       \n",
            "                                                                 \n",
            " dense_2 (Dense)             (None, 5)                 55        \n",
            "                                                                 \n",
            "=================================================================\n",
            "Total params: 1,125\n",
            "Trainable params: 1,125\n",
            "Non-trainable params: 0\n",
            "_________________________________________________________________\n"
          ]
        }
      ],
      "source": [
        "model.summary()  # tf.keras.utils.plot_model(model, show_shapes=True)"
      ]
    },
    {
      "cell_type": "code",
      "execution_count": 11,
      "metadata": {
        "id": "MbMjOflQ9hE1"
      },
      "outputs": [],
      "source": [
        "# Model checkpoint callback\n",
        "cp_callback = tf.keras.callbacks.ModelCheckpoint(\n",
        "    model_save_path, verbose=1, save_weights_only=False) # automatically save your model\n",
        "# verbose : gọi lại thông báo mỗi khi thông báo\n",
        "# save_weights_only: lưu lại cả mô hình lẫn thông số mô hình nếu False\n",
        "\n",
        "# Callback for early stopping\n",
        "es_callback = tf.keras.callbacks.EarlyStopping(patience=20, verbose=1)\n",
        "# dừng quá trình đào tạo nếu hiệu suất mô hình ko đc cải thiện"
      ]
    },
    {
      "cell_type": "code",
      "execution_count": 12,
      "metadata": {
        "id": "c3Dac0M_9hE2"
      },
      "outputs": [],
      "source": [
        "# Model compilation\n",
        "model.compile(\n",
        "    optimizer='adam', # hàm tối ưu\n",
        "    loss='sparse_categorical_crossentropy', # hàm mất mát\n",
        "    metrics=['accuracy'] # thuước  đo đánh giá\n",
        ")"
      ]
    },
    {
      "cell_type": "markdown",
      "metadata": {
        "id": "7XI0j1Iu9hE2"
      },
      "source": [
        "# Model training"
      ]
    },
    {
      "cell_type": "code",
      "execution_count": 13,
      "metadata": {
        "colab": {
          "base_uri": "https://localhost:8080/"
        },
        "id": "WirBl-JE9hE3",
        "outputId": "71b30ca2-8294-4d9d-8aa2-800d90d399de",
        "scrolled": true
      },
      "outputs": [
        {
          "name": "stdout",
          "output_type": "stream",
          "text": [
            "Epoch 1/1000\n",
            "28/29 [===========================>..] - ETA: 0s - loss: 1.5467 - accuracy: 0.3089 \n",
            "Epoch 1: saving model to model/keypoint_classifier\\keypoint_classifier.hdf5\n",
            "29/29 [==============================] - 1s 13ms/step - loss: 1.5447 - accuracy: 0.3084 - val_loss: 1.4419 - val_accuracy: 0.3887\n",
            "Epoch 2/1000\n",
            " 1/29 [>.............................] - ETA: 0s - loss: 1.5204 - accuracy: 0.3281\n",
            "Epoch 2: saving model to model/keypoint_classifier\\keypoint_classifier.hdf5\n",
            "29/29 [==============================] - 0s 4ms/step - loss: 1.4235 - accuracy: 0.3596 - val_loss: 1.3477 - val_accuracy: 0.3936\n",
            "Epoch 3/1000\n",
            " 1/29 [>.............................] - ETA: 0s - loss: 1.3811 - accuracy: 0.4141\n",
            "Epoch 3: saving model to model/keypoint_classifier\\keypoint_classifier.hdf5\n",
            "29/29 [==============================] - 0s 3ms/step - loss: 1.3528 - accuracy: 0.3947 - val_loss: 1.2669 - val_accuracy: 0.4380\n",
            "Epoch 4/1000\n",
            " 1/29 [>.............................] - ETA: 0s - loss: 1.3081 - accuracy: 0.4375\n",
            "Epoch 4: saving model to model/keypoint_classifier\\keypoint_classifier.hdf5\n",
            "29/29 [==============================] - 0s 3ms/step - loss: 1.2736 - accuracy: 0.4348 - val_loss: 1.1857 - val_accuracy: 0.4897\n",
            "Epoch 5/1000\n",
            " 1/29 [>.............................] - ETA: 0s - loss: 1.2894 - accuracy: 0.3828\n",
            "Epoch 5: saving model to model/keypoint_classifier\\keypoint_classifier.hdf5\n",
            "29/29 [==============================] - 0s 3ms/step - loss: 1.2291 - accuracy: 0.4468 - val_loss: 1.1201 - val_accuracy: 0.5456\n",
            "Epoch 6/1000\n",
            " 1/29 [>.............................] - ETA: 0s - loss: 1.1827 - accuracy: 0.4453\n",
            "Epoch 6: saving model to model/keypoint_classifier\\keypoint_classifier.hdf5\n",
            "29/29 [==============================] - 0s 3ms/step - loss: 1.1921 - accuracy: 0.4745 - val_loss: 1.0645 - val_accuracy: 0.5883\n",
            "Epoch 7/1000\n",
            " 1/29 [>.............................] - ETA: 0s - loss: 1.1532 - accuracy: 0.4922\n",
            "Epoch 7: saving model to model/keypoint_classifier\\keypoint_classifier.hdf5\n",
            "29/29 [==============================] - 0s 4ms/step - loss: 1.1300 - accuracy: 0.4964 - val_loss: 1.0072 - val_accuracy: 0.6278\n",
            "Epoch 8/1000\n",
            "29/29 [==============================] - ETA: 0s - loss: 1.1062 - accuracy: 0.5143\n",
            "Epoch 8: saving model to model/keypoint_classifier\\keypoint_classifier.hdf5\n",
            "29/29 [==============================] - 0s 4ms/step - loss: 1.1062 - accuracy: 0.5143 - val_loss: 0.9552 - val_accuracy: 0.6647\n",
            "Epoch 9/1000\n",
            " 1/29 [>.............................] - ETA: 0s - loss: 1.0443 - accuracy: 0.5312\n",
            "Epoch 9: saving model to model/keypoint_classifier\\keypoint_classifier.hdf5\n",
            "29/29 [==============================] - 0s 4ms/step - loss: 1.0537 - accuracy: 0.5419 - val_loss: 0.8961 - val_accuracy: 0.6952\n",
            "Epoch 10/1000\n",
            " 1/29 [>.............................] - ETA: 0s - loss: 0.9941 - accuracy: 0.5234\n",
            "Epoch 10: saving model to model/keypoint_classifier\\keypoint_classifier.hdf5\n",
            "29/29 [==============================] - 0s 4ms/step - loss: 1.0251 - accuracy: 0.5526 - val_loss: 0.8347 - val_accuracy: 0.7132\n",
            "Epoch 11/1000\n",
            "23/29 [======================>.......] - ETA: 0s - loss: 1.0125 - accuracy: 0.5605\n",
            "Epoch 11: saving model to model/keypoint_classifier\\keypoint_classifier.hdf5\n",
            "29/29 [==============================] - 0s 5ms/step - loss: 1.0049 - accuracy: 0.5696 - val_loss: 0.7801 - val_accuracy: 0.7280\n",
            "Epoch 12/1000\n",
            "25/29 [========================>.....] - ETA: 0s - loss: 0.9614 - accuracy: 0.5803\n",
            "Epoch 12: saving model to model/keypoint_classifier\\keypoint_classifier.hdf5\n",
            "29/29 [==============================] - 0s 5ms/step - loss: 0.9582 - accuracy: 0.5820 - val_loss: 0.7362 - val_accuracy: 0.7477\n",
            "Epoch 13/1000\n",
            " 1/29 [>.............................] - ETA: 0s - loss: 0.9475 - accuracy: 0.6016\n",
            "Epoch 13: saving model to model/keypoint_classifier\\keypoint_classifier.hdf5\n",
            "29/29 [==============================] - 0s 4ms/step - loss: 0.9389 - accuracy: 0.5976 - val_loss: 0.6920 - val_accuracy: 0.7872\n",
            "Epoch 14/1000\n",
            "25/29 [========================>.....] - ETA: 0s - loss: 0.8837 - accuracy: 0.6316\n",
            "Epoch 14: saving model to model/keypoint_classifier\\keypoint_classifier.hdf5\n",
            "29/29 [==============================] - 0s 5ms/step - loss: 0.8895 - accuracy: 0.6280 - val_loss: 0.6476 - val_accuracy: 0.8381\n",
            "Epoch 15/1000\n",
            "28/29 [===========================>..] - ETA: 0s - loss: 0.8760 - accuracy: 0.6320\n",
            "Epoch 15: saving model to model/keypoint_classifier\\keypoint_classifier.hdf5\n",
            "29/29 [==============================] - 0s 4ms/step - loss: 0.8758 - accuracy: 0.6319 - val_loss: 0.6155 - val_accuracy: 0.8505\n",
            "Epoch 16/1000\n",
            " 1/29 [>.............................] - ETA: 0s - loss: 0.8350 - accuracy: 0.6797\n",
            "Epoch 16: saving model to model/keypoint_classifier\\keypoint_classifier.hdf5\n",
            "29/29 [==============================] - 0s 5ms/step - loss: 0.8556 - accuracy: 0.6313 - val_loss: 0.5775 - val_accuracy: 0.8537\n",
            "Epoch 17/1000\n",
            "11/29 [==========>...................] - ETA: 0s - loss: 0.8546 - accuracy: 0.6264\n",
            "Epoch 17: saving model to model/keypoint_classifier\\keypoint_classifier.hdf5\n",
            "29/29 [==============================] - 0s 5ms/step - loss: 0.8407 - accuracy: 0.6425 - val_loss: 0.5526 - val_accuracy: 0.8652\n",
            "Epoch 18/1000\n",
            "28/29 [===========================>..] - ETA: 0s - loss: 0.8146 - accuracy: 0.6624\n",
            "Epoch 18: saving model to model/keypoint_classifier\\keypoint_classifier.hdf5\n",
            "29/29 [==============================] - 0s 12ms/step - loss: 0.8150 - accuracy: 0.6612 - val_loss: 0.5266 - val_accuracy: 0.8652\n",
            "Epoch 19/1000\n",
            "19/29 [==================>...........] - ETA: 0s - loss: 0.7840 - accuracy: 0.6809\n",
            "Epoch 19: saving model to model/keypoint_classifier\\keypoint_classifier.hdf5\n",
            "29/29 [==============================] - 0s 10ms/step - loss: 0.7807 - accuracy: 0.6779 - val_loss: 0.5014 - val_accuracy: 0.8891\n",
            "Epoch 20/1000\n",
            " 1/29 [>.............................] - ETA: 0s - loss: 0.7520 - accuracy: 0.6641\n",
            "Epoch 20: saving model to model/keypoint_classifier\\keypoint_classifier.hdf5\n",
            "29/29 [==============================] - 0s 5ms/step - loss: 0.7878 - accuracy: 0.6735 - val_loss: 0.4863 - val_accuracy: 0.8841\n",
            "Epoch 21/1000\n",
            "22/29 [=====================>........] - ETA: 0s - loss: 0.7667 - accuracy: 0.6942\n",
            "Epoch 21: saving model to model/keypoint_classifier\\keypoint_classifier.hdf5\n",
            "29/29 [==============================] - 0s 7ms/step - loss: 0.7663 - accuracy: 0.6960 - val_loss: 0.4695 - val_accuracy: 0.8989\n",
            "Epoch 22/1000\n",
            "28/29 [===========================>..] - ETA: 0s - loss: 0.7774 - accuracy: 0.6730\n",
            "Epoch 22: saving model to model/keypoint_classifier\\keypoint_classifier.hdf5\n",
            "29/29 [==============================] - 0s 7ms/step - loss: 0.7776 - accuracy: 0.6727 - val_loss: 0.4658 - val_accuracy: 0.8940\n",
            "Epoch 23/1000\n",
            "19/29 [==================>...........] - ETA: 0s - loss: 0.7542 - accuracy: 0.6982\n",
            "Epoch 23: saving model to model/keypoint_classifier\\keypoint_classifier.hdf5\n",
            "29/29 [==============================] - 0s 6ms/step - loss: 0.7415 - accuracy: 0.7023 - val_loss: 0.4489 - val_accuracy: 0.9154\n",
            "Epoch 24/1000\n",
            "24/29 [=======================>......] - ETA: 0s - loss: 0.7573 - accuracy: 0.6908\n",
            "Epoch 24: saving model to model/keypoint_classifier\\keypoint_classifier.hdf5\n",
            "29/29 [==============================] - 0s 8ms/step - loss: 0.7512 - accuracy: 0.6924 - val_loss: 0.4375 - val_accuracy: 0.9211\n",
            "Epoch 25/1000\n",
            " 1/29 [>.............................] - ETA: 0s - loss: 0.7553 - accuracy: 0.7188\n",
            "Epoch 25: saving model to model/keypoint_classifier\\keypoint_classifier.hdf5\n",
            "29/29 [==============================] - 0s 4ms/step - loss: 0.7403 - accuracy: 0.7031 - val_loss: 0.4256 - val_accuracy: 0.9252\n",
            "Epoch 26/1000\n",
            "20/29 [===================>..........] - ETA: 0s - loss: 0.7367 - accuracy: 0.7031\n",
            "Epoch 26: saving model to model/keypoint_classifier\\keypoint_classifier.hdf5\n",
            "29/29 [==============================] - 0s 7ms/step - loss: 0.7313 - accuracy: 0.7053 - val_loss: 0.4161 - val_accuracy: 0.9277\n",
            "Epoch 27/1000\n",
            "29/29 [==============================] - ETA: 0s - loss: 0.7167 - accuracy: 0.7127\n",
            "Epoch 27: saving model to model/keypoint_classifier\\keypoint_classifier.hdf5\n",
            "29/29 [==============================] - 0s 8ms/step - loss: 0.7167 - accuracy: 0.7127 - val_loss: 0.4014 - val_accuracy: 0.9384\n",
            "Epoch 28/1000\n",
            "25/29 [========================>.....] - ETA: 0s - loss: 0.7077 - accuracy: 0.7203\n",
            "Epoch 28: saving model to model/keypoint_classifier\\keypoint_classifier.hdf5\n",
            "29/29 [==============================] - 0s 4ms/step - loss: 0.7046 - accuracy: 0.7220 - val_loss: 0.3951 - val_accuracy: 0.9351\n",
            "Epoch 29/1000\n",
            "20/29 [===================>..........] - ETA: 0s - loss: 0.6825 - accuracy: 0.7289\n",
            "Epoch 29: saving model to model/keypoint_classifier\\keypoint_classifier.hdf5\n",
            "29/29 [==============================] - 0s 7ms/step - loss: 0.6984 - accuracy: 0.7226 - val_loss: 0.3846 - val_accuracy: 0.9376\n",
            "Epoch 30/1000\n",
            "24/29 [=======================>......] - ETA: 0s - loss: 0.6931 - accuracy: 0.7207\n",
            "Epoch 30: saving model to model/keypoint_classifier\\keypoint_classifier.hdf5\n",
            "29/29 [==============================] - 0s 6ms/step - loss: 0.6926 - accuracy: 0.7207 - val_loss: 0.3818 - val_accuracy: 0.9376\n",
            "Epoch 31/1000\n",
            " 1/29 [>.............................] - ETA: 0s - loss: 0.6879 - accuracy: 0.6953\n",
            "Epoch 31: saving model to model/keypoint_classifier\\keypoint_classifier.hdf5\n",
            "29/29 [==============================] - 0s 4ms/step - loss: 0.7022 - accuracy: 0.7166 - val_loss: 0.3795 - val_accuracy: 0.9384\n",
            "Epoch 32/1000\n",
            " 1/29 [>.............................] - ETA: 0s - loss: 0.6990 - accuracy: 0.7500\n",
            "Epoch 32: saving model to model/keypoint_classifier\\keypoint_classifier.hdf5\n",
            "29/29 [==============================] - 0s 4ms/step - loss: 0.6992 - accuracy: 0.7253 - val_loss: 0.3728 - val_accuracy: 0.9400\n",
            "Epoch 33/1000\n",
            "20/29 [===================>..........] - ETA: 0s - loss: 0.6725 - accuracy: 0.7285\n",
            "Epoch 33: saving model to model/keypoint_classifier\\keypoint_classifier.hdf5\n",
            "29/29 [==============================] - 0s 15ms/step - loss: 0.6725 - accuracy: 0.7294 - val_loss: 0.3588 - val_accuracy: 0.9343\n",
            "Epoch 34/1000\n",
            "18/29 [=================>............] - ETA: 0s - loss: 0.6692 - accuracy: 0.7248\n",
            "Epoch 34: saving model to model/keypoint_classifier\\keypoint_classifier.hdf5\n",
            "29/29 [==============================] - 1s 27ms/step - loss: 0.6710 - accuracy: 0.7305 - val_loss: 0.3541 - val_accuracy: 0.9351\n",
            "Epoch 35/1000\n",
            "19/29 [==================>...........] - ETA: 0s - loss: 0.6841 - accuracy: 0.7200\n",
            "Epoch 35: saving model to model/keypoint_classifier\\keypoint_classifier.hdf5\n",
            "29/29 [==============================] - 0s 7ms/step - loss: 0.6739 - accuracy: 0.7333 - val_loss: 0.3541 - val_accuracy: 0.9392\n",
            "Epoch 36/1000\n",
            "28/29 [===========================>..] - ETA: 0s - loss: 0.6478 - accuracy: 0.7494\n",
            "Epoch 36: saving model to model/keypoint_classifier\\keypoint_classifier.hdf5\n",
            "29/29 [==============================] - 0s 8ms/step - loss: 0.6480 - accuracy: 0.7492 - val_loss: 0.3423 - val_accuracy: 0.9367\n",
            "Epoch 37/1000\n",
            "28/29 [===========================>..] - ETA: 0s - loss: 0.6927 - accuracy: 0.7363\n",
            "Epoch 37: saving model to model/keypoint_classifier\\keypoint_classifier.hdf5\n",
            "29/29 [==============================] - 1s 19ms/step - loss: 0.6926 - accuracy: 0.7366 - val_loss: 0.3425 - val_accuracy: 0.9425\n",
            "Epoch 38/1000\n",
            "18/29 [=================>............] - ETA: 0s - loss: 0.6828 - accuracy: 0.7331\n",
            "Epoch 38: saving model to model/keypoint_classifier\\keypoint_classifier.hdf5\n",
            "29/29 [==============================] - 0s 5ms/step - loss: 0.6846 - accuracy: 0.7325 - val_loss: 0.3391 - val_accuracy: 0.9482\n",
            "Epoch 39/1000\n",
            "15/29 [==============>...............] - ETA: 0s - loss: 0.6546 - accuracy: 0.7437\n",
            "Epoch 39: saving model to model/keypoint_classifier\\keypoint_classifier.hdf5\n",
            "29/29 [==============================] - 0s 6ms/step - loss: 0.6617 - accuracy: 0.7374 - val_loss: 0.3333 - val_accuracy: 0.9482\n",
            "Epoch 40/1000\n",
            "29/29 [==============================] - ETA: 0s - loss: 0.6634 - accuracy: 0.7390\n",
            "Epoch 40: saving model to model/keypoint_classifier\\keypoint_classifier.hdf5\n",
            "29/29 [==============================] - 0s 7ms/step - loss: 0.6634 - accuracy: 0.7390 - val_loss: 0.3318 - val_accuracy: 0.9474\n",
            "Epoch 41/1000\n",
            "27/29 [==========================>...] - ETA: 0s - loss: 0.6619 - accuracy: 0.7323\n",
            "Epoch 41: saving model to model/keypoint_classifier\\keypoint_classifier.hdf5\n",
            "29/29 [==============================] - 0s 4ms/step - loss: 0.6606 - accuracy: 0.7327 - val_loss: 0.3263 - val_accuracy: 0.9458\n",
            "Epoch 42/1000\n",
            "19/29 [==================>...........] - ETA: 0s - loss: 0.6674 - accuracy: 0.7307\n",
            "Epoch 42: saving model to model/keypoint_classifier\\keypoint_classifier.hdf5\n",
            "29/29 [==============================] - 0s 14ms/step - loss: 0.6639 - accuracy: 0.7382 - val_loss: 0.3233 - val_accuracy: 0.9458\n",
            "Epoch 43/1000\n",
            "22/29 [=====================>........] - ETA: 0s - loss: 0.6255 - accuracy: 0.7560\n",
            "Epoch 43: saving model to model/keypoint_classifier\\keypoint_classifier.hdf5\n",
            "29/29 [==============================] - 0s 11ms/step - loss: 0.6385 - accuracy: 0.7511 - val_loss: 0.3181 - val_accuracy: 0.9482\n",
            "Epoch 44/1000\n",
            "29/29 [==============================] - ETA: 0s - loss: 0.6317 - accuracy: 0.7590\n",
            "Epoch 44: saving model to model/keypoint_classifier\\keypoint_classifier.hdf5\n",
            "29/29 [==============================] - 1s 25ms/step - loss: 0.6317 - accuracy: 0.7590 - val_loss: 0.3156 - val_accuracy: 0.9441\n",
            "Epoch 45/1000\n",
            "28/29 [===========================>..] - ETA: 0s - loss: 0.6173 - accuracy: 0.7589\n",
            "Epoch 45: saving model to model/keypoint_classifier\\keypoint_classifier.hdf5\n",
            "29/29 [==============================] - 1s 30ms/step - loss: 0.6153 - accuracy: 0.7593 - val_loss: 0.3021 - val_accuracy: 0.9441\n",
            "Epoch 46/1000\n",
            "15/29 [==============>...............] - ETA: 0s - loss: 0.6278 - accuracy: 0.7536\n",
            "Epoch 46: saving model to model/keypoint_classifier\\keypoint_classifier.hdf5\n",
            "29/29 [==============================] - 0s 6ms/step - loss: 0.6226 - accuracy: 0.7601 - val_loss: 0.3048 - val_accuracy: 0.9400\n",
            "Epoch 47/1000\n",
            "21/29 [====================>.........] - ETA: 0s - loss: 0.6141 - accuracy: 0.7679\n",
            "Epoch 47: saving model to model/keypoint_classifier\\keypoint_classifier.hdf5\n",
            "29/29 [==============================] - 1s 24ms/step - loss: 0.6117 - accuracy: 0.7645 - val_loss: 0.2971 - val_accuracy: 0.9441\n",
            "Epoch 48/1000\n",
            "19/29 [==================>...........] - ETA: 0s - loss: 0.6485 - accuracy: 0.7434\n",
            "Epoch 48: saving model to model/keypoint_classifier\\keypoint_classifier.hdf5\n",
            "29/29 [==============================] - 0s 10ms/step - loss: 0.6365 - accuracy: 0.7484 - val_loss: 0.3006 - val_accuracy: 0.9466\n",
            "Epoch 49/1000\n",
            " 7/29 [======>.......................] - ETA: 0s - loss: 0.6183 - accuracy: 0.7422\n",
            "Epoch 49: saving model to model/keypoint_classifier\\keypoint_classifier.hdf5\n",
            "29/29 [==============================] - 0s 6ms/step - loss: 0.6056 - accuracy: 0.7593 - val_loss: 0.2925 - val_accuracy: 0.9433\n",
            "Epoch 50/1000\n",
            "25/29 [========================>.....] - ETA: 0s - loss: 0.6059 - accuracy: 0.7638\n",
            "Epoch 50: saving model to model/keypoint_classifier\\keypoint_classifier.hdf5\n",
            "29/29 [==============================] - 0s 11ms/step - loss: 0.6083 - accuracy: 0.7626 - val_loss: 0.2884 - val_accuracy: 0.9556\n",
            "Epoch 51/1000\n",
            "19/29 [==================>...........] - ETA: 0s - loss: 0.5862 - accuracy: 0.7718\n",
            "Epoch 51: saving model to model/keypoint_classifier\\keypoint_classifier.hdf5\n",
            "29/29 [==============================] - 0s 11ms/step - loss: 0.6033 - accuracy: 0.7686 - val_loss: 0.2867 - val_accuracy: 0.9540\n",
            "Epoch 52/1000\n",
            "28/29 [===========================>..] - ETA: 0s - loss: 0.5958 - accuracy: 0.7748\n",
            "Epoch 52: saving model to model/keypoint_classifier\\keypoint_classifier.hdf5\n",
            "29/29 [==============================] - 0s 9ms/step - loss: 0.5938 - accuracy: 0.7752 - val_loss: 0.2833 - val_accuracy: 0.9532\n",
            "Epoch 53/1000\n",
            "26/29 [=========================>....] - ETA: 0s - loss: 0.6118 - accuracy: 0.7605\n",
            "Epoch 53: saving model to model/keypoint_classifier\\keypoint_classifier.hdf5\n",
            "29/29 [==============================] - 0s 4ms/step - loss: 0.6078 - accuracy: 0.7612 - val_loss: 0.2804 - val_accuracy: 0.9606\n",
            "Epoch 54/1000\n",
            "27/29 [==========================>...] - ETA: 0s - loss: 0.6006 - accuracy: 0.7688\n",
            "Epoch 54: saving model to model/keypoint_classifier\\keypoint_classifier.hdf5\n",
            "29/29 [==============================] - 0s 5ms/step - loss: 0.5968 - accuracy: 0.7717 - val_loss: 0.2752 - val_accuracy: 0.9614\n",
            "Epoch 55/1000\n",
            " 8/29 [=======>......................] - ETA: 0s - loss: 0.5809 - accuracy: 0.7734\n",
            "Epoch 55: saving model to model/keypoint_classifier\\keypoint_classifier.hdf5\n",
            "29/29 [==============================] - 0s 12ms/step - loss: 0.5982 - accuracy: 0.7664 - val_loss: 0.2735 - val_accuracy: 0.9589\n",
            "Epoch 56/1000\n",
            "29/29 [==============================] - ETA: 0s - loss: 0.5932 - accuracy: 0.7722\n",
            "Epoch 56: saving model to model/keypoint_classifier\\keypoint_classifier.hdf5\n",
            "29/29 [==============================] - 0s 4ms/step - loss: 0.5932 - accuracy: 0.7722 - val_loss: 0.2695 - val_accuracy: 0.9606\n",
            "Epoch 57/1000\n",
            "24/29 [=======================>......] - ETA: 0s - loss: 0.5868 - accuracy: 0.7695\n",
            "Epoch 57: saving model to model/keypoint_classifier\\keypoint_classifier.hdf5\n",
            "29/29 [==============================] - 0s 9ms/step - loss: 0.5898 - accuracy: 0.7675 - val_loss: 0.2722 - val_accuracy: 0.9565\n",
            "Epoch 58/1000\n",
            "14/29 [=============>................] - ETA: 0s - loss: 0.5722 - accuracy: 0.7762\n",
            "Epoch 58: saving model to model/keypoint_classifier\\keypoint_classifier.hdf5\n",
            "29/29 [==============================] - 0s 9ms/step - loss: 0.5900 - accuracy: 0.7744 - val_loss: 0.2748 - val_accuracy: 0.9614\n",
            "Epoch 59/1000\n",
            " 9/29 [========>.....................] - ETA: 0s - loss: 0.6129 - accuracy: 0.7569\n",
            "Epoch 59: saving model to model/keypoint_classifier\\keypoint_classifier.hdf5\n",
            "29/29 [==============================] - 0s 8ms/step - loss: 0.5969 - accuracy: 0.7670 - val_loss: 0.2682 - val_accuracy: 0.9589\n",
            "Epoch 60/1000\n",
            "15/29 [==============>...............] - ETA: 0s - loss: 0.5716 - accuracy: 0.7760\n",
            "Epoch 60: saving model to model/keypoint_classifier\\keypoint_classifier.hdf5\n",
            "29/29 [==============================] - 0s 8ms/step - loss: 0.5693 - accuracy: 0.7780 - val_loss: 0.2610 - val_accuracy: 0.9556\n",
            "Epoch 61/1000\n",
            "12/29 [===========>..................] - ETA: 0s - loss: 0.5702 - accuracy: 0.7891\n",
            "Epoch 61: saving model to model/keypoint_classifier\\keypoint_classifier.hdf5\n",
            "29/29 [==============================] - 0s 6ms/step - loss: 0.5830 - accuracy: 0.7777 - val_loss: 0.2579 - val_accuracy: 0.9581\n",
            "Epoch 62/1000\n",
            "19/29 [==================>...........] - ETA: 0s - loss: 0.5768 - accuracy: 0.7800\n",
            "Epoch 62: saving model to model/keypoint_classifier\\keypoint_classifier.hdf5\n",
            "29/29 [==============================] - 0s 8ms/step - loss: 0.5777 - accuracy: 0.7782 - val_loss: 0.2572 - val_accuracy: 0.9565\n",
            "Epoch 63/1000\n",
            "28/29 [===========================>..] - ETA: 0s - loss: 0.5875 - accuracy: 0.7690\n",
            "Epoch 63: saving model to model/keypoint_classifier\\keypoint_classifier.hdf5\n",
            "29/29 [==============================] - 0s 4ms/step - loss: 0.5860 - accuracy: 0.7695 - val_loss: 0.2633 - val_accuracy: 0.9573\n",
            "Epoch 64/1000\n",
            " 1/29 [>.............................] - ETA: 0s - loss: 0.6130 - accuracy: 0.7812\n",
            "Epoch 64: saving model to model/keypoint_classifier\\keypoint_classifier.hdf5\n",
            "29/29 [==============================] - 0s 4ms/step - loss: 0.5896 - accuracy: 0.7832 - val_loss: 0.2583 - val_accuracy: 0.9565\n",
            "Epoch 65/1000\n",
            "27/29 [==========================>...] - ETA: 0s - loss: 0.5541 - accuracy: 0.7876\n",
            "Epoch 65: saving model to model/keypoint_classifier\\keypoint_classifier.hdf5\n",
            "29/29 [==============================] - 0s 7ms/step - loss: 0.5573 - accuracy: 0.7854 - val_loss: 0.2553 - val_accuracy: 0.9573\n",
            "Epoch 66/1000\n",
            "15/29 [==============>...............] - ETA: 0s - loss: 0.5712 - accuracy: 0.7781\n",
            "Epoch 66: saving model to model/keypoint_classifier\\keypoint_classifier.hdf5\n",
            "29/29 [==============================] - 0s 9ms/step - loss: 0.5731 - accuracy: 0.7802 - val_loss: 0.2539 - val_accuracy: 0.9589\n",
            "Epoch 67/1000\n",
            "29/29 [==============================] - ETA: 0s - loss: 0.5575 - accuracy: 0.7843\n",
            "Epoch 67: saving model to model/keypoint_classifier\\keypoint_classifier.hdf5\n",
            "29/29 [==============================] - 0s 4ms/step - loss: 0.5575 - accuracy: 0.7843 - val_loss: 0.2579 - val_accuracy: 0.9573\n",
            "Epoch 68/1000\n",
            " 1/29 [>.............................] - ETA: 0s - loss: 0.6162 - accuracy: 0.7656\n",
            "Epoch 68: saving model to model/keypoint_classifier\\keypoint_classifier.hdf5\n",
            "29/29 [==============================] - 0s 4ms/step - loss: 0.5625 - accuracy: 0.7826 - val_loss: 0.2469 - val_accuracy: 0.9606\n",
            "Epoch 69/1000\n",
            "26/29 [=========================>....] - ETA: 0s - loss: 0.5809 - accuracy: 0.7834\n",
            "Epoch 69: saving model to model/keypoint_classifier\\keypoint_classifier.hdf5\n",
            "29/29 [==============================] - 0s 4ms/step - loss: 0.5724 - accuracy: 0.7884 - val_loss: 0.2418 - val_accuracy: 0.9622\n",
            "Epoch 70/1000\n",
            " 1/29 [>.............................] - ETA: 0s - loss: 0.5995 - accuracy: 0.7500\n",
            "Epoch 70: saving model to model/keypoint_classifier\\keypoint_classifier.hdf5\n",
            "29/29 [==============================] - 0s 4ms/step - loss: 0.5711 - accuracy: 0.7777 - val_loss: 0.2415 - val_accuracy: 0.9614\n",
            "Epoch 71/1000\n",
            "20/29 [===================>..........] - ETA: 0s - loss: 0.5800 - accuracy: 0.7707\n",
            "Epoch 71: saving model to model/keypoint_classifier\\keypoint_classifier.hdf5\n",
            "29/29 [==============================] - 0s 5ms/step - loss: 0.5777 - accuracy: 0.7763 - val_loss: 0.2432 - val_accuracy: 0.9614\n",
            "Epoch 72/1000\n",
            "29/29 [==============================] - ETA: 0s - loss: 0.5541 - accuracy: 0.7865\n",
            "Epoch 72: saving model to model/keypoint_classifier\\keypoint_classifier.hdf5\n",
            "29/29 [==============================] - 0s 6ms/step - loss: 0.5541 - accuracy: 0.7865 - val_loss: 0.2444 - val_accuracy: 0.9589\n",
            "Epoch 73/1000\n",
            "26/29 [=========================>....] - ETA: 0s - loss: 0.5725 - accuracy: 0.7849\n",
            "Epoch 73: saving model to model/keypoint_classifier\\keypoint_classifier.hdf5\n",
            "29/29 [==============================] - 0s 6ms/step - loss: 0.5680 - accuracy: 0.7851 - val_loss: 0.2459 - val_accuracy: 0.9589\n",
            "Epoch 74/1000\n",
            "29/29 [==============================] - ETA: 0s - loss: 0.5674 - accuracy: 0.7870\n",
            "Epoch 74: saving model to model/keypoint_classifier\\keypoint_classifier.hdf5\n",
            "29/29 [==============================] - 0s 6ms/step - loss: 0.5674 - accuracy: 0.7870 - val_loss: 0.2411 - val_accuracy: 0.9630\n",
            "Epoch 75/1000\n",
            "25/29 [========================>.....] - ETA: 0s - loss: 0.5220 - accuracy: 0.8034\n",
            "Epoch 75: saving model to model/keypoint_classifier\\keypoint_classifier.hdf5\n",
            "29/29 [==============================] - 0s 11ms/step - loss: 0.5205 - accuracy: 0.8056 - val_loss: 0.2376 - val_accuracy: 0.9622\n",
            "Epoch 76/1000\n",
            "25/29 [========================>.....] - ETA: 0s - loss: 0.5624 - accuracy: 0.7959\n",
            "Epoch 76: saving model to model/keypoint_classifier\\keypoint_classifier.hdf5\n",
            "29/29 [==============================] - 0s 7ms/step - loss: 0.5614 - accuracy: 0.7958 - val_loss: 0.2373 - val_accuracy: 0.9597\n",
            "Epoch 77/1000\n",
            "29/29 [==============================] - ETA: 0s - loss: 0.5500 - accuracy: 0.7928\n",
            "Epoch 77: saving model to model/keypoint_classifier\\keypoint_classifier.hdf5\n",
            "29/29 [==============================] - 0s 11ms/step - loss: 0.5500 - accuracy: 0.7928 - val_loss: 0.2395 - val_accuracy: 0.9556\n",
            "Epoch 78/1000\n",
            " 1/29 [>.............................] - ETA: 0s - loss: 0.4319 - accuracy: 0.8750\n",
            "Epoch 78: saving model to model/keypoint_classifier\\keypoint_classifier.hdf5\n",
            "29/29 [==============================] - 0s 4ms/step - loss: 0.5413 - accuracy: 0.7982 - val_loss: 0.2351 - val_accuracy: 0.9581\n",
            "Epoch 79/1000\n",
            " 7/29 [======>.......................] - ETA: 0s - loss: 0.6202 - accuracy: 0.7812\n",
            "Epoch 79: saving model to model/keypoint_classifier\\keypoint_classifier.hdf5\n",
            "29/29 [==============================] - 0s 6ms/step - loss: 0.5989 - accuracy: 0.7747 - val_loss: 0.2412 - val_accuracy: 0.9638\n",
            "Epoch 80/1000\n",
            "28/29 [===========================>..] - ETA: 0s - loss: 0.5486 - accuracy: 0.7885\n",
            "Epoch 80: saving model to model/keypoint_classifier\\keypoint_classifier.hdf5\n",
            "29/29 [==============================] - 0s 5ms/step - loss: 0.5477 - accuracy: 0.7889 - val_loss: 0.2380 - val_accuracy: 0.9606\n",
            "Epoch 81/1000\n",
            " 9/29 [========>.....................] - ETA: 0s - loss: 0.5661 - accuracy: 0.7752\n",
            "Epoch 81: saving model to model/keypoint_classifier\\keypoint_classifier.hdf5\n",
            "29/29 [==============================] - 0s 5ms/step - loss: 0.5615 - accuracy: 0.7810 - val_loss: 0.2350 - val_accuracy: 0.9614\n",
            "Epoch 82/1000\n",
            "27/29 [==========================>...] - ETA: 0s - loss: 0.5505 - accuracy: 0.7885\n",
            "Epoch 82: saving model to model/keypoint_classifier\\keypoint_classifier.hdf5\n",
            "29/29 [==============================] - 0s 6ms/step - loss: 0.5502 - accuracy: 0.7884 - val_loss: 0.2293 - val_accuracy: 0.9614\n",
            "Epoch 83/1000\n",
            "20/29 [===================>..........] - ETA: 0s - loss: 0.5266 - accuracy: 0.8031\n",
            "Epoch 83: saving model to model/keypoint_classifier\\keypoint_classifier.hdf5\n",
            "29/29 [==============================] - 0s 5ms/step - loss: 0.5339 - accuracy: 0.7996 - val_loss: 0.2331 - val_accuracy: 0.9565\n",
            "Epoch 84/1000\n",
            "28/29 [===========================>..] - ETA: 0s - loss: 0.5450 - accuracy: 0.7946\n",
            "Epoch 84: saving model to model/keypoint_classifier\\keypoint_classifier.hdf5\n",
            "29/29 [==============================] - 0s 4ms/step - loss: 0.5452 - accuracy: 0.7950 - val_loss: 0.2305 - val_accuracy: 0.9606\n",
            "Epoch 85/1000\n",
            "28/29 [===========================>..] - ETA: 0s - loss: 0.5664 - accuracy: 0.7854\n",
            "Epoch 85: saving model to model/keypoint_classifier\\keypoint_classifier.hdf5\n",
            "29/29 [==============================] - 0s 6ms/step - loss: 0.5659 - accuracy: 0.7859 - val_loss: 0.2299 - val_accuracy: 0.9597\n",
            "Epoch 86/1000\n",
            "20/29 [===================>..........] - ETA: 0s - loss: 0.5287 - accuracy: 0.8012\n",
            "Epoch 86: saving model to model/keypoint_classifier\\keypoint_classifier.hdf5\n",
            "29/29 [==============================] - 0s 5ms/step - loss: 0.5267 - accuracy: 0.7993 - val_loss: 0.2307 - val_accuracy: 0.9606\n",
            "Epoch 87/1000\n",
            " 1/29 [>.............................] - ETA: 0s - loss: 0.5787 - accuracy: 0.7969\n",
            "Epoch 87: saving model to model/keypoint_classifier\\keypoint_classifier.hdf5\n",
            "29/29 [==============================] - 0s 4ms/step - loss: 0.5372 - accuracy: 0.8002 - val_loss: 0.2270 - val_accuracy: 0.9589\n",
            "Epoch 88/1000\n",
            "20/29 [===================>..........] - ETA: 0s - loss: 0.5803 - accuracy: 0.7766\n",
            "Epoch 88: saving model to model/keypoint_classifier\\keypoint_classifier.hdf5\n",
            "29/29 [==============================] - 0s 5ms/step - loss: 0.5680 - accuracy: 0.7829 - val_loss: 0.2285 - val_accuracy: 0.9614\n",
            "Epoch 89/1000\n",
            "26/29 [=========================>....] - ETA: 0s - loss: 0.5315 - accuracy: 0.8035\n",
            "Epoch 89: saving model to model/keypoint_classifier\\keypoint_classifier.hdf5\n",
            "29/29 [==============================] - 0s 6ms/step - loss: 0.5349 - accuracy: 0.8010 - val_loss: 0.2244 - val_accuracy: 0.9622\n",
            "Epoch 90/1000\n",
            "28/29 [===========================>..] - ETA: 0s - loss: 0.5250 - accuracy: 0.8047\n",
            "Epoch 90: saving model to model/keypoint_classifier\\keypoint_classifier.hdf5\n",
            "29/29 [==============================] - 0s 4ms/step - loss: 0.5301 - accuracy: 0.8013 - val_loss: 0.2217 - val_accuracy: 0.9573\n",
            "Epoch 91/1000\n",
            "28/29 [===========================>..] - ETA: 0s - loss: 0.5602 - accuracy: 0.7843\n",
            "Epoch 91: saving model to model/keypoint_classifier\\keypoint_classifier.hdf5\n",
            "29/29 [==============================] - 0s 5ms/step - loss: 0.5593 - accuracy: 0.7848 - val_loss: 0.2330 - val_accuracy: 0.9573\n",
            "Epoch 92/1000\n",
            "19/29 [==================>...........] - ETA: 0s - loss: 0.5155 - accuracy: 0.8096\n",
            "Epoch 92: saving model to model/keypoint_classifier\\keypoint_classifier.hdf5\n",
            "29/29 [==============================] - 0s 5ms/step - loss: 0.5354 - accuracy: 0.7991 - val_loss: 0.2284 - val_accuracy: 0.9589\n",
            "Epoch 93/1000\n",
            "26/29 [=========================>....] - ETA: 0s - loss: 0.5346 - accuracy: 0.7924\n",
            "Epoch 93: saving model to model/keypoint_classifier\\keypoint_classifier.hdf5\n",
            "29/29 [==============================] - 0s 6ms/step - loss: 0.5337 - accuracy: 0.7922 - val_loss: 0.2321 - val_accuracy: 0.9589\n",
            "Epoch 94/1000\n",
            "28/29 [===========================>..] - ETA: 0s - loss: 0.5092 - accuracy: 0.8080\n",
            "Epoch 94: saving model to model/keypoint_classifier\\keypoint_classifier.hdf5\n",
            "29/29 [==============================] - 0s 5ms/step - loss: 0.5099 - accuracy: 0.8089 - val_loss: 0.2184 - val_accuracy: 0.9614\n",
            "Epoch 95/1000\n",
            "21/29 [====================>.........] - ETA: 0s - loss: 0.4958 - accuracy: 0.8118\n",
            "Epoch 95: saving model to model/keypoint_classifier\\keypoint_classifier.hdf5\n",
            "29/29 [==============================] - 0s 12ms/step - loss: 0.5047 - accuracy: 0.8043 - val_loss: 0.2167 - val_accuracy: 0.9655\n",
            "Epoch 96/1000\n",
            "16/29 [===============>..............] - ETA: 0s - loss: 0.5437 - accuracy: 0.7959\n",
            "Epoch 96: saving model to model/keypoint_classifier\\keypoint_classifier.hdf5\n",
            "29/29 [==============================] - 0s 6ms/step - loss: 0.5438 - accuracy: 0.7933 - val_loss: 0.2235 - val_accuracy: 0.9606\n",
            "Epoch 97/1000\n",
            "29/29 [==============================] - ETA: 0s - loss: 0.5254 - accuracy: 0.8018\n",
            "Epoch 97: saving model to model/keypoint_classifier\\keypoint_classifier.hdf5\n",
            "29/29 [==============================] - 0s 4ms/step - loss: 0.5254 - accuracy: 0.8018 - val_loss: 0.2158 - val_accuracy: 0.9630\n",
            "Epoch 98/1000\n",
            "25/29 [========================>.....] - ETA: 0s - loss: 0.5197 - accuracy: 0.7997\n",
            "Epoch 98: saving model to model/keypoint_classifier\\keypoint_classifier.hdf5\n",
            "29/29 [==============================] - 0s 7ms/step - loss: 0.5196 - accuracy: 0.8004 - val_loss: 0.2094 - val_accuracy: 0.9630\n",
            "Epoch 99/1000\n",
            "20/29 [===================>..........] - ETA: 0s - loss: 0.5343 - accuracy: 0.7926\n",
            "Epoch 99: saving model to model/keypoint_classifier\\keypoint_classifier.hdf5\n",
            "29/29 [==============================] - 0s 6ms/step - loss: 0.5375 - accuracy: 0.7961 - val_loss: 0.2121 - val_accuracy: 0.9630\n",
            "Epoch 100/1000\n",
            "25/29 [========================>.....] - ETA: 0s - loss: 0.5006 - accuracy: 0.8144\n",
            "Epoch 100: saving model to model/keypoint_classifier\\keypoint_classifier.hdf5\n",
            "29/29 [==============================] - 0s 5ms/step - loss: 0.5007 - accuracy: 0.8144 - val_loss: 0.2124 - val_accuracy: 0.9622\n",
            "Epoch 101/1000\n",
            "11/29 [==========>...................] - ETA: 0s - loss: 0.5336 - accuracy: 0.7955\n",
            "Epoch 101: saving model to model/keypoint_classifier\\keypoint_classifier.hdf5\n",
            "29/29 [==============================] - 0s 10ms/step - loss: 0.5240 - accuracy: 0.7999 - val_loss: 0.2140 - val_accuracy: 0.9647\n",
            "Epoch 102/1000\n",
            "13/29 [============>.................] - ETA: 0s - loss: 0.5466 - accuracy: 0.7855\n",
            "Epoch 102: saving model to model/keypoint_classifier\\keypoint_classifier.hdf5\n",
            "29/29 [==============================] - 0s 6ms/step - loss: 0.5345 - accuracy: 0.7974 - val_loss: 0.2185 - val_accuracy: 0.9606\n",
            "Epoch 103/1000\n",
            "23/29 [======================>.......] - ETA: 0s - loss: 0.4970 - accuracy: 0.8139\n",
            "Epoch 103: saving model to model/keypoint_classifier\\keypoint_classifier.hdf5\n",
            "29/29 [==============================] - 0s 9ms/step - loss: 0.4944 - accuracy: 0.8139 - val_loss: 0.2100 - val_accuracy: 0.9647\n",
            "Epoch 104/1000\n",
            "11/29 [==========>...................] - ETA: 0s - loss: 0.5076 - accuracy: 0.8146\n",
            "Epoch 104: saving model to model/keypoint_classifier\\keypoint_classifier.hdf5\n",
            "29/29 [==============================] - 0s 6ms/step - loss: 0.5088 - accuracy: 0.8070 - val_loss: 0.2080 - val_accuracy: 0.9680\n",
            "Epoch 105/1000\n",
            "27/29 [==========================>...] - ETA: 0s - loss: 0.5184 - accuracy: 0.8061\n",
            "Epoch 105: saving model to model/keypoint_classifier\\keypoint_classifier.hdf5\n",
            "29/29 [==============================] - 0s 10ms/step - loss: 0.5141 - accuracy: 0.8067 - val_loss: 0.2102 - val_accuracy: 0.9597\n",
            "Epoch 106/1000\n",
            "15/29 [==============>...............] - ETA: 0s - loss: 0.5125 - accuracy: 0.8036\n",
            "Epoch 106: saving model to model/keypoint_classifier\\keypoint_classifier.hdf5\n",
            "29/29 [==============================] - 0s 9ms/step - loss: 0.5153 - accuracy: 0.8035 - val_loss: 0.2135 - val_accuracy: 0.9638\n",
            "Epoch 107/1000\n",
            "24/29 [=======================>......] - ETA: 0s - loss: 0.5231 - accuracy: 0.8099\n",
            "Epoch 107: saving model to model/keypoint_classifier\\keypoint_classifier.hdf5\n",
            "29/29 [==============================] - 0s 11ms/step - loss: 0.5249 - accuracy: 0.8046 - val_loss: 0.2092 - val_accuracy: 0.9606\n",
            "Epoch 108/1000\n",
            "20/29 [===================>..........] - ETA: 0s - loss: 0.5052 - accuracy: 0.8074\n",
            "Epoch 108: saving model to model/keypoint_classifier\\keypoint_classifier.hdf5\n",
            "29/29 [==============================] - 0s 7ms/step - loss: 0.5082 - accuracy: 0.8059 - val_loss: 0.2115 - val_accuracy: 0.9663\n",
            "Epoch 109/1000\n",
            "14/29 [=============>................] - ETA: 0s - loss: 0.4985 - accuracy: 0.8075\n",
            "Epoch 109: saving model to model/keypoint_classifier\\keypoint_classifier.hdf5\n",
            "29/29 [==============================] - 0s 6ms/step - loss: 0.5002 - accuracy: 0.8084 - val_loss: 0.2088 - val_accuracy: 0.9655\n",
            "Epoch 110/1000\n",
            " 1/29 [>.............................] - ETA: 0s - loss: 0.4326 - accuracy: 0.8281\n",
            "Epoch 110: saving model to model/keypoint_classifier\\keypoint_classifier.hdf5\n",
            "29/29 [==============================] - 0s 4ms/step - loss: 0.4961 - accuracy: 0.8130 - val_loss: 0.2066 - val_accuracy: 0.9622\n",
            "Epoch 111/1000\n",
            "18/29 [=================>............] - ETA: 0s - loss: 0.5003 - accuracy: 0.8186\n",
            "Epoch 111: saving model to model/keypoint_classifier\\keypoint_classifier.hdf5\n",
            "29/29 [==============================] - 0s 9ms/step - loss: 0.5067 - accuracy: 0.8128 - val_loss: 0.2090 - val_accuracy: 0.9573\n",
            "Epoch 112/1000\n",
            " 1/29 [>.............................] - ETA: 0s - loss: 0.5859 - accuracy: 0.7734\n",
            "Epoch 112: saving model to model/keypoint_classifier\\keypoint_classifier.hdf5\n",
            "29/29 [==============================] - 0s 4ms/step - loss: 0.5207 - accuracy: 0.8013 - val_loss: 0.2099 - val_accuracy: 0.9581\n",
            "Epoch 113/1000\n",
            "23/29 [======================>.......] - ETA: 0s - loss: 0.4958 - accuracy: 0.8105\n",
            "Epoch 113: saving model to model/keypoint_classifier\\keypoint_classifier.hdf5\n",
            "29/29 [==============================] - 0s 9ms/step - loss: 0.5070 - accuracy: 0.8081 - val_loss: 0.2045 - val_accuracy: 0.9638\n",
            "Epoch 114/1000\n",
            " 1/29 [>.............................] - ETA: 0s - loss: 0.4958 - accuracy: 0.8047\n",
            "Epoch 114: saving model to model/keypoint_classifier\\keypoint_classifier.hdf5\n",
            "29/29 [==============================] - 0s 4ms/step - loss: 0.4901 - accuracy: 0.8141 - val_loss: 0.2051 - val_accuracy: 0.9614\n",
            "Epoch 115/1000\n",
            "13/29 [============>.................] - ETA: 0s - loss: 0.4887 - accuracy: 0.8113\n",
            "Epoch 115: saving model to model/keypoint_classifier\\keypoint_classifier.hdf5\n",
            "29/29 [==============================] - 0s 9ms/step - loss: 0.4916 - accuracy: 0.8117 - val_loss: 0.2013 - val_accuracy: 0.9647\n",
            "Epoch 116/1000\n",
            " 1/29 [>.............................] - ETA: 0s - loss: 0.4431 - accuracy: 0.8203\n",
            "Epoch 116: saving model to model/keypoint_classifier\\keypoint_classifier.hdf5\n",
            "29/29 [==============================] - 0s 4ms/step - loss: 0.5158 - accuracy: 0.8048 - val_loss: 0.2077 - val_accuracy: 0.9581\n",
            "Epoch 117/1000\n",
            " 1/29 [>.............................] - ETA: 0s - loss: 0.4535 - accuracy: 0.7969\n",
            "Epoch 117: saving model to model/keypoint_classifier\\keypoint_classifier.hdf5\n",
            "29/29 [==============================] - 0s 4ms/step - loss: 0.5172 - accuracy: 0.8070 - val_loss: 0.2053 - val_accuracy: 0.9671\n",
            "Epoch 118/1000\n",
            " 1/29 [>.............................] - ETA: 0s - loss: 0.4750 - accuracy: 0.8203\n",
            "Epoch 118: saving model to model/keypoint_classifier\\keypoint_classifier.hdf5\n",
            "29/29 [==============================] - 0s 4ms/step - loss: 0.4997 - accuracy: 0.8174 - val_loss: 0.2067 - val_accuracy: 0.9622\n",
            "Epoch 119/1000\n",
            "23/29 [======================>.......] - ETA: 0s - loss: 0.5451 - accuracy: 0.7857\n",
            "Epoch 119: saving model to model/keypoint_classifier\\keypoint_classifier.hdf5\n",
            "29/29 [==============================] - 0s 6ms/step - loss: 0.5304 - accuracy: 0.7936 - val_loss: 0.2081 - val_accuracy: 0.9606\n",
            "Epoch 120/1000\n",
            "24/29 [=======================>......] - ETA: 0s - loss: 0.5157 - accuracy: 0.8086\n",
            "Epoch 120: saving model to model/keypoint_classifier\\keypoint_classifier.hdf5\n",
            "29/29 [==============================] - 0s 13ms/step - loss: 0.5085 - accuracy: 0.8117 - val_loss: 0.2047 - val_accuracy: 0.9581\n",
            "Epoch 121/1000\n",
            "12/29 [===========>..................] - ETA: 0s - loss: 0.5082 - accuracy: 0.8151\n",
            "Epoch 121: saving model to model/keypoint_classifier\\keypoint_classifier.hdf5\n",
            "29/29 [==============================] - 0s 6ms/step - loss: 0.4990 - accuracy: 0.8139 - val_loss: 0.1979 - val_accuracy: 0.9663\n",
            "Epoch 122/1000\n",
            "17/29 [================>.............] - ETA: 0s - loss: 0.4955 - accuracy: 0.8143\n",
            "Epoch 122: saving model to model/keypoint_classifier\\keypoint_classifier.hdf5\n",
            "29/29 [==============================] - 0s 10ms/step - loss: 0.5118 - accuracy: 0.8095 - val_loss: 0.2048 - val_accuracy: 0.9614\n",
            "Epoch 123/1000\n",
            "22/29 [=====================>........] - ETA: 0s - loss: 0.5072 - accuracy: 0.8075\n",
            "Epoch 123: saving model to model/keypoint_classifier\\keypoint_classifier.hdf5\n",
            "29/29 [==============================] - 0s 5ms/step - loss: 0.5088 - accuracy: 0.8100 - val_loss: 0.2054 - val_accuracy: 0.9614\n",
            "Epoch 124/1000\n",
            " 9/29 [========>.....................] - ETA: 0s - loss: 0.5468 - accuracy: 0.7856\n",
            "Epoch 124: saving model to model/keypoint_classifier\\keypoint_classifier.hdf5\n",
            "29/29 [==============================] - 0s 6ms/step - loss: 0.5236 - accuracy: 0.8035 - val_loss: 0.2029 - val_accuracy: 0.9614\n",
            "Epoch 125/1000\n",
            "12/29 [===========>..................] - ETA: 0s - loss: 0.4849 - accuracy: 0.8138\n",
            "Epoch 125: saving model to model/keypoint_classifier\\keypoint_classifier.hdf5\n",
            "29/29 [==============================] - 0s 9ms/step - loss: 0.4930 - accuracy: 0.8144 - val_loss: 0.1981 - val_accuracy: 0.9671\n",
            "Epoch 126/1000\n",
            "19/29 [==================>...........] - ETA: 0s - loss: 0.5013 - accuracy: 0.8166\n",
            "Epoch 126: saving model to model/keypoint_classifier\\keypoint_classifier.hdf5\n",
            "29/29 [==============================] - 0s 5ms/step - loss: 0.4978 - accuracy: 0.8169 - val_loss: 0.1999 - val_accuracy: 0.9647\n",
            "Epoch 127/1000\n",
            "24/29 [=======================>......] - ETA: 0s - loss: 0.4958 - accuracy: 0.8145\n",
            "Epoch 127: saving model to model/keypoint_classifier\\keypoint_classifier.hdf5\n",
            "29/29 [==============================] - 0s 4ms/step - loss: 0.4937 - accuracy: 0.8180 - val_loss: 0.2037 - val_accuracy: 0.9573\n",
            "Epoch 128/1000\n",
            "26/29 [=========================>....] - ETA: 0s - loss: 0.5156 - accuracy: 0.8062\n",
            "Epoch 128: saving model to model/keypoint_classifier\\keypoint_classifier.hdf5\n",
            "29/29 [==============================] - 0s 4ms/step - loss: 0.5159 - accuracy: 0.8070 - val_loss: 0.1994 - val_accuracy: 0.9663\n",
            "Epoch 129/1000\n",
            "22/29 [=====================>........] - ETA: 0s - loss: 0.4909 - accuracy: 0.8111\n",
            "Epoch 129: saving model to model/keypoint_classifier\\keypoint_classifier.hdf5\n",
            "29/29 [==============================] - 0s 5ms/step - loss: 0.5037 - accuracy: 0.8120 - val_loss: 0.2076 - val_accuracy: 0.9532\n",
            "Epoch 130/1000\n",
            " 1/29 [>.............................] - ETA: 0s - loss: 0.6741 - accuracy: 0.7734"
          ]
        },
        {
          "ename": "KeyboardInterrupt",
          "evalue": "",
          "output_type": "error",
          "traceback": [
            "\u001b[1;31m---------------------------------------------------------------------------\u001b[0m",
            "\u001b[1;31mKeyboardInterrupt\u001b[0m                         Traceback (most recent call last)",
            "Cell \u001b[1;32mIn[13], line 1\u001b[0m\n\u001b[1;32m----> 1\u001b[0m \u001b[43mmodel\u001b[49m\u001b[38;5;241;43m.\u001b[39;49m\u001b[43mfit\u001b[49m\u001b[43m(\u001b[49m\n\u001b[0;32m      2\u001b[0m \u001b[43m    \u001b[49m\u001b[43mX_train\u001b[49m\u001b[43m,\u001b[49m\n\u001b[0;32m      3\u001b[0m \u001b[43m    \u001b[49m\u001b[43my_train\u001b[49m\u001b[43m,\u001b[49m\n\u001b[0;32m      4\u001b[0m \u001b[43m    \u001b[49m\u001b[43mepochs\u001b[49m\u001b[38;5;241;43m=\u001b[39;49m\u001b[38;5;241;43m1000\u001b[39;49m\u001b[43m,\u001b[49m\n\u001b[0;32m      5\u001b[0m \u001b[43m    \u001b[49m\u001b[43mbatch_size\u001b[49m\u001b[38;5;241;43m=\u001b[39;49m\u001b[38;5;241;43m128\u001b[39;49m\u001b[43m,\u001b[49m\n\u001b[0;32m      6\u001b[0m \u001b[43m    \u001b[49m\u001b[43mvalidation_data\u001b[49m\u001b[38;5;241;43m=\u001b[39;49m\u001b[43m(\u001b[49m\u001b[43mX_test\u001b[49m\u001b[43m,\u001b[49m\u001b[43m \u001b[49m\u001b[43my_test\u001b[49m\u001b[43m)\u001b[49m\u001b[43m,\u001b[49m\n\u001b[0;32m      7\u001b[0m \u001b[43m    \u001b[49m\u001b[43mcallbacks\u001b[49m\u001b[38;5;241;43m=\u001b[39;49m\u001b[43m[\u001b[49m\u001b[43mcp_callback\u001b[49m\u001b[43m,\u001b[49m\u001b[43m \u001b[49m\u001b[43mes_callback\u001b[49m\u001b[43m]\u001b[49m\n\u001b[0;32m      8\u001b[0m \u001b[43m)\u001b[49m\n",
            "File \u001b[1;32mc:\\Users\\ADMIN\\anaconda3\\envs\\env1\\lib\\site-packages\\keras\\utils\\traceback_utils.py:65\u001b[0m, in \u001b[0;36mfilter_traceback.<locals>.error_handler\u001b[1;34m(*args, **kwargs)\u001b[0m\n\u001b[0;32m     63\u001b[0m filtered_tb \u001b[38;5;241m=\u001b[39m \u001b[38;5;28;01mNone\u001b[39;00m\n\u001b[0;32m     64\u001b[0m \u001b[38;5;28;01mtry\u001b[39;00m:\n\u001b[1;32m---> 65\u001b[0m     \u001b[38;5;28;01mreturn\u001b[39;00m \u001b[43mfn\u001b[49m\u001b[43m(\u001b[49m\u001b[38;5;241;43m*\u001b[39;49m\u001b[43margs\u001b[49m\u001b[43m,\u001b[49m\u001b[43m \u001b[49m\u001b[38;5;241;43m*\u001b[39;49m\u001b[38;5;241;43m*\u001b[39;49m\u001b[43mkwargs\u001b[49m\u001b[43m)\u001b[49m\n\u001b[0;32m     66\u001b[0m \u001b[38;5;28;01mexcept\u001b[39;00m \u001b[38;5;167;01mException\u001b[39;00m \u001b[38;5;28;01mas\u001b[39;00m e:\n\u001b[0;32m     67\u001b[0m     filtered_tb \u001b[38;5;241m=\u001b[39m _process_traceback_frames(e\u001b[38;5;241m.\u001b[39m__traceback__)\n",
            "File \u001b[1;32mc:\\Users\\ADMIN\\anaconda3\\envs\\env1\\lib\\site-packages\\keras\\engine\\training.py:1564\u001b[0m, in \u001b[0;36mModel.fit\u001b[1;34m(self, x, y, batch_size, epochs, verbose, callbacks, validation_split, validation_data, shuffle, class_weight, sample_weight, initial_epoch, steps_per_epoch, validation_steps, validation_batch_size, validation_freq, max_queue_size, workers, use_multiprocessing)\u001b[0m\n\u001b[0;32m   1556\u001b[0m \u001b[38;5;28;01mwith\u001b[39;00m tf\u001b[38;5;241m.\u001b[39mprofiler\u001b[38;5;241m.\u001b[39mexperimental\u001b[38;5;241m.\u001b[39mTrace(\n\u001b[0;32m   1557\u001b[0m     \u001b[38;5;124m\"\u001b[39m\u001b[38;5;124mtrain\u001b[39m\u001b[38;5;124m\"\u001b[39m,\n\u001b[0;32m   1558\u001b[0m     epoch_num\u001b[38;5;241m=\u001b[39mepoch,\n\u001b[1;32m   (...)\u001b[0m\n\u001b[0;32m   1561\u001b[0m     _r\u001b[38;5;241m=\u001b[39m\u001b[38;5;241m1\u001b[39m,\n\u001b[0;32m   1562\u001b[0m ):\n\u001b[0;32m   1563\u001b[0m     callbacks\u001b[38;5;241m.\u001b[39mon_train_batch_begin(step)\n\u001b[1;32m-> 1564\u001b[0m     tmp_logs \u001b[38;5;241m=\u001b[39m \u001b[38;5;28;43mself\u001b[39;49m\u001b[38;5;241;43m.\u001b[39;49m\u001b[43mtrain_function\u001b[49m\u001b[43m(\u001b[49m\u001b[43miterator\u001b[49m\u001b[43m)\u001b[49m\n\u001b[0;32m   1565\u001b[0m     \u001b[38;5;28;01mif\u001b[39;00m data_handler\u001b[38;5;241m.\u001b[39mshould_sync:\n\u001b[0;32m   1566\u001b[0m         context\u001b[38;5;241m.\u001b[39masync_wait()\n",
            "File \u001b[1;32mc:\\Users\\ADMIN\\anaconda3\\envs\\env1\\lib\\site-packages\\tensorflow\\python\\util\\traceback_utils.py:150\u001b[0m, in \u001b[0;36mfilter_traceback.<locals>.error_handler\u001b[1;34m(*args, **kwargs)\u001b[0m\n\u001b[0;32m    148\u001b[0m filtered_tb \u001b[38;5;241m=\u001b[39m \u001b[38;5;28;01mNone\u001b[39;00m\n\u001b[0;32m    149\u001b[0m \u001b[38;5;28;01mtry\u001b[39;00m:\n\u001b[1;32m--> 150\u001b[0m   \u001b[38;5;28;01mreturn\u001b[39;00m \u001b[43mfn\u001b[49m\u001b[43m(\u001b[49m\u001b[38;5;241;43m*\u001b[39;49m\u001b[43margs\u001b[49m\u001b[43m,\u001b[49m\u001b[43m \u001b[49m\u001b[38;5;241;43m*\u001b[39;49m\u001b[38;5;241;43m*\u001b[39;49m\u001b[43mkwargs\u001b[49m\u001b[43m)\u001b[49m\n\u001b[0;32m    151\u001b[0m \u001b[38;5;28;01mexcept\u001b[39;00m \u001b[38;5;167;01mException\u001b[39;00m \u001b[38;5;28;01mas\u001b[39;00m e:\n\u001b[0;32m    152\u001b[0m   filtered_tb \u001b[38;5;241m=\u001b[39m _process_traceback_frames(e\u001b[38;5;241m.\u001b[39m__traceback__)\n",
            "File \u001b[1;32mc:\\Users\\ADMIN\\anaconda3\\envs\\env1\\lib\\site-packages\\tensorflow\\python\\eager\\def_function.py:915\u001b[0m, in \u001b[0;36mFunction.__call__\u001b[1;34m(self, *args, **kwds)\u001b[0m\n\u001b[0;32m    912\u001b[0m compiler \u001b[38;5;241m=\u001b[39m \u001b[38;5;124m\"\u001b[39m\u001b[38;5;124mxla\u001b[39m\u001b[38;5;124m\"\u001b[39m \u001b[38;5;28;01mif\u001b[39;00m \u001b[38;5;28mself\u001b[39m\u001b[38;5;241m.\u001b[39m_jit_compile \u001b[38;5;28;01melse\u001b[39;00m \u001b[38;5;124m\"\u001b[39m\u001b[38;5;124mnonXla\u001b[39m\u001b[38;5;124m\"\u001b[39m\n\u001b[0;32m    914\u001b[0m \u001b[38;5;28;01mwith\u001b[39;00m OptionalXlaContext(\u001b[38;5;28mself\u001b[39m\u001b[38;5;241m.\u001b[39m_jit_compile):\n\u001b[1;32m--> 915\u001b[0m   result \u001b[38;5;241m=\u001b[39m \u001b[38;5;28;43mself\u001b[39;49m\u001b[38;5;241;43m.\u001b[39;49m\u001b[43m_call\u001b[49m\u001b[43m(\u001b[49m\u001b[38;5;241;43m*\u001b[39;49m\u001b[43margs\u001b[49m\u001b[43m,\u001b[49m\u001b[43m \u001b[49m\u001b[38;5;241;43m*\u001b[39;49m\u001b[38;5;241;43m*\u001b[39;49m\u001b[43mkwds\u001b[49m\u001b[43m)\u001b[49m\n\u001b[0;32m    917\u001b[0m new_tracing_count \u001b[38;5;241m=\u001b[39m \u001b[38;5;28mself\u001b[39m\u001b[38;5;241m.\u001b[39mexperimental_get_tracing_count()\n\u001b[0;32m    918\u001b[0m without_tracing \u001b[38;5;241m=\u001b[39m (tracing_count \u001b[38;5;241m==\u001b[39m new_tracing_count)\n",
            "File \u001b[1;32mc:\\Users\\ADMIN\\anaconda3\\envs\\env1\\lib\\site-packages\\tensorflow\\python\\eager\\def_function.py:947\u001b[0m, in \u001b[0;36mFunction._call\u001b[1;34m(self, *args, **kwds)\u001b[0m\n\u001b[0;32m    944\u001b[0m   \u001b[38;5;28mself\u001b[39m\u001b[38;5;241m.\u001b[39m_lock\u001b[38;5;241m.\u001b[39mrelease()\n\u001b[0;32m    945\u001b[0m   \u001b[38;5;66;03m# In this case we have created variables on the first call, so we run the\u001b[39;00m\n\u001b[0;32m    946\u001b[0m   \u001b[38;5;66;03m# defunned version which is guaranteed to never create variables.\u001b[39;00m\n\u001b[1;32m--> 947\u001b[0m   \u001b[38;5;28;01mreturn\u001b[39;00m \u001b[38;5;28;43mself\u001b[39;49m\u001b[38;5;241;43m.\u001b[39;49m\u001b[43m_stateless_fn\u001b[49m\u001b[43m(\u001b[49m\u001b[38;5;241;43m*\u001b[39;49m\u001b[43margs\u001b[49m\u001b[43m,\u001b[49m\u001b[43m \u001b[49m\u001b[38;5;241;43m*\u001b[39;49m\u001b[38;5;241;43m*\u001b[39;49m\u001b[43mkwds\u001b[49m\u001b[43m)\u001b[49m  \u001b[38;5;66;03m# pylint: disable=not-callable\u001b[39;00m\n\u001b[0;32m    948\u001b[0m \u001b[38;5;28;01melif\u001b[39;00m \u001b[38;5;28mself\u001b[39m\u001b[38;5;241m.\u001b[39m_stateful_fn \u001b[38;5;129;01mis\u001b[39;00m \u001b[38;5;129;01mnot\u001b[39;00m \u001b[38;5;28;01mNone\u001b[39;00m:\n\u001b[0;32m    949\u001b[0m   \u001b[38;5;66;03m# Release the lock early so that multiple threads can perform the call\u001b[39;00m\n\u001b[0;32m    950\u001b[0m   \u001b[38;5;66;03m# in parallel.\u001b[39;00m\n\u001b[0;32m    951\u001b[0m   \u001b[38;5;28mself\u001b[39m\u001b[38;5;241m.\u001b[39m_lock\u001b[38;5;241m.\u001b[39mrelease()\n",
            "File \u001b[1;32mc:\\Users\\ADMIN\\anaconda3\\envs\\env1\\lib\\site-packages\\tensorflow\\python\\eager\\function.py:2496\u001b[0m, in \u001b[0;36mFunction.__call__\u001b[1;34m(self, *args, **kwargs)\u001b[0m\n\u001b[0;32m   2493\u001b[0m \u001b[38;5;28;01mwith\u001b[39;00m \u001b[38;5;28mself\u001b[39m\u001b[38;5;241m.\u001b[39m_lock:\n\u001b[0;32m   2494\u001b[0m   (graph_function,\n\u001b[0;32m   2495\u001b[0m    filtered_flat_args) \u001b[38;5;241m=\u001b[39m \u001b[38;5;28mself\u001b[39m\u001b[38;5;241m.\u001b[39m_maybe_define_function(args, kwargs)\n\u001b[1;32m-> 2496\u001b[0m \u001b[38;5;28;01mreturn\u001b[39;00m \u001b[43mgraph_function\u001b[49m\u001b[38;5;241;43m.\u001b[39;49m\u001b[43m_call_flat\u001b[49m\u001b[43m(\u001b[49m\n\u001b[0;32m   2497\u001b[0m \u001b[43m    \u001b[49m\u001b[43mfiltered_flat_args\u001b[49m\u001b[43m,\u001b[49m\u001b[43m \u001b[49m\u001b[43mcaptured_inputs\u001b[49m\u001b[38;5;241;43m=\u001b[39;49m\u001b[43mgraph_function\u001b[49m\u001b[38;5;241;43m.\u001b[39;49m\u001b[43mcaptured_inputs\u001b[49m\u001b[43m)\u001b[49m\n",
            "File \u001b[1;32mc:\\Users\\ADMIN\\anaconda3\\envs\\env1\\lib\\site-packages\\tensorflow\\python\\eager\\function.py:1862\u001b[0m, in \u001b[0;36mConcreteFunction._call_flat\u001b[1;34m(self, args, captured_inputs, cancellation_manager)\u001b[0m\n\u001b[0;32m   1858\u001b[0m possible_gradient_type \u001b[38;5;241m=\u001b[39m gradients_util\u001b[38;5;241m.\u001b[39mPossibleTapeGradientTypes(args)\n\u001b[0;32m   1859\u001b[0m \u001b[38;5;28;01mif\u001b[39;00m (possible_gradient_type \u001b[38;5;241m==\u001b[39m gradients_util\u001b[38;5;241m.\u001b[39mPOSSIBLE_GRADIENT_TYPES_NONE\n\u001b[0;32m   1860\u001b[0m     \u001b[38;5;129;01mand\u001b[39;00m executing_eagerly):\n\u001b[0;32m   1861\u001b[0m   \u001b[38;5;66;03m# No tape is watching; skip to running the function.\u001b[39;00m\n\u001b[1;32m-> 1862\u001b[0m   \u001b[38;5;28;01mreturn\u001b[39;00m \u001b[38;5;28mself\u001b[39m\u001b[38;5;241m.\u001b[39m_build_call_outputs(\u001b[38;5;28;43mself\u001b[39;49m\u001b[38;5;241;43m.\u001b[39;49m\u001b[43m_inference_function\u001b[49m\u001b[38;5;241;43m.\u001b[39;49m\u001b[43mcall\u001b[49m\u001b[43m(\u001b[49m\n\u001b[0;32m   1863\u001b[0m \u001b[43m      \u001b[49m\u001b[43mctx\u001b[49m\u001b[43m,\u001b[49m\u001b[43m \u001b[49m\u001b[43margs\u001b[49m\u001b[43m,\u001b[49m\u001b[43m \u001b[49m\u001b[43mcancellation_manager\u001b[49m\u001b[38;5;241;43m=\u001b[39;49m\u001b[43mcancellation_manager\u001b[49m\u001b[43m)\u001b[49m)\n\u001b[0;32m   1864\u001b[0m forward_backward \u001b[38;5;241m=\u001b[39m \u001b[38;5;28mself\u001b[39m\u001b[38;5;241m.\u001b[39m_select_forward_and_backward_functions(\n\u001b[0;32m   1865\u001b[0m     args,\n\u001b[0;32m   1866\u001b[0m     possible_gradient_type,\n\u001b[0;32m   1867\u001b[0m     executing_eagerly)\n\u001b[0;32m   1868\u001b[0m forward_function, args_with_tangents \u001b[38;5;241m=\u001b[39m forward_backward\u001b[38;5;241m.\u001b[39mforward()\n",
            "File \u001b[1;32mc:\\Users\\ADMIN\\anaconda3\\envs\\env1\\lib\\site-packages\\tensorflow\\python\\eager\\function.py:499\u001b[0m, in \u001b[0;36m_EagerDefinedFunction.call\u001b[1;34m(self, ctx, args, cancellation_manager)\u001b[0m\n\u001b[0;32m    497\u001b[0m \u001b[38;5;28;01mwith\u001b[39;00m _InterpolateFunctionError(\u001b[38;5;28mself\u001b[39m):\n\u001b[0;32m    498\u001b[0m   \u001b[38;5;28;01mif\u001b[39;00m cancellation_manager \u001b[38;5;129;01mis\u001b[39;00m \u001b[38;5;28;01mNone\u001b[39;00m:\n\u001b[1;32m--> 499\u001b[0m     outputs \u001b[38;5;241m=\u001b[39m \u001b[43mexecute\u001b[49m\u001b[38;5;241;43m.\u001b[39;49m\u001b[43mexecute\u001b[49m\u001b[43m(\u001b[49m\n\u001b[0;32m    500\u001b[0m \u001b[43m        \u001b[49m\u001b[38;5;28;43mstr\u001b[39;49m\u001b[43m(\u001b[49m\u001b[38;5;28;43mself\u001b[39;49m\u001b[38;5;241;43m.\u001b[39;49m\u001b[43msignature\u001b[49m\u001b[38;5;241;43m.\u001b[39;49m\u001b[43mname\u001b[49m\u001b[43m)\u001b[49m\u001b[43m,\u001b[49m\n\u001b[0;32m    501\u001b[0m \u001b[43m        \u001b[49m\u001b[43mnum_outputs\u001b[49m\u001b[38;5;241;43m=\u001b[39;49m\u001b[38;5;28;43mself\u001b[39;49m\u001b[38;5;241;43m.\u001b[39;49m\u001b[43m_num_outputs\u001b[49m\u001b[43m,\u001b[49m\n\u001b[0;32m    502\u001b[0m \u001b[43m        \u001b[49m\u001b[43minputs\u001b[49m\u001b[38;5;241;43m=\u001b[39;49m\u001b[43margs\u001b[49m\u001b[43m,\u001b[49m\n\u001b[0;32m    503\u001b[0m \u001b[43m        \u001b[49m\u001b[43mattrs\u001b[49m\u001b[38;5;241;43m=\u001b[39;49m\u001b[43mattrs\u001b[49m\u001b[43m,\u001b[49m\n\u001b[0;32m    504\u001b[0m \u001b[43m        \u001b[49m\u001b[43mctx\u001b[49m\u001b[38;5;241;43m=\u001b[39;49m\u001b[43mctx\u001b[49m\u001b[43m)\u001b[49m\n\u001b[0;32m    505\u001b[0m   \u001b[38;5;28;01melse\u001b[39;00m:\n\u001b[0;32m    506\u001b[0m     outputs \u001b[38;5;241m=\u001b[39m execute\u001b[38;5;241m.\u001b[39mexecute_with_cancellation(\n\u001b[0;32m    507\u001b[0m         \u001b[38;5;28mstr\u001b[39m(\u001b[38;5;28mself\u001b[39m\u001b[38;5;241m.\u001b[39msignature\u001b[38;5;241m.\u001b[39mname),\n\u001b[0;32m    508\u001b[0m         num_outputs\u001b[38;5;241m=\u001b[39m\u001b[38;5;28mself\u001b[39m\u001b[38;5;241m.\u001b[39m_num_outputs,\n\u001b[1;32m   (...)\u001b[0m\n\u001b[0;32m    511\u001b[0m         ctx\u001b[38;5;241m=\u001b[39mctx,\n\u001b[0;32m    512\u001b[0m         cancellation_manager\u001b[38;5;241m=\u001b[39mcancellation_manager)\n",
            "File \u001b[1;32mc:\\Users\\ADMIN\\anaconda3\\envs\\env1\\lib\\site-packages\\tensorflow\\python\\eager\\execute.py:54\u001b[0m, in \u001b[0;36mquick_execute\u001b[1;34m(op_name, num_outputs, inputs, attrs, ctx, name)\u001b[0m\n\u001b[0;32m     52\u001b[0m \u001b[38;5;28;01mtry\u001b[39;00m:\n\u001b[0;32m     53\u001b[0m   ctx\u001b[38;5;241m.\u001b[39mensure_initialized()\n\u001b[1;32m---> 54\u001b[0m   tensors \u001b[38;5;241m=\u001b[39m \u001b[43mpywrap_tfe\u001b[49m\u001b[38;5;241;43m.\u001b[39;49m\u001b[43mTFE_Py_Execute\u001b[49m\u001b[43m(\u001b[49m\u001b[43mctx\u001b[49m\u001b[38;5;241;43m.\u001b[39;49m\u001b[43m_handle\u001b[49m\u001b[43m,\u001b[49m\u001b[43m \u001b[49m\u001b[43mdevice_name\u001b[49m\u001b[43m,\u001b[49m\u001b[43m \u001b[49m\u001b[43mop_name\u001b[49m\u001b[43m,\u001b[49m\n\u001b[0;32m     55\u001b[0m \u001b[43m                                      \u001b[49m\u001b[43minputs\u001b[49m\u001b[43m,\u001b[49m\u001b[43m \u001b[49m\u001b[43mattrs\u001b[49m\u001b[43m,\u001b[49m\u001b[43m \u001b[49m\u001b[43mnum_outputs\u001b[49m\u001b[43m)\u001b[49m\n\u001b[0;32m     56\u001b[0m \u001b[38;5;28;01mexcept\u001b[39;00m core\u001b[38;5;241m.\u001b[39m_NotOkStatusException \u001b[38;5;28;01mas\u001b[39;00m e:\n\u001b[0;32m     57\u001b[0m   \u001b[38;5;28;01mif\u001b[39;00m name \u001b[38;5;129;01mis\u001b[39;00m \u001b[38;5;129;01mnot\u001b[39;00m \u001b[38;5;28;01mNone\u001b[39;00m:\n",
            "\u001b[1;31mKeyboardInterrupt\u001b[0m: "
          ]
        }
      ],
      "source": [
        "model.fit(\n",
        "    X_train,\n",
        "    y_train,\n",
        "    epochs=1000,\n",
        "    batch_size=128,\n",
        "    validation_data=(X_test, y_test),\n",
        "    callbacks=[cp_callback, es_callback]\n",
        ")"
      ]
    },
    {
      "cell_type": "code",
      "execution_count": null,
      "metadata": {
        "colab": {
          "base_uri": "https://localhost:8080/"
        },
        "id": "pxvb2Y299hE3",
        "outputId": "59eb3185-2e37-4b9e-bc9d-ab1b8ac29b7f"
      },
      "outputs": [
        {
          "name": "stdout",
          "output_type": "stream",
          "text": [
            " 1/10 [==>...........................] - ETA: 0s - loss: 0.2959 - accuracy: 0.9141"
          ]
        },
        {
          "name": "stdout",
          "output_type": "stream",
          "text": [
            "10/10 [==============================] - 0s 12ms/step - loss: 0.1979 - accuracy: 0.9671\n"
          ]
        }
      ],
      "source": [
        "# Model evaluation\n",
        "val_loss, val_acc = model.evaluate(X_test, y_test, batch_size=128)"
      ]
    },
    {
      "cell_type": "code",
      "execution_count": null,
      "metadata": {
        "id": "RBkmDeUW9hE4"
      },
      "outputs": [],
      "source": [
        "# Loading the saved model\n",
        "model = tf.keras.models.load_model(model_save_path)"
      ]
    },
    {
      "cell_type": "code",
      "execution_count": null,
      "metadata": {
        "colab": {
          "base_uri": "https://localhost:8080/"
        },
        "id": "tFz9Tb0I9hE4",
        "outputId": "1c3b3528-54ae-4ee2-ab04-77429211cbef"
      },
      "outputs": [
        {
          "name": "stdout",
          "output_type": "stream",
          "text": [
            "1/1 [==============================] - 0s 252ms/step\n",
            "[7.2690011e-03 9.7780788e-01 1.4915321e-02 2.2594752e-10 7.8389476e-06]\n",
            "1\n"
          ]
        }
      ],
      "source": [
        "# Inference test\n",
        "predict_result = model.predict(np.array([X_test[0]]))\n",
        "print(np.squeeze(predict_result))\n",
        "print(np.argmax(np.squeeze(predict_result)))"
      ]
    },
    {
      "cell_type": "markdown",
      "metadata": {
        "id": "S3U4yNWx9hE4"
      },
      "source": [
        "# Confusion matrix"
      ]
    },
    {
      "cell_type": "code",
      "execution_count": null,
      "metadata": {
        "colab": {
          "base_uri": "https://localhost:8080/",
          "height": 582
        },
        "id": "AP1V6SCk9hE5",
        "outputId": "08e41a80-7a4a-4619-8125-ecc371368d19"
      },
      "outputs": [
        {
          "name": "stdout",
          "output_type": "stream",
          "text": [
            "39/39 [==============================] - 0s 3ms/step\n"
          ]
        },
        {
          "data": {
            "image/png": "[encoded data removed]",
            "text/plain": [
              "<Figure size 700x600 with 2 Axes>"
            ]
          },
          "metadata": {},
          "output_type": "display_data"
        },
        {
          "name": "stdout",
          "output_type": "stream",
          "text": [
            "Classification Report\n",
            "              precision    recall  f1-score   support\n",
            "\n",
            "           0       0.98      0.99      0.98       405\n",
            "           1       0.98      0.93      0.96       383\n",
            "           2       0.93      0.97      0.95       314\n",
            "           3       0.99      0.98      0.98        99\n",
            "           4       0.89      1.00      0.94        16\n",
            "\n",
            "    accuracy                           0.97      1217\n",
            "   macro avg       0.95      0.98      0.96      1217\n",
            "weighted avg       0.97      0.97      0.97      1217\n",
            "\n"
          ]
        }
      ],
      "source": [
        "import pandas as pd\n",
        "import seaborn as sns\n",
        "import matplotlib.pyplot as plt\n",
        "from sklearn.metrics import confusion_matrix, classification_report\n",
        "\n",
        "def print_confusion_matrix(y_true, y_pred, report=True):\n",
        "    labels = sorted(list(set(y_true)))\n",
        "    cmx_data = confusion_matrix(y_true, y_pred, labels=labels)\n",
        "    \n",
        "    df_cmx = pd.DataFrame(cmx_data, index=labels, columns=labels)\n",
        " \n",
        "    fig, ax = plt.subplots(figsize=(7, 6))\n",
        "    sns.heatmap(df_cmx, annot=True, fmt='g' ,square=False)\n",
        "    ax.set_ylim(len(set(y_true)), 0)\n",
        "    plt.show()\n",
        "    \n",
        "    if report:\n",
        "        print('Classification Report')\n",
        "        print(classification_report(y_test, y_pred))\n",
        "\n",
        "Y_pred = model.predict(X_test)\n",
        "y_pred = np.argmax(Y_pred, axis=1)\n",
        "\n",
        "print_confusion_matrix(y_test, y_pred)"
      ]
    },
    {
      "cell_type": "markdown",
      "metadata": {
        "id": "FNP6aqzc9hE5"
      },
      "source": [
        "# Convert to model for Tensorflow-Lite"
      ]
    },
    {
      "cell_type": "code",
      "execution_count": null,
      "metadata": {
        "id": "ODjnYyld9hE6"
      },
      "outputs": [],
      "source": [
        "# Save as a model dedicated to inference\n",
        "model.save(model_save_path, include_optimizer=False)"
      ]
    },
    {
      "cell_type": "code",
      "execution_count": null,
      "metadata": {
        "colab": {
          "base_uri": "https://localhost:8080/"
        },
        "id": "zRfuK8Y59hE6",
        "outputId": "a4ca585c-b5d5-4244-8291-8674063209bb"
      },
      "outputs": [
        {
          "name": "stdout",
          "output_type": "stream",
          "text": [
            "INFO:tensorflow:Assets written to: C:\\Users\\ADMIN\\AppData\\Local\\Temp\\tmp9zk9b1_r\\assets\n"
          ]
        },
        {
          "data": {
            "text/plain": [
              "6588"
            ]
          },
          "execution_count": 19,
          "metadata": {},
          "output_type": "execute_result"
        }
      ],
      "source": [
        "# Transform model (quantization)\n",
        "\n",
        "converter = tf.lite.TFLiteConverter.from_keras_model(model)\n",
        "converter.optimizations = [tf.lite.Optimize.DEFAULT]\n",
        "tflite_quantized_model = converter.convert()\n",
        "\n",
        "open(tflite_save_path, 'wb').write(tflite_quantized_model)"
      ]
    },
    {
      "cell_type": "markdown",
      "metadata": {
        "id": "CHBPBXdx9hE6"
      },
      "source": [
        "# Inference test"
      ]
    },
    {
      "cell_type": "code",
      "execution_count": null,
      "metadata": {
        "id": "mGAzLocO9hE7"
      },
      "outputs": [],
      "source": [
        "interpreter = tf.lite.Interpreter(model_path=tflite_save_path)\n",
        "interpreter.allocate_tensors()"
      ]
    },
    {
      "cell_type": "code",
      "execution_count": null,
      "metadata": {
        "id": "oQuDK8YS9hE7"
      },
      "outputs": [],
      "source": [
        "# Get I / O tensor\n",
        "input_details = interpreter.get_input_details()\n",
        "output_details = interpreter.get_output_details()"
      ]
    },
    {
      "cell_type": "code",
      "execution_count": null,
      "metadata": {
        "id": "2_ixAf_l9hE7"
      },
      "outputs": [],
      "source": [
        "interpreter.set_tensor(input_details[0]['index'], np.array([X_test[0]]))"
      ]
    },
    {
      "cell_type": "code",
      "execution_count": null,
      "metadata": {
        "colab": {
          "base_uri": "https://localhost:8080/"
        },
        "id": "s4FoAnuc9hE7",
        "outputId": "91f18257-8d8b-4ef3-c558-e9b5f94fabbf",
        "scrolled": true
      },
      "outputs": [
        {
          "name": "stdout",
          "output_type": "stream",
          "text": [
            "CPU times: total: 0 ns\n",
            "Wall time: 0 ns\n"
          ]
        }
      ],
      "source": [
        "%%time\n",
        "# Inference implementation\n",
        "interpreter.invoke()\n",
        "tflite_results = interpreter.get_tensor(output_details[0]['index'])"
      ]
    },
    {
      "cell_type": "code",
      "execution_count": null,
      "metadata": {
        "colab": {
          "base_uri": "https://localhost:8080/"
        },
        "id": "vONjp19J9hE8",
        "outputId": "77205e24-fd00-42c4-f7b6-e06e527c2cba"
      },
      "outputs": [
        {
          "name": "stdout",
          "output_type": "stream",
          "text": [
            "[7.2690081e-03 9.7780788e-01 1.4915321e-02 2.2594752e-10 7.8389394e-06]\n",
            "1\n"
          ]
        }
      ],
      "source": [
        "print(np.squeeze(tflite_results))\n",
        "print(np.argmax(np.squeeze(tflite_results)))"
      ]
    }
  ],
  "metadata": {
    "accelerator": "GPU",
    "colab": {
      "collapsed_sections": [],
      "name": "keypoint_classification_EN.ipynb",
      "provenance": [],
      "toc_visible": true
    },
    "kernelspec": {
      "display_name": "Python 3",
      "language": "python",
      "name": "python3"
    },
    "language_info": {
      "codemirror_mode": {
        "name": "ipython",
        "version": 3
      },
      "file_extension": ".py",
      "mimetype": "text/x-python",
      "name": "python",
      "nbconvert_exporter": "python",
      "pygments_lexer": "ipython3",
      "version": "3.8.17"
    }
  },
  "nbformat": 4,
  "nbformat_minor": 0
}
