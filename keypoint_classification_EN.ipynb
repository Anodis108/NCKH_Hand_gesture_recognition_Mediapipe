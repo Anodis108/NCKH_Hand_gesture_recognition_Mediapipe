{
  "cells": [
    {
      "cell_type": "code",
      "execution_count": 43,
      "metadata": {
        "id": "igMyGnjE9hEp"
      },
      "outputs": [],
      "source": [
        "import csv\n",
        "\n",
        "import pandas as pd\n",
        "import numpy as np\n",
        "import tensorflow as tf\n",
        "from sklearn.model_selection import train_test_split\n",
        "\n",
        "tf.device('/gpu:0')\n",
        "RANDOM_SEED = 42"
      ]
    },
    {
      "cell_type": "markdown",
      "metadata": {
        "id": "t2HDvhIu9hEr"
      },
      "source": [
        "# Specify each path"
      ]
    },
    {
      "cell_type": "code",
      "execution_count": 44,
      "metadata": {
        "id": "9NvZP2Zn9hEy"
      },
      "outputs": [],
      "source": [
        "dataset = 'model/keypoint_classifier/keypoint.csv'\n",
        "model_save_path = 'model/keypoint_classifier/keypoint_classifier.hdf5'\n",
        "tflite_save_path = 'model/keypoint_classifier/keypoint_classifier.tflite'"
      ]
    },
    {
      "cell_type": "markdown",
      "metadata": {
        "id": "s5oMH7x19hEz"
      },
      "source": [
        "# Set number of classes"
      ]
    },
    {
      "cell_type": "code",
      "execution_count": 45,
      "metadata": {
        "id": "du4kodXL9hEz"
      },
      "outputs": [],
      "source": [
        "NUM_CLASSES = 6"
      ]
    },
    {
      "cell_type": "markdown",
      "metadata": {
        "id": "XjnL0uso9hEz"
      },
      "source": [
        "# Dataset reading"
      ]
    },
    {
      "cell_type": "code",
      "execution_count": 46,
      "metadata": {
        "id": "QT5ZqtEz9hE0"
      },
      "outputs": [],
      "source": [
        "X_dataset = np.loadtxt(dataset, delimiter=',', dtype='float32', usecols=list(range(1, (21 * 2) + 1)))"
      ]
    },
    {
      "cell_type": "code",
      "execution_count": 47,
      "metadata": {
        "id": "QmoKFsp49hE0"
      },
      "outputs": [],
      "source": [
        "y_dataset = np.loadtxt(dataset, delimiter=',', dtype='int32', usecols=(0))"
      ]
    },
    {
      "cell_type": "code",
      "execution_count": 48,
      "metadata": {
        "id": "xQU7JTZ_9hE0"
      },
      "outputs": [],
      "source": [
        "X_train, X_test, y_train, y_test = train_test_split(X_dataset, y_dataset, train_size=0.75, random_state=RANDOM_SEED)"
      ]
    },
    {
      "cell_type": "code",
      "execution_count": 49,
      "metadata": {},
      "outputs": [
        {
          "name": "stdout",
          "output_type": "stream",
          "text": [
            "        0    1    2         3         4         5         6         7   \\\n",
            "0      0.0  0.0  0.0 -0.122378 -0.108392 -0.227273 -0.307692 -0.171329   \n",
            "1      0.0  0.0  0.0 -0.125436 -0.097561 -0.233449 -0.292683 -0.177700   \n",
            "2      0.0  0.0  0.0 -0.122378 -0.101399 -0.227273 -0.293706 -0.174825   \n",
            "3      0.0  0.0  0.0 -0.125874 -0.090909 -0.230769 -0.283217 -0.178322   \n",
            "4      0.0  0.0  0.0 -0.125874 -0.087413 -0.237762 -0.283217 -0.181818   \n",
            "...    ...  ...  ...       ...       ...       ...       ...       ...   \n",
            "19455  5.0  0.0  0.0 -0.173469 -0.088435 -0.282313 -0.231293 -0.231293   \n",
            "19456  5.0  0.0  0.0 -0.194346 -0.095406 -0.303887 -0.233216 -0.261484   \n",
            "19457  5.0  0.0  0.0 -0.195730 -0.092527 -0.306050 -0.227758 -0.259786   \n",
            "19458  5.0  0.0  0.0 -0.192171 -0.096085 -0.295374 -0.234875 -0.256228   \n",
            "19459  5.0  0.0  0.0 -0.197842 -0.100719 -0.312950 -0.237410 -0.266187   \n",
            "\n",
            "             8         9   ...        33        34        35        36  \\\n",
            "0     -0.468531 -0.027972  ... -0.003497 -0.272727  0.209790 -0.395105   \n",
            "1     -0.456446 -0.038328  ... -0.013937 -0.264808  0.205575 -0.397213   \n",
            "2     -0.454545 -0.038462  ... -0.010490 -0.269231  0.206294 -0.395105   \n",
            "3     -0.447552 -0.041958  ... -0.006993 -0.258741  0.209790 -0.391608   \n",
            "4     -0.447552 -0.038462  ... -0.013986 -0.255245  0.199301 -0.395105   \n",
            "...         ...       ...  ...       ...       ...       ...       ...   \n",
            "19455 -0.377551 -0.105442  ... -0.132653 -0.363946  0.057823 -0.462585   \n",
            "19456 -0.388693 -0.141343  ... -0.151943 -0.371025  0.031802 -0.484099   \n",
            "19457 -0.377224 -0.142349  ... -0.163701 -0.373665  0.035587 -0.480427   \n",
            "19458 -0.387900 -0.145907  ... -0.160142 -0.384342  0.032028 -0.483986   \n",
            "19459 -0.392086 -0.136691  ... -0.161871 -0.370504  0.028777 -0.489209   \n",
            "\n",
            "             37        38        39        40        41        42  \n",
            "0      0.139860 -0.440559  0.073427 -0.318182  0.076923 -0.258741  \n",
            "1      0.132404 -0.428571  0.066202 -0.303136  0.073171 -0.250871  \n",
            "2      0.139860 -0.437063  0.076923 -0.311189  0.076923 -0.258741  \n",
            "3      0.129371 -0.426573  0.069930 -0.297203  0.076923 -0.248252  \n",
            "4      0.132867 -0.419580  0.069930 -0.297203  0.069930 -0.244755  \n",
            "...         ...       ...       ...       ...       ...       ...  \n",
            "19455  0.125850 -0.656463  0.159864 -0.772109  0.187075 -0.891156  \n",
            "19456  0.081272 -0.689046  0.113074 -0.805654  0.137809 -0.925795  \n",
            "19457  0.088968 -0.683274  0.117438 -0.804270  0.138790 -0.928826  \n",
            "19458  0.081851 -0.690391  0.110320 -0.811388  0.131673 -0.932384  \n",
            "19459  0.082734 -0.690647  0.111511 -0.812950  0.136691 -0.935252  \n",
            "\n",
            "[19460 rows x 43 columns]\n"
          ]
        }
      ],
      "source": [
        "X_dataset_check = np.loadtxt(dataset, delimiter=',', dtype='float32', usecols=list(range(0, (21 * 2) + 1)))\n",
        "b = pd.DataFrame(X_dataset_check)\n",
        "print(b)"
      ]
    },
    {
      "cell_type": "code",
      "execution_count": 50,
      "metadata": {},
      "outputs": [
        {
          "data": {
            "text/plain": [
              "0\n",
              "0.0    4697\n",
              "1.0    3166\n",
              "2.0    2837\n",
              "3.0    2931\n",
              "4.0    3257\n",
              "5.0    2572\n",
              "dtype: int64"
            ]
          },
          "execution_count": 50,
          "metadata": {},
          "output_type": "execute_result"
        }
      ],
      "source": [
        "b.groupby(0).size()\n"
      ]
    },
    {
      "cell_type": "markdown",
      "metadata": {
        "id": "mxK_lETT9hE0"
      },
      "source": [
        "# Model building"
      ]
    },
    {
      "cell_type": "code",
      "execution_count": 51,
      "metadata": {
        "id": "vHBmUf1t9hE1"
      },
      "outputs": [],
      "source": [
        "model = tf.keras.models.Sequential([\n",
        "    tf.keras.layers.Input((21 * 2, )),\n",
        "    tf.keras.layers.Dropout(0.2),\n",
        "    tf.keras.layers.Dense(20, activation='relu'),\n",
        "    tf.keras.layers.Dropout(0.4),\n",
        "    tf.keras.layers.Dense(10, activation='relu'),\n",
        "    tf.keras.layers.Dense(NUM_CLASSES, activation='softmax')\n",
        "])"
      ]
    },
    {
      "cell_type": "code",
      "execution_count": 52,
      "metadata": {
        "colab": {
          "base_uri": "https://localhost:8080/"
        },
        "id": "ypqky9tc9hE1",
        "outputId": "5db082bb-30e3-4110-bf63-a1ee777ecd46"
      },
      "outputs": [
        {
          "name": "stdout",
          "output_type": "stream",
          "text": [
            "Model: \"sequential_2\"\n",
            "_________________________________________________________________\n",
            " Layer (type)                Output Shape              Param #   \n",
            "=================================================================\n",
            " dropout_4 (Dropout)         (None, 42)                0         \n",
            "                                                                 \n",
            " dense_6 (Dense)             (None, 20)                860       \n",
            "                                                                 \n",
            " dropout_5 (Dropout)         (None, 20)                0         \n",
            "                                                                 \n",
            " dense_7 (Dense)             (None, 10)                210       \n",
            "                                                                 \n",
            " dense_8 (Dense)             (None, 6)                 66        \n",
            "                                                                 \n",
            "=================================================================\n",
            "Total params: 1,136\n",
            "Trainable params: 1,136\n",
            "Non-trainable params: 0\n",
            "_________________________________________________________________\n"
          ]
        }
      ],
      "source": [
        "model.summary()  # tf.keras.utils.plot_model(model, show_shapes=True)"
      ]
    },
    {
      "cell_type": "code",
      "execution_count": 53,
      "metadata": {
        "id": "MbMjOflQ9hE1"
      },
      "outputs": [],
      "source": [
        "# Model checkpoint callback\n",
        "cp_callback = tf.keras.callbacks.ModelCheckpoint(\n",
        "    model_save_path, verbose=1, save_weights_only=False) # automatically save your model\n",
        "# verbose : gọi lại thông báo mỗi khi thông báo\n",
        "# save_weights_only: lưu lại cả mô hình lẫn thông số mô hình nếu False\n",
        "\n",
        "# Callback for early stopping\n",
        "es_callback = tf.keras.callbacks.EarlyStopping(patience=20, verbose=1)\n",
        "# dừng quá trình đào tạo nếu hiệu suất mô hình ko đc cải thiện"
      ]
    },
    {
      "cell_type": "code",
      "execution_count": 55,
      "metadata": {
        "id": "c3Dac0M_9hE2"
      },
      "outputs": [],
      "source": [
        "# Model compilation\n",
        "model.compile(\n",
        "    optimizer='adam', # hàm tối ưu\n",
        "    loss='sparse_categorical_crossentropy', # hàm mất mát\n",
        "    metrics=['accuracy'] # thuước  đo đánh giá\n",
        ")"
      ]
    },
    {
      "cell_type": "markdown",
      "metadata": {
        "id": "7XI0j1Iu9hE2"
      },
      "source": [
        "# Model training"
      ]
    },
    {
      "cell_type": "code",
      "execution_count": 60,
      "metadata": {
        "colab": {
          "base_uri": "https://localhost:8080/"
        },
        "id": "WirBl-JE9hE3",
        "outputId": "71b30ca2-8294-4d9d-8aa2-800d90d399de",
        "scrolled": true
      },
      "outputs": [
        {
          "name": "stdout",
          "output_type": "stream",
          "text": [
            "Epoch 1/1000\n",
            " 98/115 [========================>.....] - ETA: 0s - loss: 0.9467 - accuracy: 0.6223\n",
            "Epoch 1: saving model to model/keypoint_classifier\\keypoint_classifier.hdf5\n",
            "115/115 [==============================] - 0s 2ms/step - loss: 0.9430 - accuracy: 0.6238 - val_loss: 0.6189 - val_accuracy: 0.8475\n",
            "Epoch 2/1000\n",
            "100/115 [=========================>....] - ETA: 0s - loss: 0.9296 - accuracy: 0.6265\n",
            "Epoch 2: saving model to model/keypoint_classifier\\keypoint_classifier.hdf5\n",
            "115/115 [==============================] - 0s 3ms/step - loss: 0.9263 - accuracy: 0.6273 - val_loss: 0.5941 - val_accuracy: 0.8518\n",
            "Epoch 3/1000\n",
            " 88/115 [=====================>........] - ETA: 0s - loss: 0.9126 - accuracy: 0.6405\n",
            "Epoch 3: saving model to model/keypoint_classifier\\keypoint_classifier.hdf5\n",
            "115/115 [==============================] - 0s 3ms/step - loss: 0.9102 - accuracy: 0.6415 - val_loss: 0.5930 - val_accuracy: 0.8721\n",
            "Epoch 4/1000\n",
            "110/115 [===========================>..] - ETA: 0s - loss: 0.9099 - accuracy: 0.6337\n",
            "Epoch 4: saving model to model/keypoint_classifier\\keypoint_classifier.hdf5\n",
            "115/115 [==============================] - 0s 2ms/step - loss: 0.9123 - accuracy: 0.6330 - val_loss: 0.6042 - val_accuracy: 0.8580\n",
            "Epoch 5/1000\n",
            "111/115 [===========================>..] - ETA: 0s - loss: 0.8990 - accuracy: 0.6372\n",
            "Epoch 5: saving model to model/keypoint_classifier\\keypoint_classifier.hdf5\n",
            "115/115 [==============================] - 0s 2ms/step - loss: 0.8975 - accuracy: 0.6380 - val_loss: 0.6072 - val_accuracy: 0.8465\n",
            "Epoch 6/1000\n",
            " 99/115 [========================>.....] - ETA: 0s - loss: 0.8863 - accuracy: 0.6419\n",
            "Epoch 6: saving model to model/keypoint_classifier\\keypoint_classifier.hdf5\n",
            "115/115 [==============================] - 0s 2ms/step - loss: 0.8864 - accuracy: 0.6419 - val_loss: 0.5954 - val_accuracy: 0.8639\n",
            "Epoch 7/1000\n",
            " 98/115 [========================>.....] - ETA: 0s - loss: 0.8694 - accuracy: 0.6582\n",
            "Epoch 7: saving model to model/keypoint_classifier\\keypoint_classifier.hdf5\n",
            "115/115 [==============================] - 0s 2ms/step - loss: 0.8690 - accuracy: 0.6554 - val_loss: 0.5751 - val_accuracy: 0.8684\n",
            "Epoch 8/1000\n",
            "106/115 [==========================>...] - ETA: 0s - loss: 0.8617 - accuracy: 0.6554\n",
            "Epoch 8: saving model to model/keypoint_classifier\\keypoint_classifier.hdf5\n",
            "115/115 [==============================] - 0s 2ms/step - loss: 0.8607 - accuracy: 0.6559 - val_loss: 0.5977 - val_accuracy: 0.8701\n",
            "Epoch 9/1000\n",
            "101/115 [=========================>....] - ETA: 0s - loss: 0.8615 - accuracy: 0.6569\n",
            "Epoch 9: saving model to model/keypoint_classifier\\keypoint_classifier.hdf5\n",
            "115/115 [==============================] - 0s 3ms/step - loss: 0.8604 - accuracy: 0.6587 - val_loss: 0.5796 - val_accuracy: 0.8514\n",
            "Epoch 10/1000\n",
            "108/115 [===========================>..] - ETA: 0s - loss: 0.8509 - accuracy: 0.6633\n",
            "Epoch 10: saving model to model/keypoint_classifier\\keypoint_classifier.hdf5\n",
            "115/115 [==============================] - 0s 4ms/step - loss: 0.8510 - accuracy: 0.6645 - val_loss: 0.5784 - val_accuracy: 0.8532\n",
            "Epoch 11/1000\n",
            "113/115 [============================>.] - ETA: 0s - loss: 0.8375 - accuracy: 0.6646\n",
            "Epoch 11: saving model to model/keypoint_classifier\\keypoint_classifier.hdf5\n",
            "115/115 [==============================] - 1s 6ms/step - loss: 0.8376 - accuracy: 0.6645 - val_loss: 0.5677 - val_accuracy: 0.8812\n",
            "Epoch 12/1000\n",
            "109/115 [===========================>..] - ETA: 0s - loss: 0.8329 - accuracy: 0.6665\n",
            "Epoch 12: saving model to model/keypoint_classifier\\keypoint_classifier.hdf5\n",
            "115/115 [==============================] - 1s 5ms/step - loss: 0.8320 - accuracy: 0.6665 - val_loss: 0.5722 - val_accuracy: 0.8541\n",
            "Epoch 13/1000\n",
            "108/115 [===========================>..] - ETA: 0s - loss: 0.8353 - accuracy: 0.6701\n",
            "Epoch 13: saving model to model/keypoint_classifier\\keypoint_classifier.hdf5\n",
            "115/115 [==============================] - 1s 9ms/step - loss: 0.8350 - accuracy: 0.6699 - val_loss: 0.5768 - val_accuracy: 0.8647\n",
            "Epoch 14/1000\n",
            "114/115 [============================>.] - ETA: 0s - loss: 0.8101 - accuracy: 0.6737\n",
            "Epoch 14: saving model to model/keypoint_classifier\\keypoint_classifier.hdf5\n",
            "115/115 [==============================] - 1s 6ms/step - loss: 0.8099 - accuracy: 0.6737 - val_loss: 0.5768 - val_accuracy: 0.8598\n",
            "Epoch 15/1000\n",
            "108/115 [===========================>..] - ETA: 0s - loss: 0.8052 - accuracy: 0.6844\n",
            "Epoch 15: saving model to model/keypoint_classifier\\keypoint_classifier.hdf5\n",
            "115/115 [==============================] - 1s 6ms/step - loss: 0.8029 - accuracy: 0.6852 - val_loss: 0.5568 - val_accuracy: 0.8878\n",
            "Epoch 16/1000\n",
            "108/115 [===========================>..] - ETA: 0s - loss: 0.7980 - accuracy: 0.6890\n",
            "Epoch 16: saving model to model/keypoint_classifier\\keypoint_classifier.hdf5\n",
            "115/115 [==============================] - 1s 5ms/step - loss: 0.7974 - accuracy: 0.6895 - val_loss: 0.5754 - val_accuracy: 0.8781\n",
            "Epoch 17/1000\n",
            "111/115 [===========================>..] - ETA: 0s - loss: 0.8066 - accuracy: 0.6790\n",
            "Epoch 17: saving model to model/keypoint_classifier\\keypoint_classifier.hdf5\n",
            "115/115 [==============================] - 1s 6ms/step - loss: 0.8027 - accuracy: 0.6806 - val_loss: 0.5666 - val_accuracy: 0.8882\n",
            "Epoch 18/1000\n",
            "111/115 [===========================>..] - ETA: 0s - loss: 0.7988 - accuracy: 0.6847\n",
            "Epoch 18: saving model to model/keypoint_classifier\\keypoint_classifier.hdf5\n",
            "115/115 [==============================] - 1s 6ms/step - loss: 0.7991 - accuracy: 0.6852 - val_loss: 0.5834 - val_accuracy: 0.8814\n",
            "Epoch 19/1000\n",
            " 99/115 [========================>.....] - ETA: 0s - loss: 0.7704 - accuracy: 0.6997\n",
            "Epoch 19: saving model to model/keypoint_classifier\\keypoint_classifier.hdf5\n",
            "115/115 [==============================] - 0s 4ms/step - loss: 0.7707 - accuracy: 0.6992 - val_loss: 0.5703 - val_accuracy: 0.8697\n",
            "Epoch 20/1000\n",
            "108/115 [===========================>..] - ETA: 0s - loss: 0.7794 - accuracy: 0.6926\n",
            "Epoch 20: saving model to model/keypoint_classifier\\keypoint_classifier.hdf5\n",
            "115/115 [==============================] - 0s 3ms/step - loss: 0.7785 - accuracy: 0.6936 - val_loss: 0.5848 - val_accuracy: 0.8773\n",
            "Epoch 21/1000\n",
            "113/115 [============================>.] - ETA: 0s - loss: 0.7938 - accuracy: 0.6903\n",
            "Epoch 21: saving model to model/keypoint_classifier\\keypoint_classifier.hdf5\n",
            "115/115 [==============================] - 0s 3ms/step - loss: 0.7930 - accuracy: 0.6905 - val_loss: 0.5810 - val_accuracy: 0.8777\n",
            "Epoch 22/1000\n",
            "114/115 [============================>.] - ETA: 0s - loss: 0.7692 - accuracy: 0.7009\n",
            "Epoch 22: saving model to model/keypoint_classifier\\keypoint_classifier.hdf5\n",
            "115/115 [==============================] - 0s 3ms/step - loss: 0.7701 - accuracy: 0.7008 - val_loss: 0.5851 - val_accuracy: 0.8740\n",
            "Epoch 23/1000\n",
            " 90/115 [======================>.......] - ETA: 0s - loss: 0.7672 - accuracy: 0.7001\n",
            "Epoch 23: saving model to model/keypoint_classifier\\keypoint_classifier.hdf5\n",
            "115/115 [==============================] - 0s 2ms/step - loss: 0.7678 - accuracy: 0.7000 - val_loss: 0.5786 - val_accuracy: 0.8787\n",
            "Epoch 24/1000\n",
            " 80/115 [===================>..........] - ETA: 0s - loss: 0.7724 - accuracy: 0.6940\n",
            "Epoch 24: saving model to model/keypoint_classifier\\keypoint_classifier.hdf5\n",
            "115/115 [==============================] - 0s 2ms/step - loss: 0.7595 - accuracy: 0.6983 - val_loss: 0.5590 - val_accuracy: 0.8900\n",
            "Epoch 25/1000\n",
            " 78/115 [===================>..........] - ETA: 0s - loss: 0.7609 - accuracy: 0.7042\n",
            "Epoch 25: saving model to model/keypoint_classifier\\keypoint_classifier.hdf5\n",
            "115/115 [==============================] - 0s 2ms/step - loss: 0.7543 - accuracy: 0.7067 - val_loss: 0.5965 - val_accuracy: 0.8721\n",
            "Epoch 26/1000\n",
            " 87/115 [=====================>........] - ETA: 0s - loss: 0.7543 - accuracy: 0.7013\n",
            "Epoch 26: saving model to model/keypoint_classifier\\keypoint_classifier.hdf5\n",
            "115/115 [==============================] - 0s 2ms/step - loss: 0.7571 - accuracy: 0.7012 - val_loss: 0.5770 - val_accuracy: 0.8804\n",
            "Epoch 27/1000\n",
            "103/115 [=========================>....] - ETA: 0s - loss: 0.7463 - accuracy: 0.7093\n",
            "Epoch 27: saving model to model/keypoint_classifier\\keypoint_classifier.hdf5\n",
            "115/115 [==============================] - 0s 4ms/step - loss: 0.7476 - accuracy: 0.7078 - val_loss: 0.6116 - val_accuracy: 0.8144\n",
            "Epoch 28/1000\n",
            "113/115 [============================>.] - ETA: 0s - loss: 0.7314 - accuracy: 0.7158\n",
            "Epoch 28: saving model to model/keypoint_classifier\\keypoint_classifier.hdf5\n",
            "115/115 [==============================] - 1s 7ms/step - loss: 0.7317 - accuracy: 0.7159 - val_loss: 0.5780 - val_accuracy: 0.8707\n",
            "Epoch 29/1000\n",
            "114/115 [============================>.] - ETA: 0s - loss: 0.7436 - accuracy: 0.7105\n",
            "Epoch 29: saving model to model/keypoint_classifier\\keypoint_classifier.hdf5\n",
            "115/115 [==============================] - 1s 5ms/step - loss: 0.7436 - accuracy: 0.7105 - val_loss: 0.6005 - val_accuracy: 0.8403\n",
            "Epoch 30/1000\n",
            "115/115 [==============================] - ETA: 0s - loss: 0.7357 - accuracy: 0.7163\n",
            "Epoch 30: saving model to model/keypoint_classifier\\keypoint_classifier.hdf5\n",
            "115/115 [==============================] - 0s 4ms/step - loss: 0.7357 - accuracy: 0.7163 - val_loss: 0.5948 - val_accuracy: 0.8413\n",
            "Epoch 31/1000\n",
            "114/115 [============================>.] - ETA: 0s - loss: 0.7321 - accuracy: 0.7160\n",
            "Epoch 31: saving model to model/keypoint_classifier\\keypoint_classifier.hdf5\n",
            "115/115 [==============================] - 0s 4ms/step - loss: 0.7320 - accuracy: 0.7161 - val_loss: 0.5932 - val_accuracy: 0.8347\n",
            "Epoch 32/1000\n",
            "101/115 [=========================>....] - ETA: 0s - loss: 0.7223 - accuracy: 0.7225\n",
            "Epoch 32: saving model to model/keypoint_classifier\\keypoint_classifier.hdf5\n",
            "115/115 [==============================] - 1s 5ms/step - loss: 0.7194 - accuracy: 0.7248 - val_loss: 0.5807 - val_accuracy: 0.8382\n",
            "Epoch 33/1000\n",
            "114/115 [============================>.] - ETA: 0s - loss: 0.7209 - accuracy: 0.7207\n",
            "Epoch 33: saving model to model/keypoint_classifier\\keypoint_classifier.hdf5\n",
            "115/115 [==============================] - 0s 4ms/step - loss: 0.7209 - accuracy: 0.7207 - val_loss: 0.6042 - val_accuracy: 0.8049\n",
            "Epoch 34/1000\n",
            "102/115 [=========================>....] - ETA: 0s - loss: 0.7221 - accuracy: 0.7214\n",
            "Epoch 34: saving model to model/keypoint_classifier\\keypoint_classifier.hdf5\n",
            "115/115 [==============================] - 0s 4ms/step - loss: 0.7201 - accuracy: 0.7224 - val_loss: 0.5992 - val_accuracy: 0.8487\n",
            "Epoch 35/1000\n",
            "101/115 [=========================>....] - ETA: 0s - loss: 0.7111 - accuracy: 0.7276\n",
            "Epoch 35: saving model to model/keypoint_classifier\\keypoint_classifier.hdf5\n",
            "115/115 [==============================] - 0s 2ms/step - loss: 0.7086 - accuracy: 0.7286 - val_loss: 0.5958 - val_accuracy: 0.8101\n",
            "Epoch 35: early stopping\n"
          ]
        }
      ],
      "source": [
        "history = model.fit(\n",
        "    X_train,\n",
        "    y_train,\n",
        "    epochs=1000,\n",
        "    batch_size=128,\n",
        "    validation_data=(X_test, y_test),\n",
        "    callbacks=[cp_callback, es_callback]\n",
        ")"
      ]
    },
    {
      "cell_type": "code",
      "execution_count": null,
      "metadata": {
        "colab": {
          "base_uri": "https://localhost:8080/"
        },
        "id": "pxvb2Y299hE3",
        "outputId": "59eb3185-2e37-4b9e-bc9d-ab1b8ac29b7f"
      },
      "outputs": [
        {
          "name": "stdout",
          "output_type": "stream",
          "text": [
            "39/39 [==============================] - 0s 924us/step - loss: 0.5635 - accuracy: 0.8573\n"
          ]
        }
      ],
      "source": [
        "# Model evaluation\n",
        "val_loss, val_acc = model.evaluate(X_test, y_test, batch_size=128)"
      ]
    },
    {
      "cell_type": "code",
      "execution_count": null,
      "metadata": {
        "id": "RBkmDeUW9hE4"
      },
      "outputs": [],
      "source": [
        "# Loading the saved model\n",
        "model = tf.keras.models.load_model(model_save_path)"
      ]
    },
    {
      "cell_type": "code",
      "execution_count": null,
      "metadata": {
        "colab": {
          "base_uri": "https://localhost:8080/"
        },
        "id": "tFz9Tb0I9hE4",
        "outputId": "1c3b3528-54ae-4ee2-ab04-77429211cbef"
      },
      "outputs": [
        {
          "name": "stdout",
          "output_type": "stream",
          "text": [
            "1/1 [==============================] - 0s 77ms/step\n",
            "[0.01278692 0.34727216 0.29484895 0.00879214 0.32810673 0.00819318]\n",
            "1\n"
          ]
        }
      ],
      "source": [
        "# Inference test\n",
        "predict_result = model.predict(np.array([X_test[0]]))\n",
        "print(np.squeeze(predict_result))\n",
        "print(np.argmax(np.squeeze(predict_result)))"
      ]
    },
    {
      "cell_type": "markdown",
      "metadata": {},
      "source": [
        "# Draw Loss and Accuracy"
      ]
    },
    {
      "cell_type": "code",
      "execution_count": null,
      "metadata": {},
      "outputs": [
        {
          "data": {
            "image/png": "[encoded data removed]",
            "text/plain": [
              "<Figure size 1200x600 with 2 Axes>"
            ]
          },
          "metadata": {},
          "output_type": "display_data"
        }
      ],
      "source": [
        "import matplotlib.pyplot as plt\n",
        "\n",
        "# Lấy thông tin từ callback tùy chỉnh\n",
        "mae = custom_metrics_callback.mae\n",
        "mse = custom_metrics_callback.mse\n",
        "rmse = custom_metrics_callback.rmse\n",
        "r_squared = custom_metrics_callback.r_squared\n",
        "\n",
        "# Vẽ biểu đồ\n",
        "epochs = range(1, len(mae) + 1)\n",
        "plt.plot(epochs, mae, 'bo', label='MAE')\n",
        "plt.plot(epochs, mse, 'r', label='MSE')\n",
        "plt.plot(epochs, rmse, 'g', label='RMSE')\n",
        "plt.plot(epochs, r_squared, 'y', label='R-squared')\n",
        "plt.xlabel('Epochs')\n",
        "plt.ylabel('Metrics')\n",
        "plt.title('Evaluation metrics')\n",
        "plt.legend()\n",
        "plt.show()\n"
      ]
    },
    {
      "cell_type": "markdown",
      "metadata": {
        "id": "S3U4yNWx9hE4"
      },
      "source": [
        "# Confusion matrix"
      ]
    },
    {
      "cell_type": "code",
      "execution_count": null,
      "metadata": {
        "colab": {
          "base_uri": "https://localhost:8080/",
          "height": 582
        },
        "id": "AP1V6SCk9hE5",
        "outputId": "08e41a80-7a4a-4619-8125-ecc371368d19"
      },
      "outputs": [
        {
          "name": "stdout",
          "output_type": "stream",
          "text": [
            "153/153 [==============================] - 0s 946us/step\n"
          ]
        },
        {
          "data": {
            "image/png": "[encoded data removed]",
            "text/plain": [
              "<Figure size 700x600 with 2 Axes>"
            ]
          },
          "metadata": {},
          "output_type": "display_data"
        },
        {
          "name": "stdout",
          "output_type": "stream",
          "text": [
            "Classification Report\n",
            "              precision    recall  f1-score   support\n",
            "\n",
            "           0       0.88      0.73      0.80      1128\n",
            "           1       0.81      0.92      0.86       799\n",
            "           2       0.89      0.98      0.93       721\n",
            "           3       0.73      0.99      0.84       725\n",
            "           4       0.94      0.82      0.88       857\n",
            "           5       1.00      0.76      0.87       635\n",
            "\n",
            "    accuracy                           0.86      4865\n",
            "   macro avg       0.87      0.87      0.86      4865\n",
            "weighted avg       0.87      0.86      0.86      4865\n",
            "\n"
          ]
        }
      ],
      "source": [
        "import pandas as pd\n",
        "import seaborn as sns\n",
        "import matplotlib.pyplot as plt\n",
        "from sklearn.metrics import confusion_matrix, classification_report\n",
        "\n",
        "def print_confusion_matrix(y_true, y_pred, report=True):\n",
        "    labels = sorted(list(set(y_true)))\n",
        "    cmx_data = confusion_matrix(y_true, y_pred, labels=labels)\n",
        "    \n",
        "    df_cmx = pd.DataFrame(cmx_data, index=labels, columns=labels)\n",
        " \n",
        "    fig, ax = plt.subplots(figsize=(7, 6))\n",
        "    sns.heatmap(df_cmx, annot=True, fmt='g' ,square=False)\n",
        "    ax.set_ylim(len(set(y_true)), 0)\n",
        "    plt.show()\n",
        "    \n",
        "    if report:\n",
        "        print('Classification Report')\n",
        "        print(classification_report(y_test, y_pred))\n",
        "\n",
        "Y_pred = model.predict(X_test)\n",
        "y_pred = np.argmax(Y_pred, axis=1)\n",
        "\n",
        "print_confusion_matrix(y_test, y_pred)"
      ]
    },
    {
      "cell_type": "markdown",
      "metadata": {
        "id": "FNP6aqzc9hE5"
      },
      "source": [
        "# Convert to model for Tensorflow-Lite"
      ]
    },
    {
      "cell_type": "code",
      "execution_count": null,
      "metadata": {
        "id": "ODjnYyld9hE6"
      },
      "outputs": [],
      "source": [
        "# Save as a model dedicated to inference\n",
        "model.save(model_save_path, include_optimizer=False)"
      ]
    },
    {
      "cell_type": "code",
      "execution_count": null,
      "metadata": {
        "colab": {
          "base_uri": "https://localhost:8080/"
        },
        "id": "zRfuK8Y59hE6",
        "outputId": "a4ca585c-b5d5-4244-8291-8674063209bb"
      },
      "outputs": [
        {
          "name": "stdout",
          "output_type": "stream",
          "text": [
            "INFO:tensorflow:Assets written to: C:\\Users\\ADMIN\\AppData\\Local\\Temp\\tmpb5lf75ah\\assets\n"
          ]
        },
        {
          "data": {
            "text/plain": [
              "6660"
            ]
          },
          "execution_count": 37,
          "metadata": {},
          "output_type": "execute_result"
        }
      ],
      "source": [
        "# Transform model (quantization)\n",
        "\n",
        "converter = tf.lite.TFLiteConverter.from_keras_model(model)\n",
        "converter.optimizations = [tf.lite.Optimize.DEFAULT]\n",
        "tflite_quantized_model = converter.convert()\n",
        "\n",
        "open(tflite_save_path, 'wb').write(tflite_quantized_model)"
      ]
    },
    {
      "cell_type": "markdown",
      "metadata": {
        "id": "CHBPBXdx9hE6"
      },
      "source": [
        "# Inference test"
      ]
    },
    {
      "cell_type": "code",
      "execution_count": null,
      "metadata": {
        "id": "mGAzLocO9hE7"
      },
      "outputs": [],
      "source": [
        "interpreter = tf.lite.Interpreter(model_path=tflite_save_path)\n",
        "interpreter.allocate_tensors()"
      ]
    },
    {
      "cell_type": "code",
      "execution_count": null,
      "metadata": {
        "id": "oQuDK8YS9hE7"
      },
      "outputs": [],
      "source": [
        "# Get I / O tensor\n",
        "input_details = interpreter.get_input_details()\n",
        "output_details = interpreter.get_output_details()"
      ]
    },
    {
      "cell_type": "code",
      "execution_count": null,
      "metadata": {
        "id": "2_ixAf_l9hE7"
      },
      "outputs": [],
      "source": [
        "interpreter.set_tensor(input_details[0]['index'], np.array([X_test[0]]))"
      ]
    },
    {
      "cell_type": "code",
      "execution_count": null,
      "metadata": {
        "colab": {
          "base_uri": "https://localhost:8080/"
        },
        "id": "s4FoAnuc9hE7",
        "outputId": "91f18257-8d8b-4ef3-c558-e9b5f94fabbf",
        "scrolled": true
      },
      "outputs": [
        {
          "name": "stdout",
          "output_type": "stream",
          "text": [
            "CPU times: total: 0 ns\n",
            "Wall time: 0 ns\n"
          ]
        }
      ],
      "source": [
        "%%time\n",
        "# Inference implementation\n",
        "interpreter.invoke()\n",
        "tflite_results = interpreter.get_tensor(output_details[0]['index'])"
      ]
    },
    {
      "cell_type": "code",
      "execution_count": null,
      "metadata": {
        "colab": {
          "base_uri": "https://localhost:8080/"
        },
        "id": "vONjp19J9hE8",
        "outputId": "77205e24-fd00-42c4-f7b6-e06e527c2cba"
      },
      "outputs": [
        {
          "name": "stdout",
          "output_type": "stream",
          "text": [
            "[0.01278692 0.34727207 0.2948489  0.00879214 0.3281068  0.00819317]\n",
            "1\n"
          ]
        }
      ],
      "source": [
        "print(np.squeeze(tflite_results))\n",
        "print(np.argmax(np.squeeze(tflite_results)))"
      ]
    }
  ],
  "metadata": {
    "accelerator": "GPU",
    "colab": {
      "collapsed_sections": [],
      "name": "keypoint_classification_EN.ipynb",
      "provenance": [],
      "toc_visible": true
    },
    "kernelspec": {
      "display_name": "Python 3",
      "language": "python",
      "name": "python3"
    },
    "language_info": {
      "codemirror_mode": {
        "name": "ipython",
        "version": 3
      },
      "file_extension": ".py",
      "mimetype": "text/x-python",
      "name": "python",
      "nbconvert_exporter": "python",
      "pygments_lexer": "ipython3",
      "version": "3.8.17"
    }
  },
  "nbformat": 4,
  "nbformat_minor": 0
}
